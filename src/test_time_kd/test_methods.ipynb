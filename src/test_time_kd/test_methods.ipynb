{
 "cells": [
  {
   "cell_type": "code",
   "execution_count": 1,
   "metadata": {},
   "outputs": [],
   "source": [
    "from datasets import *\n",
    "from train import *\n",
    "from torchvision import datasets, transforms, models\n",
    "from matplotlib.pyplot import figure\n",
    "from tqdm import tqdm"
   ]
  },
  {
   "cell_type": "code",
   "execution_count": 2,
   "metadata": {},
   "outputs": [],
   "source": [
    "model = models.mobilenet_v3_large(weights='DEFAULT').to('cuda')\n",
    "# model64 = models.mobilenet_v3_large()\n",
    "# model64.load_state_dict(torch.load(\"best_modelsv3/best_batch_i1081020.pth\")['model_state_dict'])\n",
    "model128 = models.mobilenet_v3_small()\n",
    "model128.classifier[0] = torch.nn.Linear(576,1280)\n",
    "model128.classifier[3] = torch.nn.Linear(1280,1000)\n",
    "model128.load_state_dict(torch.load(\"best_batch_i162153.pth\")['model_state_dict'])\n",
    "# model128 = models.mobilenet_v3_small()\n",
    "# model128.classifier[0] = torch.nn.Linear(576,1280)\n",
    "# model128.classifier[3] = torch.nn.Linear(1280,1000)\n",
    "# model128.load_state_dict(torch.load(\"mnv3s/best_batch_i342323v3_small_frozen_head1676029877.1912067.pth\")['model_state_dict'])\n",
    "model128.to('cuda')\n",
    "model.eval()\n",
    "model128.eval()\n",
    "\n",
    "activationT = {}\n",
    "activationS = {}\n",
    "def get_activationT(name):\n",
    "    def hook(model, input, output):\n",
    "        activationT[name] = output.detach()\n",
    "    return hook\n",
    "def get_activationS(name):\n",
    "    def hook(model, input, output):\n",
    "        activationS[name] = output.detach()\n",
    "    return hook\n",
    "\n",
    "model.classifier[0].register_forward_hook(get_activationT('emb'))\n",
    "model128.classifier[0].register_forward_hook(get_activationS('emb'))\n",
    "corruptions = ['gaussian_noise','impulse_noise','shot_noise','defocus_blur','glass_blur','motion_blur','zoom_blur','snow','frost','fog','brightness','contrast','elastic_transform','jpeg_compression','pixelate']"
   ]
  },
  {
   "cell_type": "code",
   "execution_count": 3,
   "metadata": {},
   "outputs": [],
   "source": [
    "clean_embds,clean_labels,clean_preds = torch.load(\"embds/clean224.pt\")\n",
    "clean_embds128,clean_labels128,clean_preds128 = torch.load(\"embds/clean128.pt\")\n",
    "corr_embds = []\n",
    "corr_labels = []\n",
    "corr_preds = []\n",
    "corr_embds128 = []\n",
    "corr_labels128 = []\n",
    "corr_preds128 = []\n",
    "corr_embds64 = []\n",
    "corr_labels64 = []\n",
    "corr_preds64 = []\n",
    "for i,corr in enumerate(corruptions):\n",
    "    e,l,p = torch.load(\"embds/corr224_\"+corr+\".pt\")\n",
    "    e128,l128,p128 = torch.load(\"embds/corr128_\"+corr+\".pt\")\n",
    "    # e64,l64,p64 = torch.load(\"embds/corr64_\"+corr+\".pt\")\n",
    "    corr_embds.append(e)\n",
    "    corr_labels.append(l)\n",
    "    corr_preds.append(p)\n",
    "    corr_embds128.append(e128)\n",
    "    corr_labels128.append(l128)\n",
    "    corr_preds128.append(p128)\n",
    "    # corr_embds64.append(e64)\n",
    "    # corr_labels64.append(l64)\n",
    "    # corr_preds64.append(p64)\n",
    "\n",
    "clean_results128 = (torch.argmax(clean_preds128,dim=1) == clean_labels)\n",
    "clean_results = (torch.argmax(clean_preds,dim=1) == clean_labels)\n",
    "\n",
    "class FC(torch.nn.Module):\n",
    "    def __init__(self,feats):\n",
    "      super(FC, self).__init__()\n",
    "      self.c = torch.nn.Linear(feats,1000)\n",
    "    def forward(self,x):\n",
    "      return self.c(x)\n",
    "fcs = FC(1280).eval()\n",
    "fct = FC(1280).eval()\n",
    "with torch.no_grad():\n",
    "  fcs.c.weight[:,:] = model128.classifier[3].weight[:,:]\n",
    "  fcs.c.bias[:] = model128.classifier[3].bias[:]\n",
    "  fct.c.weight[:,:] = model.classifier[3].weight[:,:]\n",
    "  fct.c.bias[:] = model.classifier[3].bias[:]"
   ]
  },
  {
   "cell_type": "code",
   "execution_count": 72,
   "metadata": {},
   "outputs": [],
   "source": [
    "'''\n",
    "methods should follow a modular structure by inheriting from\n",
    "the abstract base class 'Policy'.\n",
    "'''\n",
    "\n",
    "from abc import ABC, abstractmethod\n",
    "CHOOSE_STUDENT = 0\n",
    "CHOOSE_TEACHER = 1 # assumes executed student first\n",
    "CHOOSE_TEACHER_ONLY = 2 # assumes picked teacher without executing student\n",
    "STUDENT_TEACHER_KD_HEAD = 3 # assumes execute both student and teacher and backprop through student head\n",
    "STUDENT_TEACHER_KD_FULL = 4 # assumes execute both student and teacher and backprop through entire student\n",
    "\n",
    "class Policy(ABC):\n",
    "    # provide the student cost, teacher cost, and budget for the internal parameters\n",
    "    # calling this repeatedlyshould reset the internal parameters\n",
    "    @abstractmethod\n",
    "    def initialize(self,student_cost: int, teacher_cost: int, budget: int):\n",
    "        pass\n",
    "\n",
    "    # execute the policy by giving it the next sample (student embedding tensor)\n",
    "    # the policy returns a bool: 0 for student, 1 for teacher/label\n",
    "    @abstractmethod\n",
    "    def execute(self, next_sample: torch.Tensor, idx: int) -> int:\n",
    "        pass\n",
    "\n",
    "    # name of the policy\n",
    "    @abstractmethod\n",
    "    def __str__(self):\n",
    "        pass\n",
    "\n",
    "\n",
    "class EvalPolicy():\n",
    "    # takes in a list of policies (type Policy)\n",
    "    def __init__(self,policies: list, input_samples: torch.Tensor, student_results: torch.Tensor, \\\n",
    "                teacher_results: torch.Tensor, student_cost: int, teacher_cost: int, budgets: torch.Tensor) -> None:\n",
    "        # input parameters\n",
    "        self.policies = policies\n",
    "        self.input_samples = input_samples\n",
    "        self.student_results = student_results\n",
    "        self.teacher_results = teacher_results\n",
    "        self.student_cost = student_cost\n",
    "        self.teacher_cost = teacher_cost\n",
    "        self.budgets = budgets\n",
    "        self.rand_idxs = torch.randperm(len(input_samples))\n",
    "\n",
    "        # additional variables\n",
    "        self.decisions = torch.zeros((len(policies),len(budgets),len(input_samples)))\n",
    "        self.costs = torch.zeros((len(policies),len(budgets),len(input_samples)))\n",
    "        self.results = torch.zeros((len(policies),len(budgets),len(input_samples)))\n",
    "\n",
    "        self.final_costs = torch.zeros((len(policies),len(budgets)))\n",
    "        self.final_accuracies = torch.zeros((len(policies),len(budgets)))\n",
    "    \n",
    "    def evaluate(self):\n",
    "        print(\"# ===================== Starting Evaluation ===================== #\")\n",
    "        # evaluate each policy\n",
    "        for policy_i,policy in enumerate(self.policies):\n",
    "            print(f\"Policy: {policy} ({policy_i+1}/{len(self.policies)})\")\n",
    "            for budget_i,budget in enumerate(self.budgets):\n",
    "                policy.initialize(self.student_cost,self.teacher_cost,budget)\n",
    "                print(f\"Budget: {budget} ({budget_i+1}/{len(self.budgets)})\")\n",
    "                # for each policy go through evaluation process\n",
    "                for sample_i,sample in enumerate(tqdm(self.input_samples)):\n",
    "                    # get the policy decision\n",
    "                    decision = policy.execute(self.input_samples[self.rand_idxs[sample_i]],self.rand_idxs[sample_i])\n",
    "                    self.decisions[policy_i,budget_i,sample_i] = (decision > 0)\n",
    "\n",
    "                    # update the policy cost\n",
    "                    if decision == CHOOSE_STUDENT:\n",
    "                        self.costs[policy_i,budget_i,sample_i] += self.student_cost\n",
    "                    elif decision == CHOOSE_TEACHER:\n",
    "                        self.costs[policy_i,budget_i,sample_i] += self.student_cost + self.teacher_cost\n",
    "                    elif decision == CHOOSE_TEACHER_ONLY:\n",
    "                        self.costs[policy_i,budget_i,sample_i] += self.teacher_cost\n",
    "                    elif decision == STUDENT_TEACHER_KD_HEAD:\n",
    "                        self.costs[policy_i,budget_i,sample_i] += self.teacher_cost + 1.1*self.student_cost\n",
    "\n",
    "                    # check that the policy stays in budget\n",
    "                    assert torch.sum(self.costs[policy_i,budget_i,:sample_i+1])/(sample_i+1) <= budget+0.01, \\\n",
    "                        f\"Policy {policy} has average cost {sum(self.costs[policy_i,budget_i,:sample_i+1])/(sample_i+1)} which exceeds budget {budget}.\"\n",
    "                    self.results[policy_i,budget_i,sample_i] = self.student_results[self.rand_idxs[sample_i]] if (decision == CHOOSE_STUDENT) else self.teacher_results[self.rand_idxs[sample_i]]\n",
    "\n",
    "                # after evaluating the policy, update its final cost and accuracy\n",
    "                self.final_costs[policy_i,budget_i] = torch.sum(self.costs[policy_i,budget_i,:])/len(self.input_samples)\n",
    "                self.final_accuracies[policy_i,budget_i] = torch.sum(self.results[policy_i,budget_i,:])/len(self.input_samples)\n",
    "\n",
    "    def plot_results(self):\n",
    "        fig, ax = plt.subplots()\n",
    "        cycle = plt.rcParams['axes.prop_cycle'].by_key()['color']\n",
    "        legends = []\n",
    "        handles_ = [[] for i in range(len(self.policies)+1)]\n",
    "        for policy_i,policy in enumerate(self.policies):\n",
    "            plt.plot(self.final_costs[policy_i,:],self.final_accuracies[policy_i,:],c=cycle[policy_i])\n",
    "            for budget_i, budget in enumerate(self.budgets):\n",
    "                if policy_i == 0:\n",
    "                    handles_[policy_i].append(ax.axvline(budget,label=\"budget: \"+str(budget),c='k',alpha=(budget_i+1)/(len(self.budgets)+1)))\n",
    "                handles_[policy_i+1].append(ax.scatter(self.final_costs[policy_i,budget_i],self.final_accuracies[policy_i,budget_i],label=str(policy)+\": \"+str(budget),c=cycle[policy_i],alpha=(budget_i+1)/(len(self.budgets)+1),edgecolors='black'))\n",
    "            legends.append(ax.legend(handles=handles_[policy_i+1],bbox_to_anchor=(1.3+0.45*(policy_i+1),1.05)))\n",
    "        ax.legend(handles=handles_[0],bbox_to_anchor=(1.3,1.05))\n",
    "        for policy_i,policy in enumerate(self.policies):\n",
    "            ax.add_artist(legends[policy_i])\n",
    "        plt.title(\"Cost vs Accuracy\")\n",
    "        plt.xlabel(\"Cost MACs (M)\")\n",
    "        plt.ylabel(\"Accuracy\")\n",
    "        \n"
   ]
  },
  {
   "cell_type": "code",
   "execution_count": 58,
   "metadata": {},
   "outputs": [],
   "source": [
    "class RandomPolicy(Policy):\n",
    "    def initialize(self,student_cost,teacher_cost, budget) -> None:\n",
    "        # save policy variables\n",
    "        self.student_cost = student_cost\n",
    "        self.teacher_cost = teacher_cost\n",
    "        self.budget = budget\n",
    "\n",
    "        # set policy threshold based off of budget\n",
    "        # p*student_cost + (1-p)*teacher_cost <= budget\n",
    "        self.ps = (teacher_cost-budget)/(teacher_cost-student_cost)\n",
    "\n",
    "        # keep track of avg cost internally so don't exceed budget\n",
    "        self.total_cost = 0\n",
    "        self.total_cost_counts = 0\n",
    "\n",
    "    def execute(self, next_sample: torch.Tensor, idx: int) -> bool:\n",
    "        # make decision randomly\n",
    "        decision = torch.rand(1) > self.ps\n",
    "\n",
    "        # update cost\n",
    "        new_total_cost = (self.total_cost+self.student_cost) if (decision == 0) else (self.total_cost+self.teacher_cost)\n",
    "\n",
    "        # if exceed threshold, then choose student\n",
    "        if new_total_cost/(self.total_cost_counts+1) > self.budget:\n",
    "            self.total_cost += self.student_cost\n",
    "            self.total_cost_counts += 1\n",
    "            return CHOOSE_STUDENT\n",
    "        \n",
    "        self.total_cost = new_total_cost\n",
    "        self.total_cost_counts += 1\n",
    "\n",
    "        if decision == 0:\n",
    "            return CHOOSE_STUDENT\n",
    "        else:\n",
    "            return CHOOSE_TEACHER_ONLY\n",
    "\n",
    "    def __str__(self):\n",
    "        return \"Random Policy\""
   ]
  },
  {
   "cell_type": "code",
   "execution_count": 59,
   "metadata": {},
   "outputs": [],
   "source": [
    "class ConfidencePolicy(Policy):\n",
    "    def __init__(self,model) -> None:\n",
    "        self.model = model.eval().to('cuda')\n",
    "\n",
    "    def initialize(self,student_cost,teacher_cost, budget) -> None:\n",
    "        # save policy variables\n",
    "        self.student_cost = student_cost\n",
    "        self.teacher_cost = teacher_cost\n",
    "        self.budget = budget\n",
    "\n",
    "        # set policy threshold based off of budget\n",
    "        # p*student_cost + (1-p)*(teacher_cost+student_cost) <= budget\n",
    "        self.ps = (student_cost+teacher_cost-budget)/(teacher_cost)\n",
    "\n",
    "        # keep track of confidence distribution\n",
    "        self.n_bins = 30\n",
    "        self.bin_boundaries = torch.linspace(0, 1, self.n_bins+1)\n",
    "        self.bin_lowers = self.bin_boundaries[:-1]\n",
    "        self.bin_uppers = self.bin_boundaries[1:]\n",
    "        self.bin_marks = torch.cat([self.bin_lowers,self.bin_uppers[-1].unsqueeze(0)])\n",
    "        self.conf_bins = torch.zeros(self.n_bins)\n",
    "        self.conf_counts = 0\n",
    "\n",
    "        # keep track of avg cost internall so don't exceed budget\n",
    "        self.total_cost = 0\n",
    "        self.total_cost_counts = 0\n",
    "\n",
    "    def execute(self, next_sample: torch.Tensor, idx: int) -> bool:\n",
    "        with torch.no_grad():\n",
    "            conf = torch.max(torch.nn.functional.softmax(self.model(next_sample.unsqueeze(0).to('cuda')).cpu().view(-1),dim=0))\n",
    "        # update confidence distribution\n",
    "        bin = torch.logical_and(conf > self.bin_lowers,conf <= self.bin_uppers).nonzero()\n",
    "        self.conf_bins *= self.conf_counts\n",
    "        self.conf_bins[bin] += 1\n",
    "        self.conf_counts += 1\n",
    "        self.conf_bins /= self.conf_counts\n",
    "\n",
    "        # get the ccdf to get the threshold\n",
    "        conf_ccdf = torch.tensor([sum(self.conf_bins[len(self.conf_bins)-i:len(self.conf_bins)]) for i in range(len(self.conf_bins)+1)])\n",
    "        conf_ccdf[-1] = 1.0\n",
    "        bin_thresh = self.n_bins - (conf_ccdf >= self.ps).nonzero().view(-1).min()\n",
    "        threshold = self.bin_marks[bin_thresh]\n",
    "\n",
    "        # make selection\n",
    "        if conf >= threshold:\n",
    "            self.total_cost += self.student_cost\n",
    "            self.total_cost_counts += 1\n",
    "            return CHOOSE_STUDENT\n",
    "        else:\n",
    "            # update cost\n",
    "            new_total_cost = (self.total_cost+self.student_cost+self.teacher_cost)\n",
    "\n",
    "            # if exceed threshold, then choose student\n",
    "            if new_total_cost/(self.total_cost_counts+1) > self.budget:\n",
    "                self.total_cost += self.student_cost\n",
    "                self.total_cost_counts += 1\n",
    "                return CHOOSE_STUDENT\n",
    "\n",
    "            self.total_cost = new_total_cost\n",
    "            self.total_cost_counts += 1\n",
    "            return CHOOSE_TEACHER\n",
    "\n",
    "    def __str__(self):\n",
    "        return \"Confidence Policy\""
   ]
  },
  {
   "cell_type": "code",
   "execution_count": 60,
   "metadata": {},
   "outputs": [],
   "source": [
    "class EntropyPolicy(Policy):\n",
    "    def __init__(self,model) -> None:\n",
    "        self.model = model.eval().to('cuda')\n",
    "\n",
    "    def initialize(self,student_cost,teacher_cost, budget) -> None:\n",
    "        # save policy variables\n",
    "        self.student_cost = student_cost\n",
    "        self.teacher_cost = teacher_cost\n",
    "        self.budget = budget\n",
    "\n",
    "        # set policy threshold based off of budget\n",
    "        # p*student_cost + (1-p)*(teacher_cost+student_cost) <= budget\n",
    "        self.ps = (student_cost+teacher_cost-budget)/(teacher_cost)\n",
    "\n",
    "        # keep track of confidence distribution\n",
    "        self.n_bins = 30\n",
    "        self.bin_boundaries = torch.linspace(0, 1, 20+1)\n",
    "        self.bin_boundaries = torch.cat([self.bin_boundaries[:-1],torch.linspace(1, 7, 10+1)])\n",
    "        self.bin_lowers = self.bin_boundaries[:-1]\n",
    "        self.bin_uppers = self.bin_boundaries[1:]\n",
    "        self.bin_marks = torch.cat([self.bin_lowers,self.bin_uppers[-1].unsqueeze(0)])\n",
    "        self.ent_bins = torch.zeros(self.n_bins)\n",
    "        self.ent_counts = 0\n",
    "\n",
    "        # keep track of avg cost internall so don't exceed budget\n",
    "        self.total_cost = 0\n",
    "        self.total_cost_counts = 0\n",
    "\n",
    "    def execute(self, next_sample: torch.Tensor, idx: int) -> bool:\n",
    "        with torch.no_grad():\n",
    "            ent = torch.distributions.Categorical(\n",
    "                    probs=(torch.nn.functional.softmax(self.model(next_sample.unsqueeze(0).to('cuda')).cpu().view(-1),dim=0))\n",
    "                ).entropy()\n",
    "        # update confidence distribution\n",
    "        bin = torch.logical_and(ent > self.bin_lowers,ent <= self.bin_uppers).nonzero()\n",
    "        self.ent_bins *= self.ent_counts\n",
    "        self.ent_bins[bin] += 1\n",
    "        self.ent_counts += 1\n",
    "        self.ent_bins /= self.ent_counts\n",
    "\n",
    "        # get the ccdf to get the threshold\n",
    "        ent_cdf = torch.tensor([sum(self.ent_bins[:i+1]) for i in range(len(self.ent_bins)+1)])\n",
    "        ent_cdf[-1] = 1.0\n",
    "        bin_thresh = (ent_cdf >= self.ps).nonzero().view(-1).min() \n",
    "        threshold = self.bin_marks[bin_thresh]\n",
    "\n",
    "        # make selection\n",
    "        if ent <= threshold:\n",
    "            self.total_cost += self.student_cost\n",
    "            self.total_cost_counts += 1\n",
    "            return CHOOSE_STUDENT\n",
    "        else:\n",
    "            # update cost\n",
    "            new_total_cost = (self.total_cost+self.student_cost+self.teacher_cost)\n",
    "\n",
    "            # if exceed threshold, then choose student\n",
    "            if new_total_cost/(self.total_cost_counts+1) > self.budget:\n",
    "                self.total_cost += self.student_cost\n",
    "                self.total_cost_counts += 1\n",
    "                return CHOOSE_STUDENT\n",
    "\n",
    "            self.total_cost = new_total_cost\n",
    "            self.total_cost_counts += 1\n",
    "            return CHOOSE_TEACHER\n",
    "\n",
    "    def __str__(self):\n",
    "        return \"Entropy Policy\""
   ]
  },
  {
   "cell_type": "code",
   "execution_count": 69,
   "metadata": {},
   "outputs": [],
   "source": [
    "class KDHeadPolicy(Policy):\n",
    "    def __init__(self,model,lr,grad_accum,temp) -> None:\n",
    "        self.og_model = model\n",
    "        self.lr = lr\n",
    "        self.grad_accum = grad_accum\n",
    "        self.temp = temp\n",
    "\n",
    "    def initialize(self,student_cost,teacher_cost, budget) -> None:\n",
    "        # for training\n",
    "        self.model = copy.deepcopy(self.og_model).to('cuda')\n",
    "        self.opt = torch.optim.SGD(params=self.model.parameters(),lr=self.lr)\n",
    "        self.update_iter = 0\n",
    "\n",
    "        # save policy variables\n",
    "        self.student_cost = student_cost\n",
    "        self.teacher_cost = teacher_cost\n",
    "        self.budget = budget\n",
    "\n",
    "        # set policy threshold based off of budget\n",
    "        # p*student_cost + (1-p)*(teacher_cost+1.1*student_cost) <= budget\n",
    "        #ps + t + 1.1s -pt -1.1ps <= b p(0.1s+t) >= t+1.1s-b\n",
    "        self.ps = (1.1*student_cost+teacher_cost-budget)/(teacher_cost+0.1*student_cost)\n",
    "\n",
    "        # keep track of confidence distribution\n",
    "        self.n_bins = 30\n",
    "        self.bin_boundaries = torch.linspace(0, 1, self.n_bins+1)\n",
    "        self.bin_lowers = self.bin_boundaries[:-1]\n",
    "        self.bin_uppers = self.bin_boundaries[1:]\n",
    "        self.bin_marks = torch.cat([self.bin_lowers,self.bin_uppers[-1].unsqueeze(0)])\n",
    "        self.conf_bins = torch.zeros(self.n_bins)\n",
    "        self.conf_counts = 0\n",
    "\n",
    "        # keep track of avg cost internall so don't exceed budget\n",
    "        self.total_cost = 0\n",
    "        self.total_cost_counts = 0\n",
    "\n",
    "    def execute(self, next_sample: torch.Tensor, idx: int) -> bool:\n",
    "        out = self.model(next_sample.unsqueeze(0).to('cuda'))\n",
    "        with torch.no_grad():\n",
    "            conf = torch.max(torch.nn.functional.softmax(out.cpu().view(-1),dim=0))\n",
    "\n",
    "        # update confidence distribution\n",
    "        bin = torch.logical_and(conf > self.bin_lowers,conf <= self.bin_uppers).nonzero()\n",
    "        self.conf_bins *= self.conf_counts\n",
    "        self.conf_bins[bin] += 1\n",
    "        self.conf_counts += 1\n",
    "        self.conf_bins /= self.conf_counts\n",
    "\n",
    "        # get the ccdf to get the threshold\n",
    "        conf_ccdf = torch.tensor([sum(self.conf_bins[len(self.conf_bins)-i:len(self.conf_bins)]) for i in range(len(self.conf_bins)+1)])\n",
    "        conf_ccdf[-1] = 1.0\n",
    "        bin_thresh = self.n_bins - (conf_ccdf >= self.ps).nonzero().view(-1).min()\n",
    "        threshold = self.bin_marks[bin_thresh]\n",
    "\n",
    "        # make selection\n",
    "        if conf >= threshold:\n",
    "            self.total_cost += self.student_cost\n",
    "            self.total_cost_counts += 1\n",
    "            return CHOOSE_STUDENT\n",
    "        else:\n",
    "            # update cost\n",
    "            new_total_cost = (self.total_cost+1.1*self.student_cost+self.teacher_cost)\n",
    "\n",
    "            # if exceed threshold, then choose student\n",
    "            if new_total_cost/(self.total_cost_counts+1) > self.budget:\n",
    "                self.total_cost += self.student_cost\n",
    "                self.total_cost_counts += 1\n",
    "                return CHOOSE_STUDENT\n",
    "\n",
    "            self.total_cost = new_total_cost\n",
    "            self.total_cost_counts += 1\n",
    "\n",
    "            # update student model\n",
    "            KD_loss = nn.KLDivLoss()(F.log_softmax(out/self.temp, dim=0),\n",
    "                             F.softmax(corr_preds[0][idx].to('cuda')/self.temp, dim=0))\n",
    "            KD_loss.backward()\n",
    "\n",
    "            if ((self.update_iter + 1) % self.grad_accum) == 0:\n",
    "                self.opt.step()\n",
    "                self.opt.zero_grad()\n",
    "                self.update_iter = 0\n",
    "            else:\n",
    "                self.update_iter += 1\n",
    "\n",
    "            return STUDENT_TEACHER_KD_HEAD\n",
    "\n",
    "    def __str__(self):\n",
    "        return \"KD Head Policy\""
   ]
  },
  {
   "cell_type": "code",
   "execution_count": 73,
   "metadata": {},
   "outputs": [
    {
     "name": "stdout",
     "output_type": "stream",
     "text": [
      "# ===================== Starting Evaluation ===================== #\n",
      "Policy: Random Policy (1/4)\n",
      "Budget: 1.0 (1/10)\n"
     ]
    },
    {
     "name": "stderr",
     "output_type": "stream",
     "text": [
      "100%|██████████| 50000/50000 [00:02<00:00, 19026.68it/s]\n"
     ]
    },
    {
     "name": "stdout",
     "output_type": "stream",
     "text": [
      "Budget: 2.0 (2/10)\n"
     ]
    },
    {
     "name": "stderr",
     "output_type": "stream",
     "text": [
      "100%|██████████| 50000/50000 [00:02<00:00, 18392.01it/s]\n"
     ]
    },
    {
     "name": "stdout",
     "output_type": "stream",
     "text": [
      "Budget: 3.0 (3/10)\n"
     ]
    },
    {
     "name": "stderr",
     "output_type": "stream",
     "text": [
      "100%|██████████| 50000/50000 [00:02<00:00, 19067.29it/s]\n"
     ]
    },
    {
     "name": "stdout",
     "output_type": "stream",
     "text": [
      "Budget: 4.0 (4/10)\n"
     ]
    },
    {
     "name": "stderr",
     "output_type": "stream",
     "text": [
      "100%|██████████| 50000/50000 [00:02<00:00, 18959.03it/s]\n"
     ]
    },
    {
     "name": "stdout",
     "output_type": "stream",
     "text": [
      "Budget: 5.0 (5/10)\n"
     ]
    },
    {
     "name": "stderr",
     "output_type": "stream",
     "text": [
      "100%|██████████| 50000/50000 [00:02<00:00, 18578.64it/s]\n"
     ]
    },
    {
     "name": "stdout",
     "output_type": "stream",
     "text": [
      "Budget: 6.0 (6/10)\n"
     ]
    },
    {
     "name": "stderr",
     "output_type": "stream",
     "text": [
      "100%|██████████| 50000/50000 [00:02<00:00, 18951.05it/s]\n"
     ]
    },
    {
     "name": "stdout",
     "output_type": "stream",
     "text": [
      "Budget: 7.0 (7/10)\n"
     ]
    },
    {
     "name": "stderr",
     "output_type": "stream",
     "text": [
      "100%|██████████| 50000/50000 [00:02<00:00, 18516.17it/s]\n"
     ]
    },
    {
     "name": "stdout",
     "output_type": "stream",
     "text": [
      "Budget: 8.0 (8/10)\n"
     ]
    },
    {
     "name": "stderr",
     "output_type": "stream",
     "text": [
      "100%|██████████| 50000/50000 [00:02<00:00, 18937.06it/s]\n"
     ]
    },
    {
     "name": "stdout",
     "output_type": "stream",
     "text": [
      "Budget: 9.0 (9/10)\n"
     ]
    },
    {
     "name": "stderr",
     "output_type": "stream",
     "text": [
      "100%|██████████| 50000/50000 [00:02<00:00, 18876.34it/s]\n"
     ]
    },
    {
     "name": "stdout",
     "output_type": "stream",
     "text": [
      "Budget: 10.0 (10/10)\n"
     ]
    },
    {
     "name": "stderr",
     "output_type": "stream",
     "text": [
      "100%|██████████| 50000/50000 [00:02<00:00, 18526.63it/s]\n"
     ]
    },
    {
     "name": "stdout",
     "output_type": "stream",
     "text": [
      "Policy: Confidence Policy (2/4)\n",
      "Budget: 1.0 (1/10)\n"
     ]
    },
    {
     "name": "stderr",
     "output_type": "stream",
     "text": [
      "100%|██████████| 50000/50000 [00:55<00:00, 902.75it/s]\n"
     ]
    },
    {
     "name": "stdout",
     "output_type": "stream",
     "text": [
      "Budget: 2.0 (2/10)\n"
     ]
    },
    {
     "name": "stderr",
     "output_type": "stream",
     "text": [
      "100%|██████████| 50000/50000 [00:55<00:00, 901.78it/s]\n"
     ]
    },
    {
     "name": "stdout",
     "output_type": "stream",
     "text": [
      "Budget: 3.0 (3/10)\n"
     ]
    },
    {
     "name": "stderr",
     "output_type": "stream",
     "text": [
      "100%|██████████| 50000/50000 [00:55<00:00, 896.79it/s]\n"
     ]
    },
    {
     "name": "stdout",
     "output_type": "stream",
     "text": [
      "Budget: 4.0 (4/10)\n"
     ]
    },
    {
     "name": "stderr",
     "output_type": "stream",
     "text": [
      "100%|██████████| 50000/50000 [00:55<00:00, 901.32it/s]\n"
     ]
    },
    {
     "name": "stdout",
     "output_type": "stream",
     "text": [
      "Budget: 5.0 (5/10)\n"
     ]
    },
    {
     "name": "stderr",
     "output_type": "stream",
     "text": [
      "100%|██████████| 50000/50000 [00:55<00:00, 902.50it/s]\n"
     ]
    },
    {
     "name": "stdout",
     "output_type": "stream",
     "text": [
      "Budget: 6.0 (6/10)\n"
     ]
    },
    {
     "name": "stderr",
     "output_type": "stream",
     "text": [
      "100%|██████████| 50000/50000 [00:55<00:00, 899.00it/s]\n"
     ]
    },
    {
     "name": "stdout",
     "output_type": "stream",
     "text": [
      "Budget: 7.0 (7/10)\n"
     ]
    },
    {
     "name": "stderr",
     "output_type": "stream",
     "text": [
      "100%|██████████| 50000/50000 [00:55<00:00, 901.97it/s]\n"
     ]
    },
    {
     "name": "stdout",
     "output_type": "stream",
     "text": [
      "Budget: 8.0 (8/10)\n"
     ]
    },
    {
     "name": "stderr",
     "output_type": "stream",
     "text": [
      "100%|██████████| 50000/50000 [00:55<00:00, 898.90it/s]\n"
     ]
    },
    {
     "name": "stdout",
     "output_type": "stream",
     "text": [
      "Budget: 9.0 (9/10)\n"
     ]
    },
    {
     "name": "stderr",
     "output_type": "stream",
     "text": [
      "100%|██████████| 50000/50000 [00:55<00:00, 902.44it/s]\n"
     ]
    },
    {
     "name": "stdout",
     "output_type": "stream",
     "text": [
      "Budget: 10.0 (10/10)\n"
     ]
    },
    {
     "name": "stderr",
     "output_type": "stream",
     "text": [
      "100%|██████████| 50000/50000 [00:55<00:00, 898.76it/s]\n"
     ]
    },
    {
     "name": "stdout",
     "output_type": "stream",
     "text": [
      "Policy: Entropy Policy (3/4)\n",
      "Budget: 1.0 (1/10)\n"
     ]
    },
    {
     "name": "stderr",
     "output_type": "stream",
     "text": [
      "100%|██████████| 50000/50000 [00:59<00:00, 838.76it/s]\n"
     ]
    },
    {
     "name": "stdout",
     "output_type": "stream",
     "text": [
      "Budget: 2.0 (2/10)\n"
     ]
    },
    {
     "name": "stderr",
     "output_type": "stream",
     "text": [
      "100%|██████████| 50000/50000 [00:59<00:00, 844.51it/s]\n"
     ]
    },
    {
     "name": "stdout",
     "output_type": "stream",
     "text": [
      "Budget: 3.0 (3/10)\n"
     ]
    },
    {
     "name": "stderr",
     "output_type": "stream",
     "text": [
      "100%|██████████| 50000/50000 [00:59<00:00, 839.09it/s]\n"
     ]
    },
    {
     "name": "stdout",
     "output_type": "stream",
     "text": [
      "Budget: 4.0 (4/10)\n"
     ]
    },
    {
     "name": "stderr",
     "output_type": "stream",
     "text": [
      "100%|██████████| 50000/50000 [00:59<00:00, 843.96it/s]\n"
     ]
    },
    {
     "name": "stdout",
     "output_type": "stream",
     "text": [
      "Budget: 5.0 (5/10)\n"
     ]
    },
    {
     "name": "stderr",
     "output_type": "stream",
     "text": [
      "100%|██████████| 50000/50000 [00:59<00:00, 842.67it/s]\n"
     ]
    },
    {
     "name": "stdout",
     "output_type": "stream",
     "text": [
      "Budget: 6.0 (6/10)\n"
     ]
    },
    {
     "name": "stderr",
     "output_type": "stream",
     "text": [
      "100%|██████████| 50000/50000 [00:59<00:00, 838.88it/s]\n"
     ]
    },
    {
     "name": "stdout",
     "output_type": "stream",
     "text": [
      "Budget: 7.0 (7/10)\n"
     ]
    },
    {
     "name": "stderr",
     "output_type": "stream",
     "text": [
      "100%|██████████| 50000/50000 [00:59<00:00, 841.40it/s]\n"
     ]
    },
    {
     "name": "stdout",
     "output_type": "stream",
     "text": [
      "Budget: 8.0 (8/10)\n"
     ]
    },
    {
     "name": "stderr",
     "output_type": "stream",
     "text": [
      "100%|██████████| 50000/50000 [00:59<00:00, 839.36it/s]\n"
     ]
    },
    {
     "name": "stdout",
     "output_type": "stream",
     "text": [
      "Budget: 9.0 (9/10)\n"
     ]
    },
    {
     "name": "stderr",
     "output_type": "stream",
     "text": [
      "100%|██████████| 50000/50000 [00:59<00:00, 840.46it/s]\n"
     ]
    },
    {
     "name": "stdout",
     "output_type": "stream",
     "text": [
      "Budget: 10.0 (10/10)\n"
     ]
    },
    {
     "name": "stderr",
     "output_type": "stream",
     "text": [
      "100%|██████████| 50000/50000 [00:59<00:00, 839.97it/s]\n"
     ]
    },
    {
     "name": "stdout",
     "output_type": "stream",
     "text": [
      "Policy: KD Head Policy (4/4)\n",
      "Budget: 1.0 (1/10)\n"
     ]
    },
    {
     "name": "stderr",
     "output_type": "stream",
     "text": [
      "100%|██████████| 50000/50000 [00:56<00:00, 891.10it/s]\n"
     ]
    },
    {
     "name": "stdout",
     "output_type": "stream",
     "text": [
      "Budget: 2.0 (2/10)\n"
     ]
    },
    {
     "name": "stderr",
     "output_type": "stream",
     "text": [
      "  0%|          | 0/50000 [00:00<?, ?it/s]/home/gc28692/anaconda3/envs/cl/lib/python3.9/site-packages/torch/nn/functional.py:2916: UserWarning: reduction: 'mean' divides the total loss by both the batch size and the support size.'batchmean' divides only by the batch size, and aligns with the KL div math definition.'mean' will be changed to behave the same as 'batchmean' in the next major release.\n",
      "  warnings.warn(\n",
      "100%|██████████| 50000/50000 [00:57<00:00, 864.47it/s]\n"
     ]
    },
    {
     "name": "stdout",
     "output_type": "stream",
     "text": [
      "Budget: 3.0 (3/10)\n"
     ]
    },
    {
     "name": "stderr",
     "output_type": "stream",
     "text": [
      "100%|██████████| 50000/50000 [00:59<00:00, 842.73it/s]\n"
     ]
    },
    {
     "name": "stdout",
     "output_type": "stream",
     "text": [
      "Budget: 4.0 (4/10)\n"
     ]
    },
    {
     "name": "stderr",
     "output_type": "stream",
     "text": [
      "100%|██████████| 50000/50000 [01:00<00:00, 820.82it/s]\n"
     ]
    },
    {
     "name": "stdout",
     "output_type": "stream",
     "text": [
      "Budget: 5.0 (5/10)\n"
     ]
    },
    {
     "name": "stderr",
     "output_type": "stream",
     "text": [
      "100%|██████████| 50000/50000 [01:02<00:00, 799.68it/s]\n"
     ]
    },
    {
     "name": "stdout",
     "output_type": "stream",
     "text": [
      "Budget: 6.0 (6/10)\n"
     ]
    },
    {
     "name": "stderr",
     "output_type": "stream",
     "text": [
      "100%|██████████| 50000/50000 [01:04<00:00, 777.38it/s]\n"
     ]
    },
    {
     "name": "stdout",
     "output_type": "stream",
     "text": [
      "Budget: 7.0 (7/10)\n"
     ]
    },
    {
     "name": "stderr",
     "output_type": "stream",
     "text": [
      "100%|██████████| 50000/50000 [01:05<00:00, 765.76it/s]\n"
     ]
    },
    {
     "name": "stdout",
     "output_type": "stream",
     "text": [
      "Budget: 8.0 (8/10)\n"
     ]
    },
    {
     "name": "stderr",
     "output_type": "stream",
     "text": [
      "100%|██████████| 50000/50000 [01:07<00:00, 741.69it/s]\n"
     ]
    },
    {
     "name": "stdout",
     "output_type": "stream",
     "text": [
      "Budget: 9.0 (9/10)\n"
     ]
    },
    {
     "name": "stderr",
     "output_type": "stream",
     "text": [
      "100%|██████████| 50000/50000 [01:08<00:00, 730.23it/s]\n"
     ]
    },
    {
     "name": "stdout",
     "output_type": "stream",
     "text": [
      "Budget: 10.0 (10/10)\n"
     ]
    },
    {
     "name": "stderr",
     "output_type": "stream",
     "text": [
      "100%|██████████| 50000/50000 [01:09<00:00, 718.42it/s]\n"
     ]
    },
    {
     "data": {
      "image/png": "[encoded data removed]",
      "text/plain": [
       "<Figure size 640x480 with 1 Axes>"
      ]
     },
     "metadata": {},
     "output_type": "display_data"
    }
   ],
   "source": [
    "s_cost = 1\n",
    "t_cost = 10\n",
    "budgets = np.linspace(s_cost,t_cost,10)\n",
    "policies = []\n",
    "rp = RandomPolicy()\n",
    "cp = ConfidencePolicy(fcs)\n",
    "ep = EntropyPolicy(fcs)\n",
    "kdh = KDHeadPolicy(fcs,0.001,16,3)\n",
    "policies = [rp,cp,ep,kdh]\n",
    "\n",
    "corr_results = torch.argmax(corr_preds[0],dim=1) == corr_labels[0]\n",
    "corr_results128 = torch.argmax(corr_preds128[0],dim=1) == corr_labels[0]\n",
    "Eval = EvalPolicy(policies,corr_embds128[0],corr_results128,corr_results,s_cost,t_cost,budgets)\n",
    "\n",
    "Eval.evaluate()\n",
    "Eval.plot_results()"
   ]
  },
  {
   "cell_type": "code",
   "execution_count": 47,
   "metadata": {},
   "outputs": [],
   "source": [
    "correct_idxs = (torch.argmsax(corr_preds128[0],dim=1) == corr_labels[0]).nonzero()"
   ]
  },
  {
   "cell_type": "code",
   "execution_count": 130,
   "metadata": {},
   "outputs": [
    {
     "name": "stdout",
     "output_type": "stream",
     "text": [
      "0.8742132412095973\n",
      "tensor(513.1744)\n",
      "tensor(0.7718)\n",
      "tensor(0.6591)\n"
     ]
    },
    {
     "ename": "",
     "evalue": "",
     "output_type": "error",
     "traceback": [
      "\u001b[1;31mThe Kernel crashed while executing code in the the current cell or a previous cell. Please review the code in the cell(s) to identify a possible cause of the failure. Click <a href='https://aka.ms/vscodeJupyterKernelCrash'>here</a> for more info. View Jupyter <a href='command:jupyter.viewOutput'>log</a> for further details."
     ]
    }
   ],
   "source": [
    "same_count = 0\n",
    "avg_nonzero = 0\n",
    "avg_conf_bef = 0\n",
    "avg_conf_aft = 0\n",
    "for n in correct_idxs:\n",
    "    emb = corr_embds128[0][n].view(-1).clone()\n",
    "    with torch.no_grad():\n",
    "        bef = fcs(emb)\n",
    "        emb[emb <= 0] = 0\n",
    "        aft = fcs(emb)\n",
    "        if torch.argmax(bef) == torch.argmax(aft):\n",
    "            same_count += 1\n",
    "            avg_nonzero += torch.sum(emb>0)\n",
    "            avg_conf_bef += torch.max(torch.nn.functional.softmax(bef,dim=0))\n",
    "            avg_conf_aft += torch.max(torch.nn.functional.softmax(aft,dim=0))\n",
    "    # print(\"GT:\",corr_labels[0][n])\n",
    "    # print(\"Before:\",torch.argmax(bef))\n",
    "    # print(\"After:\",torch.argmax(aft))\n",
    "    # print(\"Num nonzero:\",torch.sum(aft>0))\n",
    "print(same_count/len(correct_idxs))\n",
    "print(avg_nonzero/same_count)\n",
    "print(avg_conf_bef/same_count)\n",
    "print(avg_conf_aft/same_count)"
   ]
  },
  {
   "cell_type": "code",
   "execution_count": 107,
   "metadata": {},
   "outputs": [],
   "source": [
    "emb = corr_embds128[0][2].view(-1).clone()"
   ]
  },
  {
   "cell_type": "code",
   "execution_count": 108,
   "metadata": {},
   "outputs": [
    {
     "data": {
      "text/plain": [
       "tensor([ 0.5353,  0.2107, -0.0568,  ...,  0.0420,  0.3845,  0.0412])"
      ]
     },
     "execution_count": 108,
     "metadata": {},
     "output_type": "execute_result"
    }
   ],
   "source": [
    "emb"
   ]
  },
  {
   "cell_type": "code",
   "execution_count": 91,
   "metadata": {},
   "outputs": [],
   "source": [
    "hist,edges = torch.histogram(emb,20)"
   ]
  },
  {
   "cell_type": "code",
   "execution_count": 92,
   "metadata": {},
   "outputs": [
    {
     "data": {
      "text/plain": [
       "tensor([0.0000, 0.1876, 0.3752, 0.5628, 0.7504, 0.9380, 1.1256, 1.3132, 1.5008,\n",
       "        1.6884, 1.8760, 2.0636, 2.2512, 2.4388, 2.6264, 2.8140, 3.0016, 3.1891,\n",
       "        3.3767, 3.5643, 3.7519])"
      ]
     },
     "execution_count": 92,
     "metadata": {},
     "output_type": "execute_result"
    }
   ],
   "source": [
    "edges"
   ]
  },
  {
   "cell_type": "code",
   "execution_count": 93,
   "metadata": {},
   "outputs": [
    {
     "data": {
      "text/plain": [
       "<BarContainer object of 20 artists>"
      ]
     },
     "execution_count": 93,
     "metadata": {},
     "output_type": "execute_result"
    },
    {
     "data": {
      "image/png": "[encoded data removed]",
      "text/plain": [
       "<Figure size 640x480 with 1 Axes>"
      ]
     },
     "metadata": {},
     "output_type": "display_data"
    }
   ],
   "source": [
    "plt.bar(np.arange(len(hist)),hist)"
   ]
  }
 ],
 "metadata": {
  "kernelspec": {
   "display_name": "Python 3.9.13 ('cl')",
   "language": "python",
   "name": "python3"
  },
  "language_info": {
   "codemirror_mode": {
    "name": "ipython",
    "version": 3
   },
   "file_extension": ".py",
   "mimetype": "text/x-python",
   "name": "python",
   "nbconvert_exporter": "python",
   "pygments_lexer": "ipython3",
   "version": "3.9.13"
  },
  "orig_nbformat": 4,
  "vscode": {
   "interpreter": {
    "hash": "71152ab9c07ce901c8cf95cbd74fadea2c31d5b816d92473f31e695d403a1560"
   }
  }
 },
 "nbformat": 4,
 "nbformat_minor": 2
}
