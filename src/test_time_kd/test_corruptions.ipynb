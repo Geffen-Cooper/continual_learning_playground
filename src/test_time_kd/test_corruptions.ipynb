{
 "cells": [
  {
   "cell_type": "code",
   "execution_count": 2,
   "metadata": {},
   "outputs": [],
   "source": [
    "from datasets import *\n",
    "from train import *\n",
    "from torchvision import datasets, transforms, models"
   ]
  },
  {
   "cell_type": "markdown",
   "metadata": {},
   "source": [
    "load models"
   ]
  },
  {
   "cell_type": "code",
   "execution_count": 5,
   "metadata": {},
   "outputs": [
    {
     "data": {
      "text/plain": [
       "MobileNetV3(\n",
       "  (features): Sequential(\n",
       "    (0): Conv2dNormActivation(\n",
       "      (0): Conv2d(3, 16, kernel_size=(3, 3), stride=(2, 2), padding=(1, 1), bias=False)\n",
       "      (1): BatchNorm2d(16, eps=0.001, momentum=0.01, affine=True, track_running_stats=True)\n",
       "      (2): Hardswish()\n",
       "    )\n",
       "    (1): InvertedResidual(\n",
       "      (block): Sequential(\n",
       "        (0): Conv2dNormActivation(\n",
       "          (0): Conv2d(16, 16, kernel_size=(3, 3), stride=(1, 1), padding=(1, 1), groups=16, bias=False)\n",
       "          (1): BatchNorm2d(16, eps=0.001, momentum=0.01, affine=True, track_running_stats=True)\n",
       "          (2): ReLU(inplace=True)\n",
       "        )\n",
       "        (1): Conv2dNormActivation(\n",
       "          (0): Conv2d(16, 16, kernel_size=(1, 1), stride=(1, 1), bias=False)\n",
       "          (1): BatchNorm2d(16, eps=0.001, momentum=0.01, affine=True, track_running_stats=True)\n",
       "        )\n",
       "      )\n",
       "    )\n",
       "    (2): InvertedResidual(\n",
       "      (block): Sequential(\n",
       "        (0): Conv2dNormActivation(\n",
       "          (0): Conv2d(16, 64, kernel_size=(1, 1), stride=(1, 1), bias=False)\n",
       "          (1): BatchNorm2d(64, eps=0.001, momentum=0.01, affine=True, track_running_stats=True)\n",
       "          (2): ReLU(inplace=True)\n",
       "        )\n",
       "        (1): Conv2dNormActivation(\n",
       "          (0): Conv2d(64, 64, kernel_size=(3, 3), stride=(2, 2), padding=(1, 1), groups=64, bias=False)\n",
       "          (1): BatchNorm2d(64, eps=0.001, momentum=0.01, affine=True, track_running_stats=True)\n",
       "          (2): ReLU(inplace=True)\n",
       "        )\n",
       "        (2): Conv2dNormActivation(\n",
       "          (0): Conv2d(64, 24, kernel_size=(1, 1), stride=(1, 1), bias=False)\n",
       "          (1): BatchNorm2d(24, eps=0.001, momentum=0.01, affine=True, track_running_stats=True)\n",
       "        )\n",
       "      )\n",
       "    )\n",
       "    (3): InvertedResidual(\n",
       "      (block): Sequential(\n",
       "        (0): Conv2dNormActivation(\n",
       "          (0): Conv2d(24, 72, kernel_size=(1, 1), stride=(1, 1), bias=False)\n",
       "          (1): BatchNorm2d(72, eps=0.001, momentum=0.01, affine=True, track_running_stats=True)\n",
       "          (2): ReLU(inplace=True)\n",
       "        )\n",
       "        (1): Conv2dNormActivation(\n",
       "          (0): Conv2d(72, 72, kernel_size=(3, 3), stride=(1, 1), padding=(1, 1), groups=72, bias=False)\n",
       "          (1): BatchNorm2d(72, eps=0.001, momentum=0.01, affine=True, track_running_stats=True)\n",
       "          (2): ReLU(inplace=True)\n",
       "        )\n",
       "        (2): Conv2dNormActivation(\n",
       "          (0): Conv2d(72, 24, kernel_size=(1, 1), stride=(1, 1), bias=False)\n",
       "          (1): BatchNorm2d(24, eps=0.001, momentum=0.01, affine=True, track_running_stats=True)\n",
       "        )\n",
       "      )\n",
       "    )\n",
       "    (4): InvertedResidual(\n",
       "      (block): Sequential(\n",
       "        (0): Conv2dNormActivation(\n",
       "          (0): Conv2d(24, 72, kernel_size=(1, 1), stride=(1, 1), bias=False)\n",
       "          (1): BatchNorm2d(72, eps=0.001, momentum=0.01, affine=True, track_running_stats=True)\n",
       "          (2): ReLU(inplace=True)\n",
       "        )\n",
       "        (1): Conv2dNormActivation(\n",
       "          (0): Conv2d(72, 72, kernel_size=(5, 5), stride=(2, 2), padding=(2, 2), groups=72, bias=False)\n",
       "          (1): BatchNorm2d(72, eps=0.001, momentum=0.01, affine=True, track_running_stats=True)\n",
       "          (2): ReLU(inplace=True)\n",
       "        )\n",
       "        (2): SqueezeExcitation(\n",
       "          (avgpool): AdaptiveAvgPool2d(output_size=1)\n",
       "          (fc1): Conv2d(72, 24, kernel_size=(1, 1), stride=(1, 1))\n",
       "          (fc2): Conv2d(24, 72, kernel_size=(1, 1), stride=(1, 1))\n",
       "          (activation): ReLU()\n",
       "          (scale_activation): Hardsigmoid()\n",
       "        )\n",
       "        (3): Conv2dNormActivation(\n",
       "          (0): Conv2d(72, 40, kernel_size=(1, 1), stride=(1, 1), bias=False)\n",
       "          (1): BatchNorm2d(40, eps=0.001, momentum=0.01, affine=True, track_running_stats=True)\n",
       "        )\n",
       "      )\n",
       "    )\n",
       "    (5): InvertedResidual(\n",
       "      (block): Sequential(\n",
       "        (0): Conv2dNormActivation(\n",
       "          (0): Conv2d(40, 120, kernel_size=(1, 1), stride=(1, 1), bias=False)\n",
       "          (1): BatchNorm2d(120, eps=0.001, momentum=0.01, affine=True, track_running_stats=True)\n",
       "          (2): ReLU(inplace=True)\n",
       "        )\n",
       "        (1): Conv2dNormActivation(\n",
       "          (0): Conv2d(120, 120, kernel_size=(5, 5), stride=(1, 1), padding=(2, 2), groups=120, bias=False)\n",
       "          (1): BatchNorm2d(120, eps=0.001, momentum=0.01, affine=True, track_running_stats=True)\n",
       "          (2): ReLU(inplace=True)\n",
       "        )\n",
       "        (2): SqueezeExcitation(\n",
       "          (avgpool): AdaptiveAvgPool2d(output_size=1)\n",
       "          (fc1): Conv2d(120, 32, kernel_size=(1, 1), stride=(1, 1))\n",
       "          (fc2): Conv2d(32, 120, kernel_size=(1, 1), stride=(1, 1))\n",
       "          (activation): ReLU()\n",
       "          (scale_activation): Hardsigmoid()\n",
       "        )\n",
       "        (3): Conv2dNormActivation(\n",
       "          (0): Conv2d(120, 40, kernel_size=(1, 1), stride=(1, 1), bias=False)\n",
       "          (1): BatchNorm2d(40, eps=0.001, momentum=0.01, affine=True, track_running_stats=True)\n",
       "        )\n",
       "      )\n",
       "    )\n",
       "    (6): InvertedResidual(\n",
       "      (block): Sequential(\n",
       "        (0): Conv2dNormActivation(\n",
       "          (0): Conv2d(40, 120, kernel_size=(1, 1), stride=(1, 1), bias=False)\n",
       "          (1): BatchNorm2d(120, eps=0.001, momentum=0.01, affine=True, track_running_stats=True)\n",
       "          (2): ReLU(inplace=True)\n",
       "        )\n",
       "        (1): Conv2dNormActivation(\n",
       "          (0): Conv2d(120, 120, kernel_size=(5, 5), stride=(1, 1), padding=(2, 2), groups=120, bias=False)\n",
       "          (1): BatchNorm2d(120, eps=0.001, momentum=0.01, affine=True, track_running_stats=True)\n",
       "          (2): ReLU(inplace=True)\n",
       "        )\n",
       "        (2): SqueezeExcitation(\n",
       "          (avgpool): AdaptiveAvgPool2d(output_size=1)\n",
       "          (fc1): Conv2d(120, 32, kernel_size=(1, 1), stride=(1, 1))\n",
       "          (fc2): Conv2d(32, 120, kernel_size=(1, 1), stride=(1, 1))\n",
       "          (activation): ReLU()\n",
       "          (scale_activation): Hardsigmoid()\n",
       "        )\n",
       "        (3): Conv2dNormActivation(\n",
       "          (0): Conv2d(120, 40, kernel_size=(1, 1), stride=(1, 1), bias=False)\n",
       "          (1): BatchNorm2d(40, eps=0.001, momentum=0.01, affine=True, track_running_stats=True)\n",
       "        )\n",
       "      )\n",
       "    )\n",
       "    (7): InvertedResidual(\n",
       "      (block): Sequential(\n",
       "        (0): Conv2dNormActivation(\n",
       "          (0): Conv2d(40, 240, kernel_size=(1, 1), stride=(1, 1), bias=False)\n",
       "          (1): BatchNorm2d(240, eps=0.001, momentum=0.01, affine=True, track_running_stats=True)\n",
       "          (2): Hardswish()\n",
       "        )\n",
       "        (1): Conv2dNormActivation(\n",
       "          (0): Conv2d(240, 240, kernel_size=(3, 3), stride=(2, 2), padding=(1, 1), groups=240, bias=False)\n",
       "          (1): BatchNorm2d(240, eps=0.001, momentum=0.01, affine=True, track_running_stats=True)\n",
       "          (2): Hardswish()\n",
       "        )\n",
       "        (2): Conv2dNormActivation(\n",
       "          (0): Conv2d(240, 80, kernel_size=(1, 1), stride=(1, 1), bias=False)\n",
       "          (1): BatchNorm2d(80, eps=0.001, momentum=0.01, affine=True, track_running_stats=True)\n",
       "        )\n",
       "      )\n",
       "    )\n",
       "    (8): InvertedResidual(\n",
       "      (block): Sequential(\n",
       "        (0): Conv2dNormActivation(\n",
       "          (0): Conv2d(80, 200, kernel_size=(1, 1), stride=(1, 1), bias=False)\n",
       "          (1): BatchNorm2d(200, eps=0.001, momentum=0.01, affine=True, track_running_stats=True)\n",
       "          (2): Hardswish()\n",
       "        )\n",
       "        (1): Conv2dNormActivation(\n",
       "          (0): Conv2d(200, 200, kernel_size=(3, 3), stride=(1, 1), padding=(1, 1), groups=200, bias=False)\n",
       "          (1): BatchNorm2d(200, eps=0.001, momentum=0.01, affine=True, track_running_stats=True)\n",
       "          (2): Hardswish()\n",
       "        )\n",
       "        (2): Conv2dNormActivation(\n",
       "          (0): Conv2d(200, 80, kernel_size=(1, 1), stride=(1, 1), bias=False)\n",
       "          (1): BatchNorm2d(80, eps=0.001, momentum=0.01, affine=True, track_running_stats=True)\n",
       "        )\n",
       "      )\n",
       "    )\n",
       "    (9): InvertedResidual(\n",
       "      (block): Sequential(\n",
       "        (0): Conv2dNormActivation(\n",
       "          (0): Conv2d(80, 184, kernel_size=(1, 1), stride=(1, 1), bias=False)\n",
       "          (1): BatchNorm2d(184, eps=0.001, momentum=0.01, affine=True, track_running_stats=True)\n",
       "          (2): Hardswish()\n",
       "        )\n",
       "        (1): Conv2dNormActivation(\n",
       "          (0): Conv2d(184, 184, kernel_size=(3, 3), stride=(1, 1), padding=(1, 1), groups=184, bias=False)\n",
       "          (1): BatchNorm2d(184, eps=0.001, momentum=0.01, affine=True, track_running_stats=True)\n",
       "          (2): Hardswish()\n",
       "        )\n",
       "        (2): Conv2dNormActivation(\n",
       "          (0): Conv2d(184, 80, kernel_size=(1, 1), stride=(1, 1), bias=False)\n",
       "          (1): BatchNorm2d(80, eps=0.001, momentum=0.01, affine=True, track_running_stats=True)\n",
       "        )\n",
       "      )\n",
       "    )\n",
       "    (10): InvertedResidual(\n",
       "      (block): Sequential(\n",
       "        (0): Conv2dNormActivation(\n",
       "          (0): Conv2d(80, 184, kernel_size=(1, 1), stride=(1, 1), bias=False)\n",
       "          (1): BatchNorm2d(184, eps=0.001, momentum=0.01, affine=True, track_running_stats=True)\n",
       "          (2): Hardswish()\n",
       "        )\n",
       "        (1): Conv2dNormActivation(\n",
       "          (0): Conv2d(184, 184, kernel_size=(3, 3), stride=(1, 1), padding=(1, 1), groups=184, bias=False)\n",
       "          (1): BatchNorm2d(184, eps=0.001, momentum=0.01, affine=True, track_running_stats=True)\n",
       "          (2): Hardswish()\n",
       "        )\n",
       "        (2): Conv2dNormActivation(\n",
       "          (0): Conv2d(184, 80, kernel_size=(1, 1), stride=(1, 1), bias=False)\n",
       "          (1): BatchNorm2d(80, eps=0.001, momentum=0.01, affine=True, track_running_stats=True)\n",
       "        )\n",
       "      )\n",
       "    )\n",
       "    (11): InvertedResidual(\n",
       "      (block): Sequential(\n",
       "        (0): Conv2dNormActivation(\n",
       "          (0): Conv2d(80, 480, kernel_size=(1, 1), stride=(1, 1), bias=False)\n",
       "          (1): BatchNorm2d(480, eps=0.001, momentum=0.01, affine=True, track_running_stats=True)\n",
       "          (2): Hardswish()\n",
       "        )\n",
       "        (1): Conv2dNormActivation(\n",
       "          (0): Conv2d(480, 480, kernel_size=(3, 3), stride=(1, 1), padding=(1, 1), groups=480, bias=False)\n",
       "          (1): BatchNorm2d(480, eps=0.001, momentum=0.01, affine=True, track_running_stats=True)\n",
       "          (2): Hardswish()\n",
       "        )\n",
       "        (2): SqueezeExcitation(\n",
       "          (avgpool): AdaptiveAvgPool2d(output_size=1)\n",
       "          (fc1): Conv2d(480, 120, kernel_size=(1, 1), stride=(1, 1))\n",
       "          (fc2): Conv2d(120, 480, kernel_size=(1, 1), stride=(1, 1))\n",
       "          (activation): ReLU()\n",
       "          (scale_activation): Hardsigmoid()\n",
       "        )\n",
       "        (3): Conv2dNormActivation(\n",
       "          (0): Conv2d(480, 112, kernel_size=(1, 1), stride=(1, 1), bias=False)\n",
       "          (1): BatchNorm2d(112, eps=0.001, momentum=0.01, affine=True, track_running_stats=True)\n",
       "        )\n",
       "      )\n",
       "    )\n",
       "    (12): InvertedResidual(\n",
       "      (block): Sequential(\n",
       "        (0): Conv2dNormActivation(\n",
       "          (0): Conv2d(112, 672, kernel_size=(1, 1), stride=(1, 1), bias=False)\n",
       "          (1): BatchNorm2d(672, eps=0.001, momentum=0.01, affine=True, track_running_stats=True)\n",
       "          (2): Hardswish()\n",
       "        )\n",
       "        (1): Conv2dNormActivation(\n",
       "          (0): Conv2d(672, 672, kernel_size=(3, 3), stride=(1, 1), padding=(1, 1), groups=672, bias=False)\n",
       "          (1): BatchNorm2d(672, eps=0.001, momentum=0.01, affine=True, track_running_stats=True)\n",
       "          (2): Hardswish()\n",
       "        )\n",
       "        (2): SqueezeExcitation(\n",
       "          (avgpool): AdaptiveAvgPool2d(output_size=1)\n",
       "          (fc1): Conv2d(672, 168, kernel_size=(1, 1), stride=(1, 1))\n",
       "          (fc2): Conv2d(168, 672, kernel_size=(1, 1), stride=(1, 1))\n",
       "          (activation): ReLU()\n",
       "          (scale_activation): Hardsigmoid()\n",
       "        )\n",
       "        (3): Conv2dNormActivation(\n",
       "          (0): Conv2d(672, 112, kernel_size=(1, 1), stride=(1, 1), bias=False)\n",
       "          (1): BatchNorm2d(112, eps=0.001, momentum=0.01, affine=True, track_running_stats=True)\n",
       "        )\n",
       "      )\n",
       "    )\n",
       "    (13): InvertedResidual(\n",
       "      (block): Sequential(\n",
       "        (0): Conv2dNormActivation(\n",
       "          (0): Conv2d(112, 672, kernel_size=(1, 1), stride=(1, 1), bias=False)\n",
       "          (1): BatchNorm2d(672, eps=0.001, momentum=0.01, affine=True, track_running_stats=True)\n",
       "          (2): Hardswish()\n",
       "        )\n",
       "        (1): Conv2dNormActivation(\n",
       "          (0): Conv2d(672, 672, kernel_size=(5, 5), stride=(2, 2), padding=(2, 2), groups=672, bias=False)\n",
       "          (1): BatchNorm2d(672, eps=0.001, momentum=0.01, affine=True, track_running_stats=True)\n",
       "          (2): Hardswish()\n",
       "        )\n",
       "        (2): SqueezeExcitation(\n",
       "          (avgpool): AdaptiveAvgPool2d(output_size=1)\n",
       "          (fc1): Conv2d(672, 168, kernel_size=(1, 1), stride=(1, 1))\n",
       "          (fc2): Conv2d(168, 672, kernel_size=(1, 1), stride=(1, 1))\n",
       "          (activation): ReLU()\n",
       "          (scale_activation): Hardsigmoid()\n",
       "        )\n",
       "        (3): Conv2dNormActivation(\n",
       "          (0): Conv2d(672, 160, kernel_size=(1, 1), stride=(1, 1), bias=False)\n",
       "          (1): BatchNorm2d(160, eps=0.001, momentum=0.01, affine=True, track_running_stats=True)\n",
       "        )\n",
       "      )\n",
       "    )\n",
       "    (14): InvertedResidual(\n",
       "      (block): Sequential(\n",
       "        (0): Conv2dNormActivation(\n",
       "          (0): Conv2d(160, 960, kernel_size=(1, 1), stride=(1, 1), bias=False)\n",
       "          (1): BatchNorm2d(960, eps=0.001, momentum=0.01, affine=True, track_running_stats=True)\n",
       "          (2): Hardswish()\n",
       "        )\n",
       "        (1): Conv2dNormActivation(\n",
       "          (0): Conv2d(960, 960, kernel_size=(5, 5), stride=(1, 1), padding=(2, 2), groups=960, bias=False)\n",
       "          (1): BatchNorm2d(960, eps=0.001, momentum=0.01, affine=True, track_running_stats=True)\n",
       "          (2): Hardswish()\n",
       "        )\n",
       "        (2): SqueezeExcitation(\n",
       "          (avgpool): AdaptiveAvgPool2d(output_size=1)\n",
       "          (fc1): Conv2d(960, 240, kernel_size=(1, 1), stride=(1, 1))\n",
       "          (fc2): Conv2d(240, 960, kernel_size=(1, 1), stride=(1, 1))\n",
       "          (activation): ReLU()\n",
       "          (scale_activation): Hardsigmoid()\n",
       "        )\n",
       "        (3): Conv2dNormActivation(\n",
       "          (0): Conv2d(960, 160, kernel_size=(1, 1), stride=(1, 1), bias=False)\n",
       "          (1): BatchNorm2d(160, eps=0.001, momentum=0.01, affine=True, track_running_stats=True)\n",
       "        )\n",
       "      )\n",
       "    )\n",
       "    (15): InvertedResidual(\n",
       "      (block): Sequential(\n",
       "        (0): Conv2dNormActivation(\n",
       "          (0): Conv2d(160, 960, kernel_size=(1, 1), stride=(1, 1), bias=False)\n",
       "          (1): BatchNorm2d(960, eps=0.001, momentum=0.01, affine=True, track_running_stats=True)\n",
       "          (2): Hardswish()\n",
       "        )\n",
       "        (1): Conv2dNormActivation(\n",
       "          (0): Conv2d(960, 960, kernel_size=(5, 5), stride=(1, 1), padding=(2, 2), groups=960, bias=False)\n",
       "          (1): BatchNorm2d(960, eps=0.001, momentum=0.01, affine=True, track_running_stats=True)\n",
       "          (2): Hardswish()\n",
       "        )\n",
       "        (2): SqueezeExcitation(\n",
       "          (avgpool): AdaptiveAvgPool2d(output_size=1)\n",
       "          (fc1): Conv2d(960, 240, kernel_size=(1, 1), stride=(1, 1))\n",
       "          (fc2): Conv2d(240, 960, kernel_size=(1, 1), stride=(1, 1))\n",
       "          (activation): ReLU()\n",
       "          (scale_activation): Hardsigmoid()\n",
       "        )\n",
       "        (3): Conv2dNormActivation(\n",
       "          (0): Conv2d(960, 160, kernel_size=(1, 1), stride=(1, 1), bias=False)\n",
       "          (1): BatchNorm2d(160, eps=0.001, momentum=0.01, affine=True, track_running_stats=True)\n",
       "        )\n",
       "      )\n",
       "    )\n",
       "    (16): Conv2dNormActivation(\n",
       "      (0): Conv2d(160, 960, kernel_size=(1, 1), stride=(1, 1), bias=False)\n",
       "      (1): BatchNorm2d(960, eps=0.001, momentum=0.01, affine=True, track_running_stats=True)\n",
       "      (2): Hardswish()\n",
       "    )\n",
       "  )\n",
       "  (avgpool): AdaptiveAvgPool2d(output_size=1)\n",
       "  (classifier): Sequential(\n",
       "    (0): Linear(in_features=960, out_features=1280, bias=True)\n",
       "    (1): Hardswish()\n",
       "    (2): Dropout(p=0.2, inplace=True)\n",
       "    (3): Linear(in_features=1280, out_features=1000, bias=True)\n",
       "  )\n",
       ")"
      ]
     },
     "execution_count": 5,
     "metadata": {},
     "output_type": "execute_result"
    }
   ],
   "source": [
    "model = models.mobilenet_v3_large(weights='DEFAULT').to('cuda')\n",
    "model64 = models.mobilenet_v3_large()\n",
    "model64.load_state_dict(torch.load(\"best_modelsv3/best_batch_i1081020.pth\")['model_state_dict'])\n",
    "model64.to('cuda')\n",
    "model.eval()\n",
    "model64.eval()"
   ]
  },
  {
   "cell_type": "markdown",
   "metadata": {},
   "source": [
    "load clean validation sets"
   ]
  },
  {
   "cell_type": "code",
   "execution_count": 7,
   "metadata": {},
   "outputs": [],
   "source": [
    "clean_val_loader = load_imagenet(128,1234,False)\n",
    "clean_val_loader64 = load_imagenet64(128,1234,False)"
   ]
  },
  {
   "cell_type": "markdown",
   "metadata": {},
   "source": [
    "test clean validation sets"
   ]
  },
  {
   "cell_type": "code",
   "execution_count": 8,
   "metadata": {},
   "outputs": [
    {
     "name": "stderr",
     "output_type": "stream",
     "text": [
      "100%|██████████| 391/391 [04:06<00:00,  1.59it/s]\n",
      "100%|██████████| 391/391 [00:15<00:00, 25.82it/s]\n"
     ]
    }
   ],
   "source": [
    "acc_clean = validate(model,clean_val_loader,'cuda')\n",
    "acc64_clean = validate(model64,clean_val_loader64,'cuda')"
   ]
  },
  {
   "cell_type": "markdown",
   "metadata": {},
   "source": [
    "load and validate corrupted sets"
   ]
  },
  {
   "cell_type": "code",
   "execution_count": 4,
   "metadata": {},
   "outputs": [
    {
     "name": "stderr",
     "output_type": "stream",
     "text": [
      "100%|██████████| 391/391 [00:29<00:00, 13.35it/s]\n",
      "100%|██████████| 391/391 [00:05<00:00, 75.69it/s]\n",
      "100%|██████████| 391/391 [00:31<00:00, 12.54it/s]\n",
      "100%|██████████| 391/391 [00:05<00:00, 77.27it/s]\n",
      " 37%|███▋      | 143/391 [00:11<00:20, 12.18it/s]\n"
     ]
    },
    {
     "ename": "KeyboardInterrupt",
     "evalue": "",
     "output_type": "error",
     "traceback": [
      "\u001b[0;31m---------------------------------------------------------------------------\u001b[0m",
      "\u001b[0;31mKeyboardInterrupt\u001b[0m                         Traceback (most recent call last)",
      "\u001b[1;32m/home/gc28692/Projects/continual_learning/continual_learning_playground/src/test_time_kd/test_corruptions.ipynb Cell 4\u001b[0m in \u001b[0;36m<cell line: 5>\u001b[0;34m()\u001b[0m\n\u001b[1;32m      <a href='vscode-notebook-cell:/home/gc28692/Projects/continual_learning/continual_learning_playground/src/test_time_kd/test_corruptions.ipynb#W1sZmlsZQ%3D%3D?line=5'>6</a>\u001b[0m corr_set \u001b[39m=\u001b[39m load_imagenetc_val(\u001b[39m128\u001b[39m,\u001b[39m1234\u001b[39m,corr,severity\u001b[39m=\u001b[39m\u001b[39m1\u001b[39m)\n\u001b[1;32m      <a href='vscode-notebook-cell:/home/gc28692/Projects/continual_learning/continual_learning_playground/src/test_time_kd/test_corruptions.ipynb#W1sZmlsZQ%3D%3D?line=6'>7</a>\u001b[0m corr_set64 \u001b[39m=\u001b[39m load_imagenetc64_val(\u001b[39m128\u001b[39m,\u001b[39m1234\u001b[39m,corr,severity\u001b[39m=\u001b[39m\u001b[39m1\u001b[39m)\n\u001b[0;32m----> <a href='vscode-notebook-cell:/home/gc28692/Projects/continual_learning/continual_learning_playground/src/test_time_kd/test_corruptions.ipynb#W1sZmlsZQ%3D%3D?line=8'>9</a>\u001b[0m acc_corr\u001b[39m.\u001b[39mappend(validate(model,corr_set,\u001b[39m'\u001b[39;49m\u001b[39mcuda\u001b[39;49m\u001b[39m'\u001b[39;49m)[\u001b[39m0\u001b[39m])\n\u001b[1;32m     <a href='vscode-notebook-cell:/home/gc28692/Projects/continual_learning/continual_learning_playground/src/test_time_kd/test_corruptions.ipynb#W1sZmlsZQ%3D%3D?line=9'>10</a>\u001b[0m acc_corr64\u001b[39m.\u001b[39mappend(validate(model64,corr_set64,\u001b[39m'\u001b[39m\u001b[39mcuda\u001b[39m\u001b[39m'\u001b[39m)[\u001b[39m0\u001b[39m])\n",
      "File \u001b[0;32m~/Projects/continual_learning/continual_learning_playground/src/test_time_kd/train.py:124\u001b[0m, in \u001b[0;36mvalidate\u001b[0;34m(model, val_loader, device)\u001b[0m\n\u001b[1;32m    122\u001b[0m output \u001b[39m=\u001b[39m model(data)\n\u001b[1;32m    123\u001b[0m pred \u001b[39m=\u001b[39m output\u001b[39m.\u001b[39margmax(dim\u001b[39m=\u001b[39m\u001b[39m1\u001b[39m, keepdim\u001b[39m=\u001b[39m\u001b[39mTrue\u001b[39;00m)\n\u001b[0;32m--> 124\u001b[0m val_loss \u001b[39m+\u001b[39m\u001b[39m=\u001b[39m nn\u001b[39m.\u001b[39;49mCrossEntropyLoss()(output, target)\u001b[39m.\u001b[39;49mitem()  \u001b[39m# sum up batch loss\u001b[39;00m\n\u001b[1;32m    125\u001b[0m correct \u001b[39m+\u001b[39m\u001b[39m=\u001b[39m pred\u001b[39m.\u001b[39meq(target\u001b[39m.\u001b[39mview_as(pred))\u001b[39m.\u001b[39msum()\u001b[39m.\u001b[39mitem()\n\u001b[1;32m    127\u001b[0m batch_size \u001b[39m=\u001b[39m target\u001b[39m.\u001b[39msize(\u001b[39m0\u001b[39m)\n",
      "\u001b[0;31mKeyboardInterrupt\u001b[0m: "
     ]
    }
   ],
   "source": [
    "corruptions = ['gaussian_noise','impulse_noise','shot_noise','defocus_blur','glass_blur','motion_blur','zoom_blur','snow','frost','fog','brightness','contrast','elastic_transform','jpeg_compression','pixelate']\n",
    "acc_corr = []\n",
    "acc_corr64 = []\n",
    "\n",
    "for corr in corruptions:\n",
    "    corr_set = load_imagenetc_val(128,1234,corr,severity=1)\n",
    "    corr_set64 = load_imagenetc64_val(128,1234,corr,severity=1)\n",
    "\n",
    "    acc_corr.append(validate(model,corr_set,'cuda')[0])\n",
    "    acc_corr64.append(validate(model64,corr_set64,'cuda')[0])\n",
    "    "
   ]
  },
  {
   "cell_type": "markdown",
   "metadata": {},
   "source": [
    "save results to csv"
   ]
  },
  {
   "cell_type": "code",
   "execution_count": null,
   "metadata": {},
   "outputs": [],
   "source": [
    "import pandas as pd\n",
    "df = pd.DataFrame(columns=corruptions)\n",
    "df.loc[0] = acc_corr\n",
    "df.loc[1] = acc_corr64\n",
    "df.insert(0, \"Model\", ['224x224', '64x64'])\n",
    "df.insert(1,'Clean Acc.',[acc_clean,acc64_clean])\n",
    "df.insert(2,'Avg Corr. Acc.',[sum(acc_corr)/len(acc_corr),sum(acc_corr64)/len(acc_corr64)])\n",
    "df.to_csv(\"accuracy results1.csv\")"
   ]
  },
  {
   "cell_type": "markdown",
   "metadata": {},
   "source": [
    "clean confidence scores"
   ]
  },
  {
   "cell_type": "code",
   "execution_count": null,
   "metadata": {},
   "outputs": [],
   "source": [
    "def get_conf_cal(data_loader, model):\n",
    "    confidences = torch.zeros(len(data_loader.dataset))\n",
    "    accuracies = torch.zeros(len(data_loader.dataset))\n",
    "\n",
    "    # load the entire validation set\n",
    "    idx = 0\n",
    "    with torch.no_grad():\n",
    "        for (img_batch, label_batch) in tqdm(data_loader):\n",
    "            img_batch, label_batch = img_batch.to('cuda'), label_batch.to('cuda')\n",
    "\n",
    "            start = idx*data_loader.batch_size\n",
    "            end = start + data_loader.batch_size\n",
    "            if end > len(data_loader.dataset):\n",
    "                end = len(data_loader.dataset)\n",
    "\n",
    "            # get the model's softmax output and class predictions, then get a mask of correct predictions\n",
    "            conf, pred = torch.max(F.softmax(model(img_batch), dim=1), 1)\n",
    "            acc = pred.eq(label_batch)\n",
    "            conf,pred,acc = conf.to('cpu'),pred.to('cpu'),acc.to('cpu')\n",
    "\n",
    "            confidences[start:end] = conf\n",
    "            accuracies[start:end] = acc\n",
    "            idx +=  1\n",
    "\n",
    "    # initialize the calibration bins\n",
    "    n_bins = 10\n",
    "    bin_boundaries = torch.linspace(0, 1, n_bins + 1)\n",
    "    bin_lowers = bin_boundaries[:-1]\n",
    "    bin_uppers = bin_boundaries[1:]\n",
    "\n",
    "    accs = [0.0]*n_bins\n",
    "    avg_confs = [0.0]*n_bins\n",
    "\n",
    "    i = 0\n",
    "    # iterate over bins\n",
    "    for bin_lower, bin_upper in zip(bin_lowers, bin_uppers):\n",
    "        # mask to determine which confidence scores go in this bin\n",
    "        in_bin = confidences.gt(bin_lower.item()) * confidences.le(bin_upper.item())\n",
    "\n",
    "        # from the mask determine what percent of the confidence scores are in this bin\n",
    "        prop_in_bin = in_bin.float().mean()\n",
    "\n",
    "        # if the bin is not empty\n",
    "        if prop_in_bin.item() > 0:\n",
    "            # calculate accuracy of the bin using the mask of correct predictions\n",
    "            accuracy_in_bin = accuracies[in_bin].float().mean()\n",
    "\n",
    "            # get the average confidence score of items in this bin\n",
    "            avg_confidence_in_bin = confidences[in_bin].mean()\n",
    "            accs[i] = accuracy_in_bin\n",
    "            avg_confs[i] = avg_confidence_in_bin.detach()\n",
    "        i+=1\n",
    "    \n",
    "    # return the accuracy of all bins and the average confidence score of the bins\n",
    "    return accs, avg_confs\n",
    "\n",
    "accs_cal, confs_cal = get_conf_cal(clean_val_loader,model)\n",
    "accs64_cal, confs64_cal = get_conf_cal(clean_val_loader64,model64)"
   ]
  },
  {
   "cell_type": "code",
   "execution_count": null,
   "metadata": {},
   "outputs": [],
   "source": [
    "from matplotlib.pyplot import figure\n",
    "\n",
    "figure(figsize=(14, 6), dpi=100)\n",
    "bars = [\"0-10%\",\"10-20%\",\"20-30%\",\"30-40%\",\"40-50%\",\"50-60%\",\"60-70%\",\"70-80%\",\"80-90%\",\"90-100%\"]\n",
    "xpos = [0,5,10,15,20,25,30,35,40,45]\n",
    "plt.bar(xpos,confs_cal,label=\"conf\",width=2)\n",
    "plt.xticks(xpos, bars)\n",
    "plt.bar(xpos,accs_cal,label=\"acc\",width=2,alpha=0.5)\n",
    "plt.xticks(xpos, bars)\n",
    "plt.legend()\n",
    "plt.title('Mobilenet V3 Large Confidence Scores (Input 224x224)')\n",
    "plt.xlabel(\"Confidence Intervals\")\n",
    "plt.ylabel(\"Avg. Confidence and Accuracy Value per Bin\")\n",
    "plt.grid()"
   ]
  },
  {
   "cell_type": "code",
   "execution_count": null,
   "metadata": {},
   "outputs": [],
   "source": [
    "figure(figsize=(14, 6), dpi=100)\n",
    "bars = [\"0-10%\",\"10-20%\",\"20-30%\",\"30-40%\",\"40-50%\",\"50-60%\",\"60-70%\",\"70-80%\",\"80-90%\",\"90-100%\"]\n",
    "xpos = [0,5,10,15,20,25,30,35,40,45]\n",
    "plt.bar(xpos,confs64_cal,label=\"conf\",width=2)\n",
    "plt.xticks(xpos, bars)\n",
    "plt.bar(xpos,accs64_cal,label=\"acc\",width=2,alpha=0.5)\n",
    "plt.xticks(xpos, bars)\n",
    "plt.legend()\n",
    "plt.title('Mobilenet V3 Large Confidence Scores (Input 64x64)')\n",
    "plt.xlabel(\"Confidence Intervals\")\n",
    "plt.ylabel(\"Avg. Confidence and Accuracy Value per Bin\")\n",
    "plt.grid()"
   ]
  },
  {
   "cell_type": "markdown",
   "metadata": {},
   "source": [
    "corrupted confidence scores"
   ]
  },
  {
   "cell_type": "code",
   "execution_count": 9,
   "metadata": {},
   "outputs": [
    {
     "name": "stdout",
     "output_type": "stream",
     "text": [
      "750000\n",
      "gaussian_noise\n"
     ]
    },
    {
     "name": "stderr",
     "output_type": "stream",
     "text": [
      "100%|██████████| 391/391 [00:26<00:00, 14.77it/s]\n"
     ]
    },
    {
     "name": "stdout",
     "output_type": "stream",
     "text": [
      "impulse_noise\n"
     ]
    },
    {
     "name": "stderr",
     "output_type": "stream",
     "text": [
      "100%|██████████| 391/391 [00:23<00:00, 16.34it/s]\n"
     ]
    },
    {
     "name": "stdout",
     "output_type": "stream",
     "text": [
      "shot_noise\n"
     ]
    },
    {
     "name": "stderr",
     "output_type": "stream",
     "text": [
      "100%|██████████| 391/391 [00:26<00:00, 15.02it/s]\n"
     ]
    },
    {
     "name": "stdout",
     "output_type": "stream",
     "text": [
      "defocus_blur\n"
     ]
    },
    {
     "name": "stderr",
     "output_type": "stream",
     "text": [
      "100%|██████████| 391/391 [00:27<00:00, 14.32it/s]\n"
     ]
    },
    {
     "name": "stdout",
     "output_type": "stream",
     "text": [
      "glass_blur\n"
     ]
    },
    {
     "name": "stderr",
     "output_type": "stream",
     "text": [
      "100%|██████████| 391/391 [00:27<00:00, 14.41it/s]\n"
     ]
    },
    {
     "name": "stdout",
     "output_type": "stream",
     "text": [
      "motion_blur\n"
     ]
    },
    {
     "name": "stderr",
     "output_type": "stream",
     "text": [
      "100%|██████████| 391/391 [00:27<00:00, 14.07it/s]\n"
     ]
    },
    {
     "name": "stdout",
     "output_type": "stream",
     "text": [
      "zoom_blur\n"
     ]
    },
    {
     "name": "stderr",
     "output_type": "stream",
     "text": [
      "100%|██████████| 391/391 [00:23<00:00, 16.93it/s]\n"
     ]
    },
    {
     "name": "stdout",
     "output_type": "stream",
     "text": [
      "snow\n"
     ]
    },
    {
     "name": "stderr",
     "output_type": "stream",
     "text": [
      "100%|██████████| 391/391 [00:26<00:00, 14.79it/s]\n"
     ]
    },
    {
     "name": "stdout",
     "output_type": "stream",
     "text": [
      "frost\n"
     ]
    },
    {
     "name": "stderr",
     "output_type": "stream",
     "text": [
      "100%|██████████| 391/391 [00:26<00:00, 14.70it/s]\n"
     ]
    },
    {
     "name": "stdout",
     "output_type": "stream",
     "text": [
      "fog\n"
     ]
    },
    {
     "name": "stderr",
     "output_type": "stream",
     "text": [
      "100%|██████████| 391/391 [00:26<00:00, 14.76it/s]\n"
     ]
    },
    {
     "name": "stdout",
     "output_type": "stream",
     "text": [
      "brightness\n"
     ]
    },
    {
     "name": "stderr",
     "output_type": "stream",
     "text": [
      "100%|██████████| 391/391 [00:27<00:00, 14.39it/s]\n"
     ]
    },
    {
     "name": "stdout",
     "output_type": "stream",
     "text": [
      "contrast\n"
     ]
    },
    {
     "name": "stderr",
     "output_type": "stream",
     "text": [
      "100%|██████████| 391/391 [00:26<00:00, 14.78it/s]\n"
     ]
    },
    {
     "name": "stdout",
     "output_type": "stream",
     "text": [
      "elastic_transform\n"
     ]
    },
    {
     "name": "stderr",
     "output_type": "stream",
     "text": [
      "100%|██████████| 391/391 [00:27<00:00, 14.22it/s]\n"
     ]
    },
    {
     "name": "stdout",
     "output_type": "stream",
     "text": [
      "jpeg_compression\n"
     ]
    },
    {
     "name": "stderr",
     "output_type": "stream",
     "text": [
      "100%|██████████| 391/391 [00:25<00:00, 15.17it/s]\n"
     ]
    },
    {
     "name": "stdout",
     "output_type": "stream",
     "text": [
      "pixelate\n"
     ]
    },
    {
     "name": "stderr",
     "output_type": "stream",
     "text": [
      "100%|██████████| 391/391 [00:27<00:00, 14.08it/s]\n"
     ]
    },
    {
     "name": "stdout",
     "output_type": "stream",
     "text": [
      "tensor([False, False, False,  ..., False, False, False]) / 750000\n",
      "tensor([False,  True, False,  ..., False, False, False]) / 750000\n",
      "tensor([False, False, False,  ..., False,  True, False]) / 750000\n",
      "tensor([False, False, False,  ..., False, False, False]) / 750000\n",
      "tensor([False, False, False,  ...,  True, False, False]) / 750000\n",
      "tensor([False, False,  True,  ..., False, False, False]) / 750000\n",
      "tensor([False, False, False,  ..., False, False, False]) / 750000\n",
      "tensor([ True, False, False,  ..., False, False, False]) / 750000\n",
      "tensor([False, False, False,  ..., False, False,  True]) / 750000\n",
      "tensor([False, False, False,  ..., False, False, False]) / 750000\n",
      "750000\n",
      "gaussian_noise\n"
     ]
    },
    {
     "name": "stderr",
     "output_type": "stream",
     "text": [
      "100%|██████████| 391/391 [00:05<00:00, 77.77it/s]\n"
     ]
    },
    {
     "name": "stdout",
     "output_type": "stream",
     "text": [
      "impulse_noise\n"
     ]
    },
    {
     "name": "stderr",
     "output_type": "stream",
     "text": [
      "100%|██████████| 391/391 [00:05<00:00, 77.47it/s]\n"
     ]
    },
    {
     "name": "stdout",
     "output_type": "stream",
     "text": [
      "shot_noise\n"
     ]
    },
    {
     "name": "stderr",
     "output_type": "stream",
     "text": [
      "100%|██████████| 391/391 [00:05<00:00, 76.33it/s]\n"
     ]
    },
    {
     "name": "stdout",
     "output_type": "stream",
     "text": [
      "defocus_blur\n"
     ]
    },
    {
     "name": "stderr",
     "output_type": "stream",
     "text": [
      "100%|██████████| 391/391 [00:05<00:00, 77.56it/s]\n"
     ]
    },
    {
     "name": "stdout",
     "output_type": "stream",
     "text": [
      "glass_blur\n"
     ]
    },
    {
     "name": "stderr",
     "output_type": "stream",
     "text": [
      "100%|██████████| 391/391 [00:05<00:00, 75.77it/s]\n"
     ]
    },
    {
     "name": "stdout",
     "output_type": "stream",
     "text": [
      "motion_blur\n"
     ]
    },
    {
     "name": "stderr",
     "output_type": "stream",
     "text": [
      "100%|██████████| 391/391 [00:05<00:00, 76.55it/s]\n"
     ]
    },
    {
     "name": "stdout",
     "output_type": "stream",
     "text": [
      "zoom_blur\n"
     ]
    },
    {
     "name": "stderr",
     "output_type": "stream",
     "text": [
      "100%|██████████| 391/391 [00:05<00:00, 76.86it/s]\n"
     ]
    },
    {
     "name": "stdout",
     "output_type": "stream",
     "text": [
      "snow\n"
     ]
    },
    {
     "name": "stderr",
     "output_type": "stream",
     "text": [
      "100%|██████████| 391/391 [00:05<00:00, 75.83it/s]\n"
     ]
    },
    {
     "name": "stdout",
     "output_type": "stream",
     "text": [
      "frost\n"
     ]
    },
    {
     "name": "stderr",
     "output_type": "stream",
     "text": [
      "100%|██████████| 391/391 [00:05<00:00, 76.27it/s]\n"
     ]
    },
    {
     "name": "stdout",
     "output_type": "stream",
     "text": [
      "fog\n"
     ]
    },
    {
     "name": "stderr",
     "output_type": "stream",
     "text": [
      "100%|██████████| 391/391 [00:05<00:00, 76.84it/s]\n"
     ]
    },
    {
     "name": "stdout",
     "output_type": "stream",
     "text": [
      "brightness\n"
     ]
    },
    {
     "name": "stderr",
     "output_type": "stream",
     "text": [
      "100%|██████████| 391/391 [00:05<00:00, 76.63it/s]\n"
     ]
    },
    {
     "name": "stdout",
     "output_type": "stream",
     "text": [
      "contrast\n"
     ]
    },
    {
     "name": "stderr",
     "output_type": "stream",
     "text": [
      "100%|██████████| 391/391 [00:05<00:00, 76.25it/s]\n"
     ]
    },
    {
     "name": "stdout",
     "output_type": "stream",
     "text": [
      "elastic_transform\n"
     ]
    },
    {
     "name": "stderr",
     "output_type": "stream",
     "text": [
      "100%|██████████| 391/391 [00:05<00:00, 75.44it/s]\n"
     ]
    },
    {
     "name": "stdout",
     "output_type": "stream",
     "text": [
      "jpeg_compression\n"
     ]
    },
    {
     "name": "stderr",
     "output_type": "stream",
     "text": [
      "100%|██████████| 391/391 [00:05<00:00, 76.77it/s]\n"
     ]
    },
    {
     "name": "stdout",
     "output_type": "stream",
     "text": [
      "pixelate\n"
     ]
    },
    {
     "name": "stderr",
     "output_type": "stream",
     "text": [
      "100%|██████████| 391/391 [00:05<00:00, 76.58it/s]"
     ]
    },
    {
     "name": "stdout",
     "output_type": "stream",
     "text": [
      "tensor([False, False, False,  ..., False, False, False]) / 750000\n",
      "tensor([False, False,  True,  ..., False, False, False]) / 750000\n",
      "tensor([False, False, False,  ..., False, False, False]) / 750000\n",
      "tensor([False, False, False,  ..., False, False, False]) / 750000\n",
      "tensor([False,  True, False,  ..., False, False, False]) / 750000\n",
      "tensor([False, False, False,  ...,  True, False, False]) / 750000\n",
      "tensor([False, False, False,  ..., False, False, False]) / 750000\n",
      "tensor([ True, False, False,  ..., False,  True, False]) / 750000\n",
      "tensor([False, False, False,  ..., False, False,  True]) / 750000\n",
      "tensor([False, False, False,  ..., False, False, False]) / 750000\n"
     ]
    },
    {
     "name": "stderr",
     "output_type": "stream",
     "text": [
      "\n"
     ]
    }
   ],
   "source": [
    "corruptions = ['gaussian_noise','impulse_noise','shot_noise','defocus_blur','glass_blur','motion_blur','zoom_blur','snow','frost','fog','brightness','contrast','elastic_transform','jpeg_compression','pixelate']\n",
    "\n",
    "def get_conf_cal_corr(data_loaders, model):\n",
    "    confidences = torch.zeros(len(data_loaders[0].dataset)*len(data_loaders))\n",
    "    accuracies = torch.zeros(len(data_loaders[0].dataset)*len(data_loaders))\n",
    "    print(len(confidences))\n",
    "\n",
    "    # load the entire validation set\n",
    "    with torch.no_grad():\n",
    "        for dl_idx, data_loader in enumerate(data_loaders):\n",
    "            print(corruptions[dl_idx])\n",
    "            idx = 0\n",
    "            for (img_batch, label_batch) in tqdm(data_loader):\n",
    "                img_batch, label_batch = img_batch.to('cuda'), label_batch.to('cuda')\n",
    "\n",
    "                start = dl_idx*len(data_loader.dataset) + idx*data_loader.batch_size\n",
    "                end = start + len(label_batch)\n",
    "\n",
    "                # get the model's softmax output and class predictions, then get a mask of correct predictions\n",
    "                conf, pred = torch.max(F.softmax(model(img_batch), dim=1), 1)\n",
    "                acc = pred.eq(label_batch)\n",
    "                conf,pred,acc = conf.to('cpu'),pred.to('cpu'),acc.to('cpu')\n",
    "\n",
    "                confidences[start:end] = conf\n",
    "                accuracies[start:end] = acc\n",
    "\n",
    "                idx +=  1\n",
    "\n",
    "    # initialize the calibration bins\n",
    "    n_bins = 10\n",
    "    bin_boundaries = torch.linspace(0, 1, n_bins + 1)\n",
    "    bin_lowers = bin_boundaries[:-1]\n",
    "    bin_uppers = bin_boundaries[1:]\n",
    "\n",
    "    accs = [0.0]*n_bins\n",
    "    avg_confs = [0.0]*n_bins\n",
    "\n",
    "    i = 0\n",
    "    # iterate over bins\n",
    "    for bin_lower, bin_upper in zip(bin_lowers, bin_uppers):\n",
    "        # mask to determine which confidence scores go in this bin\n",
    "        in_bin = confidences.gt(bin_lower.item()) * confidences.le(bin_upper.item())\n",
    "        print(in_bin,\"/\",len(in_bin))\n",
    "\n",
    "        # from the mask determine what percent of the confidence scores are in this bin\n",
    "        prop_in_bin = in_bin.float().mean()\n",
    "\n",
    "        # if the bin is not empty\n",
    "        if prop_in_bin.item() > 0:\n",
    "            # calculate accuracy of the bin using the mask of correct predictions\n",
    "            accuracy_in_bin = accuracies[in_bin].float().mean()\n",
    "\n",
    "            # get the average confidence score of items in this bin\n",
    "            avg_confidence_in_bin = confidences[in_bin].mean()\n",
    "            accs[i] = accuracy_in_bin\n",
    "            avg_confs[i] = avg_confidence_in_bin.detach()\n",
    "        i+=1\n",
    "    \n",
    "    # return the accuracy of all bins and the average confidence score of the bins\n",
    "    return accs, avg_confs\n",
    "\n",
    "corrs = []\n",
    "corrs64 = []\n",
    "for corr in corruptions:\n",
    "    corrs.append(load_imagenetc_val(128,1234,corr))\n",
    "    corrs64.append(load_imagenetc64_val(128,1234,corr))\n",
    "\n",
    "accs_cal, confs_cal = get_conf_cal_corr(corrs,model)\n",
    "accs64_cal, confs64_cal = get_conf_cal_corr(corrs64,model64)"
   ]
  },
  {
   "cell_type": "code",
   "execution_count": 10,
   "metadata": {},
   "outputs": [
    {
     "data": {
      "image/png": "[encoded data removed]",
      "text/plain": [
       "<Figure size 1400x600 with 1 Axes>"
      ]
     },
     "metadata": {},
     "output_type": "display_data"
    }
   ],
   "source": [
    "from matplotlib.pyplot import figure\n",
    "figure(figsize=(14, 6), dpi=100)\n",
    "bars = [\"0-10%\",\"10-20%\",\"20-30%\",\"30-40%\",\"40-50%\",\"50-60%\",\"60-70%\",\"70-80%\",\"80-90%\",\"90-100%\"]\n",
    "xpos = [0,5,10,15,20,25,30,35,40,45]\n",
    "plt.bar(xpos,confs_cal,label=\"conf\",width=2)\n",
    "plt.xticks(xpos, bars)\n",
    "plt.bar(xpos,accs_cal,label=\"acc\",width=2,alpha=0.5)\n",
    "plt.xticks(xpos, bars)\n",
    "plt.legend()\n",
    "plt.title('Mobilenet V3 Large Confidence Scores (Input 224x224)')\n",
    "plt.xlabel(\"Confidence Intervals\")\n",
    "plt.ylabel(\"Avg. Confidence and Accuracy Value per Bin\")\n",
    "plt.grid()"
   ]
  },
  {
   "cell_type": "code",
   "execution_count": 11,
   "metadata": {},
   "outputs": [
    {
     "data": {
      "image/png": "[encoded data removed]",
      "text/plain": [
       "<Figure size 1400x600 with 1 Axes>"
      ]
     },
     "metadata": {},
     "output_type": "display_data"
    }
   ],
   "source": [
    "figure(figsize=(14, 6), dpi=100)\n",
    "bars = [\"0-10%\",\"10-20%\",\"20-30%\",\"30-40%\",\"40-50%\",\"50-60%\",\"60-70%\",\"70-80%\",\"80-90%\",\"90-100%\"]\n",
    "xpos = [0,5,10,15,20,25,30,35,40,45]\n",
    "plt.bar(xpos,confs64_cal,label=\"conf\",width=2)\n",
    "plt.xticks(xpos, bars)\n",
    "plt.bar(xpos,accs64_cal,label=\"acc\",width=2,alpha=0.5)\n",
    "plt.xticks(xpos, bars)\n",
    "plt.legend()\n",
    "plt.title('Mobilenet V3 Large Confidence Scores (Input 64x64)')\n",
    "plt.xlabel(\"Confidence Intervals\")\n",
    "plt.ylabel(\"Avg. Confidence and Accuracy Value per Bin\")\n",
    "plt.grid()"
   ]
  },
  {
   "cell_type": "markdown",
   "metadata": {},
   "source": [
    "online accuracies"
   ]
  },
  {
   "cell_type": "markdown",
   "metadata": {},
   "source": [
    "put all data loaders in same order"
   ]
  },
  {
   "cell_type": "code",
   "execution_count": 21,
   "metadata": {},
   "outputs": [],
   "source": [
    "from torch.utils.data import Subset\n",
    "\n",
    "from torch.utils.data.sampler import Sampler\n",
    "\n",
    "class CustomOrder(Sampler):\n",
    "    def __init__(self, dataset):\n",
    "        self.order = torch.randperm(len(dataset))\n",
    "        \n",
    "    def __iter__(self):\n",
    "        return iter(self.order)\n",
    "    \n",
    "    def __len__(self):\n",
    "        return len(self.order)"
   ]
  },
  {
   "cell_type": "markdown",
   "metadata": {},
   "source": [
    "get all the confidences and results"
   ]
  },
  {
   "cell_type": "code",
   "execution_count": null,
   "metadata": {},
   "outputs": [],
   "source": [
    "# confidence is highest softmax output\n",
    "# result is whether a prediction was correct \n",
    "clean_confidences = torch.zeros(len(clean_val_loader.dataset))\n",
    "clean_results = torch.zeros(len(clean_val_loader.dataset))\n",
    "clean_confidences64 = torch.zeros(len(clean_val_loader.dataset))\n",
    "clean_results64 = torch.zeros(len(clean_val_loader.dataset))\n",
    "\n",
    "corr_confidences = torch.zeros(len(clean_val_loader.dataset)*len(corrs))\n",
    "corr_results = torch.zeros(len(clean_val_loader.dataset)*len(corrs))\n",
    "corr_confidences64 = torch.zeros(len(clean_val_loader.dataset)*len(corrs))\n",
    "corr_results64 = torch.zeros(len(clean_val_loader.dataset)*len(corrs))\n",
    "\n",
    "# average over 3 random orderings\n",
    "for i in range(3):\n",
    "    print(\"================ ordering:\",i, \" ================\")\n",
    "    # put all datasets in fixed order\n",
    "    fixed_order = CustomOrder(clean_val_loader.dataset)\n",
    "    rand_corr_order = torch.randperm(15)\n",
    "    clean_val_loader = DataLoader(clean_val_loader.dataset,batch_size=128,sampler=fixed_order)\n",
    "    clean_val_loader64 = DataLoader(clean_val_loader64.dataset,batch_size=128,sampler=fixed_order)\n",
    "\n",
    "    for i,corr in enumerate(corruptions):\n",
    "        corrs[i] = DataLoader(corrs[i].dataset,batch_size=128,sampler=fixed_order)\n",
    "        corrs64[i] = DataLoader(corrs64[i].dataset,batch_size=128,sampler=fixed_order)\n",
    "\n",
    "    with torch.no_grad():\n",
    "        # first get the clean results\n",
    "\n",
    "        for dl_idx, data_loader in enumerate(corrs):\n",
    "            print(corruptions[dl_idx])\n",
    "            idx = 0\n",
    "            for (img_batch, label_batch) in tqdm(data_loader):\n",
    "                img_batch, label_batch = img_batch.to('cuda'), label_batch.to('cuda')\n",
    "\n",
    "                start = dl_idx*len(data_loader.dataset) + idx*data_loader.batch_size\n",
    "                end = start + len(label_batch)\n",
    "\n",
    "                # get the model's softmax output and class predictions, then get a mask of correct predictions\n",
    "                conf, pred = torch.max(F.softmax(model(img_batch), dim=1), 1)\n",
    "                acc = pred.eq(label_batch)\n",
    "                conf,pred,acc = conf.to('cpu'),pred.to('cpu'),acc.to('cpu')\n",
    "\n",
    "                confidences[start:end] = conf\n",
    "                accuracies[start:end] = acc\n",
    "\n",
    "                idx +=  1"
   ]
  },
  {
   "cell_type": "markdown",
   "metadata": {},
   "source": [
    "clean baseline"
   ]
  },
  {
   "cell_type": "code",
   "execution_count": 17,
   "metadata": {},
   "outputs": [
    {
     "name": "stderr",
     "output_type": "stream",
     "text": [
      "  0%|          | 0/50000 [00:00<?, ?it/s]/tmp/ipykernel_3835347/1797129348.py:52: UserWarning: Implicit dimension choice for softmax has been deprecated. Change the call to include dim=X as an argument.\n",
      "  if torch.nn.Softmax()(out64).max().item() < 0.50:\n",
      "100%|██████████| 50000/50000 [12:56<00:00, 64.40it/s]\n"
     ]
    }
   ],
   "source": [
    "# clean baseline\n",
    "clean_online_acc = []\n",
    "clean_online_acc64 = []\n",
    "clean_naive_online_acc = []\n",
    "clean_oracle_acc = []\n",
    "idxs = []\n",
    "\n",
    "num_imgs = 0\n",
    "\n",
    "clean_num_correct = 0\n",
    "clean_num_correct64 = 0\n",
    "clean_num_naive_correct = 0\n",
    "clean_num_oracle_correct = 0\n",
    "\n",
    "clean_num_wrong_decisions = 0\n",
    "clean_num_choose_itself = 0\n",
    "clean_num_choose_big = 0\n",
    "\n",
    "clean_overconfident_locations = []\n",
    "clean_overconfident_imgs = []\n",
    "clean_underconfident_locations = []\n",
    "clean_underconfident_imgs = []\n",
    "\n",
    "for sample_idx in tqdm(rand_order):\n",
    "    num_imgs += 1\n",
    "    # get the image at the specified index\n",
    "    img,target = clean_val_loader.dataset[sample_idx]\n",
    "    img64,target64 = clean_val_loader64.dataset[sample_idx]\n",
    "    img,target = img.to('cuda'),torch.tensor(target).to('cuda')\n",
    "    img64,target64 = img64.to('cuda'),torch.tensor(target64).to('cuda')\n",
    "    # get the prediction\n",
    "    out = model(img.unsqueeze(0))\n",
    "    out64 = model64(img64.unsqueeze(0))\n",
    "    pred = out.argmax(dim=1).item()\n",
    "    pred64 = out64.argmax(dim=1).item()\n",
    "    res = (pred == target.item())\n",
    "    res64 = (pred64 == target64.item())\n",
    "    clean_num_correct += res\n",
    "    clean_num_correct64 += res64\n",
    "    clean_online_acc.append(clean_num_correct/num_imgs)\n",
    "    clean_online_acc64.append(clean_num_correct64/num_imgs)\n",
    "\n",
    "    # oracle, if small is right choose small, else choose big\n",
    "    if res64:\n",
    "        clean_num_oracle_correct += res64\n",
    "    else:\n",
    "        clean_num_oracle_correct += res\n",
    "    clean_oracle_acc.append(clean_num_oracle_correct/num_imgs)    \n",
    "\n",
    "\n",
    "    # naive strategy, if less than 50% confident, use big model\n",
    "    if torch.nn.Softmax()(out64).max().item() < 0.50:\n",
    "        clean_num_naive_correct += res\n",
    "        clean_num_choose_big += 1\n",
    "        # if was underconfident\n",
    "        if res64:\n",
    "            clean_num_wrong_decisions += 1\n",
    "            clean_underconfident_imgs.append(sample_idx)\n",
    "            clean_underconfident_locations.append(num_imgs)\n",
    "    else:\n",
    "        clean_num_naive_correct += res64\n",
    "        clean_num_choose_itself += 1\n",
    "        # if was overconfident\n",
    "        if not res64 and res:\n",
    "            clean_num_wrong_decisions += 1\n",
    "            clean_overconfident_imgs.append(sample_idx)\n",
    "            clean_overconfident_locations.append(num_imgs)\n",
    "    clean_naive_online_acc.append(clean_num_naive_correct/num_imgs)\n",
    "\n",
    "    idxs.append(num_imgs)"
   ]
  },
  {
   "cell_type": "code",
   "execution_count": 19,
   "metadata": {},
   "outputs": [
    {
     "data": {
      "text/plain": [
       "<matplotlib.legend.Legend at 0x7f3683e5dd90>"
      ]
     },
     "execution_count": 19,
     "metadata": {},
     "output_type": "execute_result"
    },
    {
     "data": {
      "image/png": "[encoded data removed]",
      "text/plain": [
       "<Figure size 800x600 with 1 Axes>"
      ]
     },
     "metadata": {},
     "output_type": "display_data"
    }
   ],
   "source": [
    "fig1 = plt.figure(figsize=(8,6))\n",
    "ax1 = fig1.add_subplot(111)\n",
    "ax1.plot(idxs,clean_online_acc,label='clean 224',color='red')\n",
    "ax1.plot(idxs,clean_online_acc64,label='clean 64',color='blue')\n",
    "ax1.plot(idxs,clean_oracle_acc,label='clean oracle',color='green')\n",
    "# ax1.plot(idxs,corr_online_acc,label='corrupted 224',color='black')\n",
    "# ax1.plot(idxs,corr_online_acc64,label='corrupted 64',color='green')\n",
    "ax1.plot(idxs,clean_naive_online_acc,label='naive strategy',color='purple')\n",
    "\n",
    "# ax2 = ax1.twinx()\n",
    "# px = overconfident_locations\n",
    "# py = [naive_online_acc[x] for x in px]\n",
    "# # plt.scatter(px,py,s=0.5,c='r')\n",
    "# ax2.hist(px,bins=100,alpha=0.2)\n",
    "ax1.legend(bbox_to_anchor=(1.1, 1.05))\n",
    "# ax1.set_ylabel(\"Online Accuracy\")\n",
    "# ax2.set_ylabel(\"# overconfident images\")\n",
    "# ax1.set_xlabel(\"Image Index\")"
   ]
  },
  {
   "cell_type": "markdown",
   "metadata": {},
   "source": [
    "corrupt baseline"
   ]
  },
  {
   "cell_type": "code",
   "execution_count": 14,
   "metadata": {},
   "outputs": [
    {
     "name": "stderr",
     "output_type": "stream",
     "text": [
      "  0%|          | 0/50000 [00:00<?, ?it/s]/tmp/ipykernel_3835347/1528852718.py:56: UserWarning: Implicit dimension choice for softmax has been deprecated. Change the call to include dim=X as an argument.\n",
      "  if torch.nn.Softmax()(out64).max().item() < 0.50:\n",
      "100%|██████████| 50000/50000 [10:17<00:00, 80.91it/s]\n"
     ]
    }
   ],
   "source": [
    "# naive strategy\n",
    "corr_naive_online_acc = []\n",
    "corr_online_acc = []\n",
    "corr_online_acc64 = []\n",
    "idxs = []\n",
    "num_imgs = 0\n",
    "corr_num_correct = 0\n",
    "corr_num_correct64 = 0\n",
    "corr_num_naive_correct = 0\n",
    "rand_corr_order = torch.randperm(15)\n",
    "corr_idx = 0\n",
    "corr_img_count = 0\n",
    "corr_num_wrong_decisions = 0\n",
    "corr_num_choose_itself = 0\n",
    "corr_num_choose_big = 0\n",
    "corr_overconfident_locations = []\n",
    "corr_overconfident_imgs = []\n",
    "corr_underconfident_locations = []\n",
    "corr_underconfident_imgs = []\n",
    "transition_points = [500]\n",
    "for sample_idx in tqdm(rand_order):\n",
    "    # corruptions start after the first 500 images\n",
    "    if num_imgs-1 > 499:\n",
    "        # each corruption lasts 3300 images\n",
    "        if corr_img_count == 3300:\n",
    "            corr_idx += 1\n",
    "            corr_img_count = 0\n",
    "            transition_points.append(num_imgs)\n",
    "        # get the image at the specified index\n",
    "        img,target = corrs[rand_corr_order[corr_idx]].dataset[sample_idx]\n",
    "        img64,target64 = corrs64[rand_corr_order[corr_idx]].dataset[sample_idx]\n",
    "        img,target = img.to('cuda'),torch.tensor(target).to('cuda')\n",
    "        img64,target64 = img64.to('cuda'),torch.tensor(target64).to('cuda')\n",
    "        corr_img_count += 1\n",
    "    else:\n",
    "        img,target = clean_val_loader.dataset[sample_idx]\n",
    "        img64,target64 = clean_val_loader64.dataset[sample_idx]\n",
    "        img,target = img.to('cuda'),torch.tensor(target).to('cuda')\n",
    "        img64,target64 = img64.to('cuda'),torch.tensor(target64).to('cuda')\n",
    "\n",
    "    num_imgs += 1\n",
    "    \n",
    "    # get the prediction\n",
    "    out = model(img.unsqueeze(0))\n",
    "    out64 = model64(img64.unsqueeze(0))\n",
    "    pred = out.argmax(dim=1).item()\n",
    "    pred64 = out64.argmax(dim=1).item()\n",
    "    res = (pred == target.item())\n",
    "    res64 = (pred64 == target64.item())\n",
    "    corr_num_correct += res\n",
    "    corr_num_correct64 += res64\n",
    "    corr_online_acc.append(corr_num_correct/num_imgs)\n",
    "    corr_online_acc64.append(corr_num_correct64/num_imgs)\n",
    "\n",
    "    # naive strategy, if less than 50% confident, use big model\n",
    "    if torch.nn.Softmax()(out64).max().item() < 0.50:\n",
    "        corr_num_naive_correct += res\n",
    "        corr_num_choose_big += 1\n",
    "        # if was underconfident\n",
    "        if res64:\n",
    "            corr_num_wrong_decisions += 1\n",
    "            corr_underconfident_imgs.append(sample_idx)\n",
    "            corr_underconfident_locations.append(num_imgs)\n",
    "    else:\n",
    "        corr_num_naive_correct += res64\n",
    "        corr_num_choose_itself += 1\n",
    "        # if was overconfident\n",
    "        if not res64 and res:\n",
    "            corr_num_wrong_decisions += 1\n",
    "            corr_overconfident_imgs.append(sample_idx)\n",
    "            corr_overconfident_locations.append(num_imgs)\n",
    "    corr_naive_online_acc.append(corr_num_naive_correct/num_imgs)\n",
    "    idxs.append(num_imgs)"
   ]
  }
 ],
 "metadata": {
  "kernelspec": {
   "display_name": "Python 3.9.13 ('cl')",
   "language": "python",
   "name": "python3"
  },
  "language_info": {
   "codemirror_mode": {
    "name": "ipython",
    "version": 3
   },
   "file_extension": ".py",
   "mimetype": "text/x-python",
   "name": "python",
   "nbconvert_exporter": "python",
   "pygments_lexer": "ipython3",
   "version": "3.9.13"
  },
  "orig_nbformat": 4,
  "vscode": {
   "interpreter": {
    "hash": "71152ab9c07ce901c8cf95cbd74fadea2c31d5b816d92473f31e695d403a1560"
   }
  }
 },
 "nbformat": 4,
 "nbformat_minor": 2
}
