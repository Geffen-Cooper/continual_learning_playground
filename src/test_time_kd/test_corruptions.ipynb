{
 "cells": [
  {
   "cell_type": "markdown",
   "metadata": {},
   "source": [
    "# Setup"
   ]
  },
  {
   "cell_type": "markdown",
   "metadata": {},
   "source": [
    "## Import Libraries"
   ]
  },
  {
   "cell_type": "code",
   "execution_count": 6,
   "metadata": {},
   "outputs": [],
   "source": [
    "from datasets import *\n",
    "from train import *\n",
    "from torchvision import datasets, transforms, models\n",
    "from matplotlib.pyplot import figure"
   ]
  },
  {
   "cell_type": "markdown",
   "metadata": {},
   "source": [
    "## Load Models"
   ]
  },
  {
   "cell_type": "code",
   "execution_count": 110,
   "metadata": {},
   "outputs": [
    {
     "data": {
      "text/plain": [
       "MobileNetV3(\n",
       "  (features): Sequential(\n",
       "    (0): Conv2dNormActivation(\n",
       "      (0): Conv2d(3, 16, kernel_size=(3, 3), stride=(2, 2), padding=(1, 1), bias=False)\n",
       "      (1): BatchNorm2d(16, eps=0.001, momentum=0.01, affine=True, track_running_stats=True)\n",
       "      (2): Hardswish()\n",
       "    )\n",
       "    (1): InvertedResidual(\n",
       "      (block): Sequential(\n",
       "        (0): Conv2dNormActivation(\n",
       "          (0): Conv2d(16, 16, kernel_size=(3, 3), stride=(1, 1), padding=(1, 1), groups=16, bias=False)\n",
       "          (1): BatchNorm2d(16, eps=0.001, momentum=0.01, affine=True, track_running_stats=True)\n",
       "          (2): ReLU(inplace=True)\n",
       "        )\n",
       "        (1): Conv2dNormActivation(\n",
       "          (0): Conv2d(16, 16, kernel_size=(1, 1), stride=(1, 1), bias=False)\n",
       "          (1): BatchNorm2d(16, eps=0.001, momentum=0.01, affine=True, track_running_stats=True)\n",
       "        )\n",
       "      )\n",
       "    )\n",
       "    (2): InvertedResidual(\n",
       "      (block): Sequential(\n",
       "        (0): Conv2dNormActivation(\n",
       "          (0): Conv2d(16, 64, kernel_size=(1, 1), stride=(1, 1), bias=False)\n",
       "          (1): BatchNorm2d(64, eps=0.001, momentum=0.01, affine=True, track_running_stats=True)\n",
       "          (2): ReLU(inplace=True)\n",
       "        )\n",
       "        (1): Conv2dNormActivation(\n",
       "          (0): Conv2d(64, 64, kernel_size=(3, 3), stride=(2, 2), padding=(1, 1), groups=64, bias=False)\n",
       "          (1): BatchNorm2d(64, eps=0.001, momentum=0.01, affine=True, track_running_stats=True)\n",
       "          (2): ReLU(inplace=True)\n",
       "        )\n",
       "        (2): Conv2dNormActivation(\n",
       "          (0): Conv2d(64, 24, kernel_size=(1, 1), stride=(1, 1), bias=False)\n",
       "          (1): BatchNorm2d(24, eps=0.001, momentum=0.01, affine=True, track_running_stats=True)\n",
       "        )\n",
       "      )\n",
       "    )\n",
       "    (3): InvertedResidual(\n",
       "      (block): Sequential(\n",
       "        (0): Conv2dNormActivation(\n",
       "          (0): Conv2d(24, 72, kernel_size=(1, 1), stride=(1, 1), bias=False)\n",
       "          (1): BatchNorm2d(72, eps=0.001, momentum=0.01, affine=True, track_running_stats=True)\n",
       "          (2): ReLU(inplace=True)\n",
       "        )\n",
       "        (1): Conv2dNormActivation(\n",
       "          (0): Conv2d(72, 72, kernel_size=(3, 3), stride=(1, 1), padding=(1, 1), groups=72, bias=False)\n",
       "          (1): BatchNorm2d(72, eps=0.001, momentum=0.01, affine=True, track_running_stats=True)\n",
       "          (2): ReLU(inplace=True)\n",
       "        )\n",
       "        (2): Conv2dNormActivation(\n",
       "          (0): Conv2d(72, 24, kernel_size=(1, 1), stride=(1, 1), bias=False)\n",
       "          (1): BatchNorm2d(24, eps=0.001, momentum=0.01, affine=True, track_running_stats=True)\n",
       "        )\n",
       "      )\n",
       "    )\n",
       "    (4): InvertedResidual(\n",
       "      (block): Sequential(\n",
       "        (0): Conv2dNormActivation(\n",
       "          (0): Conv2d(24, 72, kernel_size=(1, 1), stride=(1, 1), bias=False)\n",
       "          (1): BatchNorm2d(72, eps=0.001, momentum=0.01, affine=True, track_running_stats=True)\n",
       "          (2): ReLU(inplace=True)\n",
       "        )\n",
       "        (1): Conv2dNormActivation(\n",
       "          (0): Conv2d(72, 72, kernel_size=(5, 5), stride=(2, 2), padding=(2, 2), groups=72, bias=False)\n",
       "          (1): BatchNorm2d(72, eps=0.001, momentum=0.01, affine=True, track_running_stats=True)\n",
       "          (2): ReLU(inplace=True)\n",
       "        )\n",
       "        (2): SqueezeExcitation(\n",
       "          (avgpool): AdaptiveAvgPool2d(output_size=1)\n",
       "          (fc1): Conv2d(72, 24, kernel_size=(1, 1), stride=(1, 1))\n",
       "          (fc2): Conv2d(24, 72, kernel_size=(1, 1), stride=(1, 1))\n",
       "          (activation): ReLU()\n",
       "          (scale_activation): Hardsigmoid()\n",
       "        )\n",
       "        (3): Conv2dNormActivation(\n",
       "          (0): Conv2d(72, 40, kernel_size=(1, 1), stride=(1, 1), bias=False)\n",
       "          (1): BatchNorm2d(40, eps=0.001, momentum=0.01, affine=True, track_running_stats=True)\n",
       "        )\n",
       "      )\n",
       "    )\n",
       "    (5): InvertedResidual(\n",
       "      (block): Sequential(\n",
       "        (0): Conv2dNormActivation(\n",
       "          (0): Conv2d(40, 120, kernel_size=(1, 1), stride=(1, 1), bias=False)\n",
       "          (1): BatchNorm2d(120, eps=0.001, momentum=0.01, affine=True, track_running_stats=True)\n",
       "          (2): ReLU(inplace=True)\n",
       "        )\n",
       "        (1): Conv2dNormActivation(\n",
       "          (0): Conv2d(120, 120, kernel_size=(5, 5), stride=(1, 1), padding=(2, 2), groups=120, bias=False)\n",
       "          (1): BatchNorm2d(120, eps=0.001, momentum=0.01, affine=True, track_running_stats=True)\n",
       "          (2): ReLU(inplace=True)\n",
       "        )\n",
       "        (2): SqueezeExcitation(\n",
       "          (avgpool): AdaptiveAvgPool2d(output_size=1)\n",
       "          (fc1): Conv2d(120, 32, kernel_size=(1, 1), stride=(1, 1))\n",
       "          (fc2): Conv2d(32, 120, kernel_size=(1, 1), stride=(1, 1))\n",
       "          (activation): ReLU()\n",
       "          (scale_activation): Hardsigmoid()\n",
       "        )\n",
       "        (3): Conv2dNormActivation(\n",
       "          (0): Conv2d(120, 40, kernel_size=(1, 1), stride=(1, 1), bias=False)\n",
       "          (1): BatchNorm2d(40, eps=0.001, momentum=0.01, affine=True, track_running_stats=True)\n",
       "        )\n",
       "      )\n",
       "    )\n",
       "    (6): InvertedResidual(\n",
       "      (block): Sequential(\n",
       "        (0): Conv2dNormActivation(\n",
       "          (0): Conv2d(40, 120, kernel_size=(1, 1), stride=(1, 1), bias=False)\n",
       "          (1): BatchNorm2d(120, eps=0.001, momentum=0.01, affine=True, track_running_stats=True)\n",
       "          (2): ReLU(inplace=True)\n",
       "        )\n",
       "        (1): Conv2dNormActivation(\n",
       "          (0): Conv2d(120, 120, kernel_size=(5, 5), stride=(1, 1), padding=(2, 2), groups=120, bias=False)\n",
       "          (1): BatchNorm2d(120, eps=0.001, momentum=0.01, affine=True, track_running_stats=True)\n",
       "          (2): ReLU(inplace=True)\n",
       "        )\n",
       "        (2): SqueezeExcitation(\n",
       "          (avgpool): AdaptiveAvgPool2d(output_size=1)\n",
       "          (fc1): Conv2d(120, 32, kernel_size=(1, 1), stride=(1, 1))\n",
       "          (fc2): Conv2d(32, 120, kernel_size=(1, 1), stride=(1, 1))\n",
       "          (activation): ReLU()\n",
       "          (scale_activation): Hardsigmoid()\n",
       "        )\n",
       "        (3): Conv2dNormActivation(\n",
       "          (0): Conv2d(120, 40, kernel_size=(1, 1), stride=(1, 1), bias=False)\n",
       "          (1): BatchNorm2d(40, eps=0.001, momentum=0.01, affine=True, track_running_stats=True)\n",
       "        )\n",
       "      )\n",
       "    )\n",
       "    (7): InvertedResidual(\n",
       "      (block): Sequential(\n",
       "        (0): Conv2dNormActivation(\n",
       "          (0): Conv2d(40, 240, kernel_size=(1, 1), stride=(1, 1), bias=False)\n",
       "          (1): BatchNorm2d(240, eps=0.001, momentum=0.01, affine=True, track_running_stats=True)\n",
       "          (2): Hardswish()\n",
       "        )\n",
       "        (1): Conv2dNormActivation(\n",
       "          (0): Conv2d(240, 240, kernel_size=(3, 3), stride=(2, 2), padding=(1, 1), groups=240, bias=False)\n",
       "          (1): BatchNorm2d(240, eps=0.001, momentum=0.01, affine=True, track_running_stats=True)\n",
       "          (2): Hardswish()\n",
       "        )\n",
       "        (2): Conv2dNormActivation(\n",
       "          (0): Conv2d(240, 80, kernel_size=(1, 1), stride=(1, 1), bias=False)\n",
       "          (1): BatchNorm2d(80, eps=0.001, momentum=0.01, affine=True, track_running_stats=True)\n",
       "        )\n",
       "      )\n",
       "    )\n",
       "    (8): InvertedResidual(\n",
       "      (block): Sequential(\n",
       "        (0): Conv2dNormActivation(\n",
       "          (0): Conv2d(80, 200, kernel_size=(1, 1), stride=(1, 1), bias=False)\n",
       "          (1): BatchNorm2d(200, eps=0.001, momentum=0.01, affine=True, track_running_stats=True)\n",
       "          (2): Hardswish()\n",
       "        )\n",
       "        (1): Conv2dNormActivation(\n",
       "          (0): Conv2d(200, 200, kernel_size=(3, 3), stride=(1, 1), padding=(1, 1), groups=200, bias=False)\n",
       "          (1): BatchNorm2d(200, eps=0.001, momentum=0.01, affine=True, track_running_stats=True)\n",
       "          (2): Hardswish()\n",
       "        )\n",
       "        (2): Conv2dNormActivation(\n",
       "          (0): Conv2d(200, 80, kernel_size=(1, 1), stride=(1, 1), bias=False)\n",
       "          (1): BatchNorm2d(80, eps=0.001, momentum=0.01, affine=True, track_running_stats=True)\n",
       "        )\n",
       "      )\n",
       "    )\n",
       "    (9): InvertedResidual(\n",
       "      (block): Sequential(\n",
       "        (0): Conv2dNormActivation(\n",
       "          (0): Conv2d(80, 184, kernel_size=(1, 1), stride=(1, 1), bias=False)\n",
       "          (1): BatchNorm2d(184, eps=0.001, momentum=0.01, affine=True, track_running_stats=True)\n",
       "          (2): Hardswish()\n",
       "        )\n",
       "        (1): Conv2dNormActivation(\n",
       "          (0): Conv2d(184, 184, kernel_size=(3, 3), stride=(1, 1), padding=(1, 1), groups=184, bias=False)\n",
       "          (1): BatchNorm2d(184, eps=0.001, momentum=0.01, affine=True, track_running_stats=True)\n",
       "          (2): Hardswish()\n",
       "        )\n",
       "        (2): Conv2dNormActivation(\n",
       "          (0): Conv2d(184, 80, kernel_size=(1, 1), stride=(1, 1), bias=False)\n",
       "          (1): BatchNorm2d(80, eps=0.001, momentum=0.01, affine=True, track_running_stats=True)\n",
       "        )\n",
       "      )\n",
       "    )\n",
       "    (10): InvertedResidual(\n",
       "      (block): Sequential(\n",
       "        (0): Conv2dNormActivation(\n",
       "          (0): Conv2d(80, 184, kernel_size=(1, 1), stride=(1, 1), bias=False)\n",
       "          (1): BatchNorm2d(184, eps=0.001, momentum=0.01, affine=True, track_running_stats=True)\n",
       "          (2): Hardswish()\n",
       "        )\n",
       "        (1): Conv2dNormActivation(\n",
       "          (0): Conv2d(184, 184, kernel_size=(3, 3), stride=(1, 1), padding=(1, 1), groups=184, bias=False)\n",
       "          (1): BatchNorm2d(184, eps=0.001, momentum=0.01, affine=True, track_running_stats=True)\n",
       "          (2): Hardswish()\n",
       "        )\n",
       "        (2): Conv2dNormActivation(\n",
       "          (0): Conv2d(184, 80, kernel_size=(1, 1), stride=(1, 1), bias=False)\n",
       "          (1): BatchNorm2d(80, eps=0.001, momentum=0.01, affine=True, track_running_stats=True)\n",
       "        )\n",
       "      )\n",
       "    )\n",
       "    (11): InvertedResidual(\n",
       "      (block): Sequential(\n",
       "        (0): Conv2dNormActivation(\n",
       "          (0): Conv2d(80, 480, kernel_size=(1, 1), stride=(1, 1), bias=False)\n",
       "          (1): BatchNorm2d(480, eps=0.001, momentum=0.01, affine=True, track_running_stats=True)\n",
       "          (2): Hardswish()\n",
       "        )\n",
       "        (1): Conv2dNormActivation(\n",
       "          (0): Conv2d(480, 480, kernel_size=(3, 3), stride=(1, 1), padding=(1, 1), groups=480, bias=False)\n",
       "          (1): BatchNorm2d(480, eps=0.001, momentum=0.01, affine=True, track_running_stats=True)\n",
       "          (2): Hardswish()\n",
       "        )\n",
       "        (2): SqueezeExcitation(\n",
       "          (avgpool): AdaptiveAvgPool2d(output_size=1)\n",
       "          (fc1): Conv2d(480, 120, kernel_size=(1, 1), stride=(1, 1))\n",
       "          (fc2): Conv2d(120, 480, kernel_size=(1, 1), stride=(1, 1))\n",
       "          (activation): ReLU()\n",
       "          (scale_activation): Hardsigmoid()\n",
       "        )\n",
       "        (3): Conv2dNormActivation(\n",
       "          (0): Conv2d(480, 112, kernel_size=(1, 1), stride=(1, 1), bias=False)\n",
       "          (1): BatchNorm2d(112, eps=0.001, momentum=0.01, affine=True, track_running_stats=True)\n",
       "        )\n",
       "      )\n",
       "    )\n",
       "    (12): InvertedResidual(\n",
       "      (block): Sequential(\n",
       "        (0): Conv2dNormActivation(\n",
       "          (0): Conv2d(112, 672, kernel_size=(1, 1), stride=(1, 1), bias=False)\n",
       "          (1): BatchNorm2d(672, eps=0.001, momentum=0.01, affine=True, track_running_stats=True)\n",
       "          (2): Hardswish()\n",
       "        )\n",
       "        (1): Conv2dNormActivation(\n",
       "          (0): Conv2d(672, 672, kernel_size=(3, 3), stride=(1, 1), padding=(1, 1), groups=672, bias=False)\n",
       "          (1): BatchNorm2d(672, eps=0.001, momentum=0.01, affine=True, track_running_stats=True)\n",
       "          (2): Hardswish()\n",
       "        )\n",
       "        (2): SqueezeExcitation(\n",
       "          (avgpool): AdaptiveAvgPool2d(output_size=1)\n",
       "          (fc1): Conv2d(672, 168, kernel_size=(1, 1), stride=(1, 1))\n",
       "          (fc2): Conv2d(168, 672, kernel_size=(1, 1), stride=(1, 1))\n",
       "          (activation): ReLU()\n",
       "          (scale_activation): Hardsigmoid()\n",
       "        )\n",
       "        (3): Conv2dNormActivation(\n",
       "          (0): Conv2d(672, 112, kernel_size=(1, 1), stride=(1, 1), bias=False)\n",
       "          (1): BatchNorm2d(112, eps=0.001, momentum=0.01, affine=True, track_running_stats=True)\n",
       "        )\n",
       "      )\n",
       "    )\n",
       "    (13): InvertedResidual(\n",
       "      (block): Sequential(\n",
       "        (0): Conv2dNormActivation(\n",
       "          (0): Conv2d(112, 672, kernel_size=(1, 1), stride=(1, 1), bias=False)\n",
       "          (1): BatchNorm2d(672, eps=0.001, momentum=0.01, affine=True, track_running_stats=True)\n",
       "          (2): Hardswish()\n",
       "        )\n",
       "        (1): Conv2dNormActivation(\n",
       "          (0): Conv2d(672, 672, kernel_size=(5, 5), stride=(2, 2), padding=(2, 2), groups=672, bias=False)\n",
       "          (1): BatchNorm2d(672, eps=0.001, momentum=0.01, affine=True, track_running_stats=True)\n",
       "          (2): Hardswish()\n",
       "        )\n",
       "        (2): SqueezeExcitation(\n",
       "          (avgpool): AdaptiveAvgPool2d(output_size=1)\n",
       "          (fc1): Conv2d(672, 168, kernel_size=(1, 1), stride=(1, 1))\n",
       "          (fc2): Conv2d(168, 672, kernel_size=(1, 1), stride=(1, 1))\n",
       "          (activation): ReLU()\n",
       "          (scale_activation): Hardsigmoid()\n",
       "        )\n",
       "        (3): Conv2dNormActivation(\n",
       "          (0): Conv2d(672, 160, kernel_size=(1, 1), stride=(1, 1), bias=False)\n",
       "          (1): BatchNorm2d(160, eps=0.001, momentum=0.01, affine=True, track_running_stats=True)\n",
       "        )\n",
       "      )\n",
       "    )\n",
       "    (14): InvertedResidual(\n",
       "      (block): Sequential(\n",
       "        (0): Conv2dNormActivation(\n",
       "          (0): Conv2d(160, 960, kernel_size=(1, 1), stride=(1, 1), bias=False)\n",
       "          (1): BatchNorm2d(960, eps=0.001, momentum=0.01, affine=True, track_running_stats=True)\n",
       "          (2): Hardswish()\n",
       "        )\n",
       "        (1): Conv2dNormActivation(\n",
       "          (0): Conv2d(960, 960, kernel_size=(5, 5), stride=(1, 1), padding=(2, 2), groups=960, bias=False)\n",
       "          (1): BatchNorm2d(960, eps=0.001, momentum=0.01, affine=True, track_running_stats=True)\n",
       "          (2): Hardswish()\n",
       "        )\n",
       "        (2): SqueezeExcitation(\n",
       "          (avgpool): AdaptiveAvgPool2d(output_size=1)\n",
       "          (fc1): Conv2d(960, 240, kernel_size=(1, 1), stride=(1, 1))\n",
       "          (fc2): Conv2d(240, 960, kernel_size=(1, 1), stride=(1, 1))\n",
       "          (activation): ReLU()\n",
       "          (scale_activation): Hardsigmoid()\n",
       "        )\n",
       "        (3): Conv2dNormActivation(\n",
       "          (0): Conv2d(960, 160, kernel_size=(1, 1), stride=(1, 1), bias=False)\n",
       "          (1): BatchNorm2d(160, eps=0.001, momentum=0.01, affine=True, track_running_stats=True)\n",
       "        )\n",
       "      )\n",
       "    )\n",
       "    (15): InvertedResidual(\n",
       "      (block): Sequential(\n",
       "        (0): Conv2dNormActivation(\n",
       "          (0): Conv2d(160, 960, kernel_size=(1, 1), stride=(1, 1), bias=False)\n",
       "          (1): BatchNorm2d(960, eps=0.001, momentum=0.01, affine=True, track_running_stats=True)\n",
       "          (2): Hardswish()\n",
       "        )\n",
       "        (1): Conv2dNormActivation(\n",
       "          (0): Conv2d(960, 960, kernel_size=(5, 5), stride=(1, 1), padding=(2, 2), groups=960, bias=False)\n",
       "          (1): BatchNorm2d(960, eps=0.001, momentum=0.01, affine=True, track_running_stats=True)\n",
       "          (2): Hardswish()\n",
       "        )\n",
       "        (2): SqueezeExcitation(\n",
       "          (avgpool): AdaptiveAvgPool2d(output_size=1)\n",
       "          (fc1): Conv2d(960, 240, kernel_size=(1, 1), stride=(1, 1))\n",
       "          (fc2): Conv2d(240, 960, kernel_size=(1, 1), stride=(1, 1))\n",
       "          (activation): ReLU()\n",
       "          (scale_activation): Hardsigmoid()\n",
       "        )\n",
       "        (3): Conv2dNormActivation(\n",
       "          (0): Conv2d(960, 160, kernel_size=(1, 1), stride=(1, 1), bias=False)\n",
       "          (1): BatchNorm2d(160, eps=0.001, momentum=0.01, affine=True, track_running_stats=True)\n",
       "        )\n",
       "      )\n",
       "    )\n",
       "    (16): Conv2dNormActivation(\n",
       "      (0): Conv2d(160, 960, kernel_size=(1, 1), stride=(1, 1), bias=False)\n",
       "      (1): BatchNorm2d(960, eps=0.001, momentum=0.01, affine=True, track_running_stats=True)\n",
       "      (2): Hardswish()\n",
       "    )\n",
       "  )\n",
       "  (avgpool): AdaptiveAvgPool2d(output_size=1)\n",
       "  (classifier): Sequential(\n",
       "    (0): Linear(in_features=960, out_features=1280, bias=True)\n",
       "    (1): Hardswish()\n",
       "    (2): Dropout(p=0.2, inplace=True)\n",
       "    (3): Linear(in_features=1280, out_features=1000, bias=True)\n",
       "  )\n",
       ")"
      ]
     },
     "execution_count": 110,
     "metadata": {},
     "output_type": "execute_result"
    }
   ],
   "source": [
    "model = models.mobilenet_v3_large(weights='DEFAULT').to('cuda')\n",
    "model64 = models.mobilenet_v3_large()\n",
    "model64.load_state_dict(torch.load(\"best_modelsv3/best_batch_i1081020.pth\")['model_state_dict'])\n",
    "model64.to('cuda')\n",
    "model.eval()\n",
    "model64.eval()"
   ]
  },
  {
   "cell_type": "markdown",
   "metadata": {},
   "source": [
    "## Load Validation Sets"
   ]
  },
  {
   "cell_type": "markdown",
   "metadata": {},
   "source": [
    "### Clean Validation Sets"
   ]
  },
  {
   "cell_type": "code",
   "execution_count": 109,
   "metadata": {},
   "outputs": [],
   "source": [
    "clean_val_loader = load_imagenet(128,1234,False)\n",
    "clean_val_loader64 = load_imagenet64(128,1234,False)"
   ]
  },
  {
   "cell_type": "markdown",
   "metadata": {},
   "source": [
    "### Corrupted Validation Sets"
   ]
  },
  {
   "cell_type": "code",
   "execution_count": 4,
   "metadata": {},
   "outputs": [],
   "source": [
    "corruptions = ['gaussian_noise','impulse_noise','shot_noise','defocus_blur','glass_blur','motion_blur','zoom_blur','snow','frost','fog','brightness','contrast','elastic_transform','jpeg_compression','pixelate']\n",
    "\n",
    "corr_val_loaders = []\n",
    "corr_val_loaders64 = []\n",
    "for corr in corruptions:\n",
    "    corr_val_loaders.append(load_imagenetc_val(128,1234,corr,severity=1))\n",
    "    corr_val_loaders64.append(load_imagenetc64_val(128,1234,corr,severity=1))"
   ]
  },
  {
   "cell_type": "markdown",
   "metadata": {},
   "source": [
    "# Baseline Accuracies"
   ]
  },
  {
   "cell_type": "markdown",
   "metadata": {},
   "source": [
    "## test clean validation sets"
   ]
  },
  {
   "cell_type": "code",
   "execution_count": 5,
   "metadata": {},
   "outputs": [
    {
     "name": "stderr",
     "output_type": "stream",
     "text": [
      "100%|██████████| 391/391 [04:08<00:00,  1.57it/s]\n",
      "100%|██████████| 391/391 [00:18<00:00, 20.64it/s]\n"
     ]
    }
   ],
   "source": [
    "acc_clean = validate(model,clean_val_loader,'cuda')\n",
    "acc64_clean = validate(model64,clean_val_loader64,'cuda')"
   ]
  },
  {
   "cell_type": "markdown",
   "metadata": {},
   "source": [
    "## test corrupted validation sets"
   ]
  },
  {
   "cell_type": "code",
   "execution_count": 7,
   "metadata": {},
   "outputs": [
    {
     "name": "stderr",
     "output_type": "stream",
     "text": [
      "100%|██████████| 391/391 [00:26<00:00, 14.93it/s]\n",
      "100%|██████████| 391/391 [00:05<00:00, 71.84it/s]\n",
      "100%|██████████| 391/391 [00:26<00:00, 14.98it/s]\n",
      "100%|██████████| 391/391 [00:05<00:00, 74.57it/s]\n",
      "100%|██████████| 391/391 [00:28<00:00, 13.53it/s]\n",
      "100%|██████████| 391/391 [00:05<00:00, 77.28it/s]\n",
      "100%|██████████| 391/391 [00:24<00:00, 16.20it/s]\n",
      "100%|██████████| 391/391 [00:04<00:00, 79.17it/s]\n",
      "100%|██████████| 391/391 [00:24<00:00, 16.09it/s]\n",
      "100%|██████████| 391/391 [00:04<00:00, 82.05it/s]\n",
      "100%|██████████| 391/391 [00:22<00:00, 17.36it/s]\n",
      "100%|██████████| 391/391 [00:04<00:00, 84.19it/s]\n",
      "100%|██████████| 391/391 [00:22<00:00, 17.60it/s]\n",
      "100%|██████████| 391/391 [00:04<00:00, 82.71it/s]\n",
      "100%|██████████| 391/391 [00:24<00:00, 16.28it/s]\n",
      "100%|██████████| 391/391 [00:04<00:00, 82.36it/s]\n",
      "100%|██████████| 391/391 [00:23<00:00, 16.64it/s]\n",
      "100%|██████████| 391/391 [00:04<00:00, 82.73it/s]\n",
      "100%|██████████| 391/391 [00:23<00:00, 16.92it/s]\n",
      "100%|██████████| 391/391 [00:04<00:00, 82.75it/s]\n",
      "100%|██████████| 391/391 [00:23<00:00, 16.64it/s]\n",
      "100%|██████████| 391/391 [00:04<00:00, 82.23it/s]\n",
      "100%|██████████| 391/391 [00:22<00:00, 17.19it/s]\n",
      "100%|██████████| 391/391 [00:04<00:00, 83.75it/s]\n",
      "100%|██████████| 391/391 [00:22<00:00, 17.08it/s]\n",
      "100%|██████████| 391/391 [00:04<00:00, 82.74it/s]\n",
      "100%|██████████| 391/391 [00:22<00:00, 17.33it/s]\n",
      "100%|██████████| 391/391 [00:04<00:00, 81.81it/s]\n",
      "100%|██████████| 391/391 [00:23<00:00, 16.37it/s]\n",
      "100%|██████████| 391/391 [00:04<00:00, 81.21it/s]\n"
     ]
    }
   ],
   "source": [
    "acc_corr = []\n",
    "acc_corr64 = []\n",
    "\n",
    "for i,corr_set in enumerate(corr_val_loaders):\n",
    "    acc_corr.append(validate(model,corr_val_loaders[i],'cuda')[0])\n",
    "    acc_corr64.append(validate(model64,corr_val_loaders64[i],'cuda')[0])"
   ]
  },
  {
   "cell_type": "markdown",
   "metadata": {},
   "source": [
    "## save results to csv"
   ]
  },
  {
   "cell_type": "code",
   "execution_count": 8,
   "metadata": {},
   "outputs": [],
   "source": [
    "import pandas as pd\n",
    "df = pd.DataFrame(columns=corruptions)\n",
    "df.loc[0] = acc_corr\n",
    "df.loc[1] = acc_corr64\n",
    "df.insert(0, \"Model\", ['224x224', '64x64'])\n",
    "df.insert(1,'Clean Acc.',[acc_clean,acc64_clean])\n",
    "df.insert(2,'Avg Corr. Acc.',[sum(acc_corr)/len(acc_corr),sum(acc_corr64)/len(acc_corr64)])\n",
    "df.to_csv(\"accuracy results1.csv\")"
   ]
  },
  {
   "cell_type": "markdown",
   "metadata": {},
   "source": [
    "# Get confidence Scores"
   ]
  },
  {
   "cell_type": "markdown",
   "metadata": {},
   "source": [
    "## clean confidence scores"
   ]
  },
  {
   "cell_type": "markdown",
   "metadata": {},
   "source": [
    "### function to get confidence bins and distribution"
   ]
  },
  {
   "cell_type": "code",
   "execution_count": 111,
   "metadata": {},
   "outputs": [],
   "source": [
    "# pass in validation set and model\n",
    "def get_conf_cal(data_loader, model):\n",
    "    # store the confidence and prediction result for each sample\n",
    "    confidences = torch.zeros(len(data_loader.dataset))\n",
    "    accuracies = torch.zeros(len(data_loader.dataset))\n",
    "\n",
    "    # get the confidence and predictions result for each sample\n",
    "    idx = 0\n",
    "    with torch.no_grad():\n",
    "        for (img_batch, label_batch) in tqdm(data_loader):\n",
    "            img_batch, label_batch = img_batch.to('cuda'), label_batch.to('cuda')\n",
    "\n",
    "            # save the next batch of results based on start and end idxs\n",
    "            start = idx*data_loader.batch_size\n",
    "            end = start + len(label_batch)\n",
    "\n",
    "            # get the model's softmax output and class predictions, then get a mask of correct predictions\n",
    "            conf, pred = torch.max(F.softmax(model(img_batch), dim=1), 1)\n",
    "            acc = pred.eq(label_batch)\n",
    "            conf,pred,acc = conf.to('cpu'),pred.to('cpu'),acc.to('cpu')\n",
    "\n",
    "            confidences[start:end] = conf\n",
    "            accuracies[start:end] = acc\n",
    "            idx +=  1\n",
    "\n",
    "    # initialize the calibration bins\n",
    "    n_bins = 10\n",
    "    bin_boundaries = torch.linspace(0, 1, n_bins + 1)\n",
    "    bin_lowers = bin_boundaries[:-1]\n",
    "    bin_uppers = bin_boundaries[1:]\n",
    "\n",
    "    accs = [0.0]*n_bins\n",
    "    avg_confs = [0.0]*n_bins\n",
    "    confs_hist = [0.0]*n_bins\n",
    "    total_avg_conf = 0.0\n",
    "    total_acc = 0.0\n",
    "\n",
    "    i = 0\n",
    "    # iterate over bins\n",
    "    for bin_lower, bin_upper in zip(bin_lowers, bin_uppers):\n",
    "        # mask to determine which confidence scores go in this bin\n",
    "        in_bin = confidences.gt(bin_lower.item()) * confidences.le(bin_upper.item())\n",
    "\n",
    "        # from the mask determine what percent of the confidence scores are in this bin\n",
    "        prop_in_bin = in_bin.float().mean()\n",
    "\n",
    "        confs_hist[i] = len(confidences[in_bin])/len(data_loader.dataset)\n",
    "\n",
    "        # if the bin is not empty\n",
    "        if prop_in_bin.item() > 0:\n",
    "            # calculate accuracy of the bin using the mask of correct predictions\n",
    "            accuracy_in_bin = accuracies[in_bin].float().mean()\n",
    "\n",
    "            # get the average confidence score of items in this bin\n",
    "            avg_confidence_in_bin = confidences[in_bin].mean()\n",
    "            accs[i] = accuracy_in_bin\n",
    "            avg_confs[i] = avg_confidence_in_bin.detach()\n",
    "        i+=1\n",
    "\n",
    "    total_avg_conf = sum([avg_confs[i]*confs_hist[i] for i in range(len(confs_hist))]) # weight by confidence histogram\n",
    "    total_acc = sum([accs[i]*confs_hist[i] for i in range(len(confs_hist))])\n",
    "    \n",
    "    # return the accuracy of all bins and the average confidence score of the bins\n",
    "    return accs, avg_confs, confs_hist, total_avg_conf, total_acc"
   ]
  },
  {
   "cell_type": "markdown",
   "metadata": {},
   "source": [
    "get the confidence scores for both 224 and 64"
   ]
  },
  {
   "cell_type": "code",
   "execution_count": 112,
   "metadata": {},
   "outputs": [
    {
     "name": "stderr",
     "output_type": "stream",
     "text": [
      "100%|██████████| 391/391 [03:51<00:00,  1.69it/s]\n",
      "100%|██████████| 391/391 [00:13<00:00, 28.83it/s]\n"
     ]
    }
   ],
   "source": [
    "accs_cal, confs_cal, confs_hist, total_avg_conf, total_acc = get_conf_cal(clean_val_loader,model)\n",
    "accs64_cal, confs64_cal, confs_hist64, total_avg_conf64, total_acc64 = get_conf_cal(clean_val_loader64,model64)"
   ]
  },
  {
   "cell_type": "markdown",
   "metadata": {},
   "source": [
    "conf hist for 224"
   ]
  },
  {
   "cell_type": "code",
   "execution_count": 117,
   "metadata": {},
   "outputs": [
    {
     "data": {
      "text/plain": [
       "(-2.5, 47.5)"
      ]
     },
     "execution_count": 117,
     "metadata": {},
     "output_type": "execute_result"
    },
    {
     "data": {
      "image/png": "[encoded data removed]",
      "text/plain": [
       "<Figure size 1400x600 with 1 Axes>"
      ]
     },
     "metadata": {},
     "output_type": "display_data"
    }
   ],
   "source": [
    "figure(figsize=(14, 6), dpi=100)\n",
    "bars = [\"0\",\"10\",\"20\",\"30\",\"40\",\"50\",\"60\",\"70\",\"80\",\"90\",\"100\"]\n",
    "xpos = [0,5,10,15,20,25,30,35,40,45,50]\n",
    "xtickpos = [xpos[i]-2.5 for i in range(len(xpos))]\n",
    "plt.rc('axes', axisbelow=True)\n",
    "plt.grid()\n",
    "plt.bar(xpos[:-1],confs_hist,width=5,edgecolor = \"black\",linewidth=3)\n",
    "plt.xticks(xtickpos, bars)\n",
    "plt.axvline(x = total_acc*50-2.5, color = 'k', label = 'avg accuracy')\n",
    "plt.axvline(x = total_avg_conf*50-2.5, color = 'k', label = 'avg confidence',linestyle=\"--\")\n",
    "plt.legend()\n",
    "plt.title('Mobilenet V3 Large Confidence Histogram (Input 224x224) Clean')\n",
    "plt.xlabel(\"Confidence Intervals\")\n",
    "plt.ylabel(\"Confidence Distribution\")\n",
    "plt.ylim([0,1])\n",
    "plt.xlim([-2.5,47.5])"
   ]
  },
  {
   "cell_type": "markdown",
   "metadata": {},
   "source": [
    "reliability plot for 224"
   ]
  },
  {
   "cell_type": "code",
   "execution_count": 118,
   "metadata": {},
   "outputs": [
    {
     "name": "stdout",
     "output_type": "stream",
     "text": [
      "[tensor(0.0550), tensor(0.1247), tensor(0.1759), tensor(0.2160), tensor(0.2206), tensor(0.2373), tensor(0.2229), tensor(0.1905), tensor(0.1280), tensor(0.0457)]\n",
      "[tensor(0.0769), tensor(0.1528), tensor(0.2508), tensor(0.3508), tensor(0.4500), tensor(0.5506), tensor(0.6525), tensor(0.7538), tensor(0.8466), tensor(0.9344)]\n"
     ]
    },
    {
     "data": {
      "image/png": "[encoded data removed]",
      "text/plain": [
       "<Figure size 1400x600 with 1 Axes>"
      ]
     },
     "metadata": {},
     "output_type": "display_data"
    }
   ],
   "source": [
    "figure(figsize=(14, 6), dpi=100)\n",
    "bars = [\"0\",\"10\",\"20\",\"30\",\"40\",\"50\",\"60\",\"70\",\"80\",\"90\",\"100\"]\n",
    "xpos = [0,5,10,15,20,25,30,35,40,45,50]\n",
    "xtickpos = [xpos[i]-2.5 for i in range(len(xpos))]\n",
    "plt.bar(xpos[:-1],accs_cal,label=\"acc\",width=5,edgecolor='black',linewidth=3)\n",
    "plt.xticks(xtickpos, bars)\n",
    "bot = []\n",
    "top = []\n",
    "for i,c in enumerate(confs_cal):\n",
    "    if c > accs_cal[i]:\n",
    "        bot.append(accs_cal[i])\n",
    "        top.append(c-accs_cal[i])\n",
    "    else:\n",
    "        bot.append(c)\n",
    "        top.append(accs_cal[i]-c)\n",
    "print(top)\n",
    "print(bot)\n",
    "plt.bar(xpos[:-1],top,label=\"gap\",width=5,edgecolor='red',bottom=bot,color='red',alpha=0.25,linewidth=4)\n",
    "plt.legend()\n",
    "plt.title('Mobilenet V3 Large Confidence Scores (Input 224x224) Clean')\n",
    "plt.xlabel(\"Confidence Intervals\")\n",
    "plt.ylabel(\"Avg. Confidence and Accuracy Value per Bin\")\n",
    "plt.ylim([0,1])\n",
    "plt.xlim([-2.5,47.5])\n",
    "plt.grid()"
   ]
  },
  {
   "cell_type": "code",
   "execution_count": 155,
   "metadata": {},
   "outputs": [
    {
     "name": "stdout",
     "output_type": "stream",
     "text": [
      "ECE: tensor(0.1738)\n"
     ]
    }
   ],
   "source": [
    "print(\"ECE:\",sum([abs(accs_cal[i] - confs_cal[i])*confs_hist[i] for i in range(len(confs_cal))]))"
   ]
  },
  {
   "cell_type": "markdown",
   "metadata": {},
   "source": [
    "conf hist for 64"
   ]
  },
  {
   "cell_type": "code",
   "execution_count": 119,
   "metadata": {},
   "outputs": [
    {
     "data": {
      "text/plain": [
       "(-2.5, 47.5)"
      ]
     },
     "execution_count": 119,
     "metadata": {},
     "output_type": "execute_result"
    },
    {
     "data": {
      "image/png": "[encoded data removed]",
      "text/plain": [
       "<Figure size 1400x600 with 1 Axes>"
      ]
     },
     "metadata": {},
     "output_type": "display_data"
    }
   ],
   "source": [
    "figure(figsize=(14, 6), dpi=100)\n",
    "bars = [\"0\",\"10\",\"20\",\"30\",\"40\",\"50\",\"60\",\"70\",\"80\",\"90\",\"100\"]\n",
    "xpos = [0,5,10,15,20,25,30,35,40,45,50]\n",
    "xtickpos = [xpos[i]-2.5 for i in range(len(xpos))]\n",
    "plt.rc('axes', axisbelow=True)\n",
    "plt.grid()\n",
    "plt.bar(xpos[:-1],confs_hist64,width=5,edgecolor = \"black\",linewidth=3)\n",
    "plt.xticks(xtickpos, bars)\n",
    "plt.axvline(x = total_acc64*50-2.5, color = 'k', label = 'avg accuracy')\n",
    "plt.axvline(x = total_avg_conf64*50-2.5, color = 'k', label = 'avg confidence',linestyle=\"--\")\n",
    "plt.legend()\n",
    "plt.title('Mobilenet V3 Large Confidence Histogram (Input 64x64) Clean')\n",
    "plt.xlabel(\"Confidence Intervals\")\n",
    "plt.ylabel(\"Confidence Distribution\")\n",
    "plt.ylim([0,1])\n",
    "plt.xlim([-2.5,47.5])"
   ]
  },
  {
   "cell_type": "markdown",
   "metadata": {},
   "source": [
    "reliability plot for 64"
   ]
  },
  {
   "cell_type": "code",
   "execution_count": 121,
   "metadata": {},
   "outputs": [
    {
     "name": "stdout",
     "output_type": "stream",
     "text": [
      "[tensor(0.0273), tensor(0.0557), tensor(0.0825), tensor(0.1085), tensor(0.1101), tensor(0.1365), tensor(0.1563), tensor(0.1568), tensor(0.1375), tensor(0.0586)]\n",
      "[tensor(0.0548), tensor(0.1010), tensor(0.1688), tensor(0.2406), tensor(0.3385), tensor(0.4114), tensor(0.4932), tensor(0.5934), tensor(0.7146), tensor(0.9113)]\n"
     ]
    },
    {
     "data": {
      "image/png": "[encoded data removed]",
      "text/plain": [
       "<Figure size 1400x600 with 1 Axes>"
      ]
     },
     "metadata": {},
     "output_type": "display_data"
    }
   ],
   "source": [
    "figure(figsize=(14, 6), dpi=100)\n",
    "bars = [\"0\",\"10\",\"20\",\"30\",\"40\",\"50\",\"60\",\"70\",\"80\",\"90\",\"100\"]\n",
    "xpos = [0,5,10,15,20,25,30,35,40,45,50]\n",
    "xtickpos = [xpos[i]-2.5 for i in range(len(xpos))]\n",
    "plt.bar(xpos[:-1],accs64_cal,label=\"acc\",width=5,edgecolor='black',linewidth=3)\n",
    "plt.xticks(xtickpos, bars)\n",
    "bot = []\n",
    "top = []\n",
    "for i,c in enumerate(confs64_cal):\n",
    "    if c > accs64_cal[i]:\n",
    "        bot.append(accs64_cal[i])\n",
    "        top.append(c-accs64_cal[i])\n",
    "    else:\n",
    "        bot.append(c)\n",
    "        top.append(accs64_cal[i]-c)\n",
    "print(top)\n",
    "print(bot)\n",
    "plt.bar(xpos[:-1],top,label=\"gap\",width=5,edgecolor='red',bottom=bot,color='red',alpha=0.25,linewidth=4)\n",
    "plt.legend()\n",
    "plt.title('Mobilenet V3 Large Confidence Scores (Input 64x64) Clean')\n",
    "plt.xlabel(\"Confidence Intervals\")\n",
    "plt.ylabel(\"Avg. Confidence and Accuracy Value per Bin\")\n",
    "plt.ylim([0,1])\n",
    "plt.xlim([-2.5,47.5])\n",
    "plt.grid()"
   ]
  },
  {
   "cell_type": "code",
   "execution_count": 156,
   "metadata": {},
   "outputs": [
    {
     "name": "stdout",
     "output_type": "stream",
     "text": [
      "ECE: tensor(0.1022)\n"
     ]
    }
   ],
   "source": [
    "print(\"ECE:\",sum([abs(accs64_cal[i] - confs64_cal[i])*confs_hist64[i] for i in range(len(confs64_cal))]))"
   ]
  },
  {
   "cell_type": "markdown",
   "metadata": {},
   "source": [
    "## Corrupted Confidence Scores"
   ]
  },
  {
   "cell_type": "markdown",
   "metadata": {},
   "source": [
    "### function to get scores for all corruptions"
   ]
  },
  {
   "cell_type": "code",
   "execution_count": 131,
   "metadata": {},
   "outputs": [],
   "source": [
    "# pass in validation sets and model\n",
    "def get_conf_cal_corr(data_loaders, model):\n",
    "    # store confidences and prediction results over all validation sets\n",
    "    confidences = torch.zeros(len(data_loaders[0].dataset)*len(data_loaders))\n",
    "    accuracies = torch.zeros(len(data_loaders[0].dataset)*len(data_loaders))\n",
    "    print(len(confidences))\n",
    "\n",
    "    # iterate over all validation sets\n",
    "    with torch.no_grad():\n",
    "        for dl_idx, data_loader in enumerate(data_loaders):\n",
    "            print(corruptions[dl_idx])\n",
    "            idx = 0\n",
    "            for (img_batch, label_batch) in tqdm(data_loader):\n",
    "                img_batch, label_batch = img_batch.to('cuda'), label_batch.to('cuda')\n",
    "\n",
    "                start = dl_idx*len(data_loader.dataset) + idx*data_loader.batch_size\n",
    "                end = start + len(label_batch)\n",
    "\n",
    "                # get the model's softmax output and class predictions, then get a mask of correct predictions\n",
    "                conf, pred = torch.max(F.softmax(model(img_batch), dim=1), 1)\n",
    "                acc = pred.eq(label_batch)\n",
    "                conf,pred,acc = conf.to('cpu'),pred.to('cpu'),acc.to('cpu')\n",
    "\n",
    "                confidences[start:end] = conf\n",
    "                accuracies[start:end] = acc\n",
    "\n",
    "                idx +=  1\n",
    "\n",
    "    # initialize the calibration bins\n",
    "    n_bins = 10\n",
    "    bin_boundaries = torch.linspace(0, 1, n_bins + 1)\n",
    "    bin_lowers = bin_boundaries[:-1]\n",
    "    bin_uppers = bin_boundaries[1:]\n",
    "\n",
    "    accs = [0.0]*n_bins\n",
    "    avg_confs = [0.0]*n_bins\n",
    "    confs_hist = [0.0]*n_bins\n",
    "    total_avg_conf = 0.0\n",
    "    total_acc = 0.0\n",
    "\n",
    "    i = 0\n",
    "    # iterate over bins\n",
    "    for bin_lower, bin_upper in zip(bin_lowers, bin_uppers):\n",
    "        # mask to determine which confidence scores go in this bin\n",
    "        in_bin = confidences.gt(bin_lower.item()) * confidences.le(bin_upper.item())\n",
    "        print(in_bin,\"/\",len(in_bin))\n",
    "\n",
    "        # from the mask determine what percent of the confidence scores are in this bin\n",
    "        prop_in_bin = in_bin.float().mean()\n",
    "\n",
    "        confs_hist[i] = len(confidences[in_bin])/(len(data_loader.dataset)*len(data_loaders))\n",
    "\n",
    "        # if the bin is not empty\n",
    "        if prop_in_bin.item() > 0:\n",
    "            # calculate accuracy of the bin using the mask of correct predictions\n",
    "            accuracy_in_bin = accuracies[in_bin].float().mean()\n",
    "\n",
    "            # get the average confidence score of items in this bin\n",
    "            avg_confidence_in_bin = confidences[in_bin].mean()\n",
    "            accs[i] = accuracy_in_bin\n",
    "            avg_confs[i] = avg_confidence_in_bin.detach()\n",
    "        i+=1\n",
    "        \n",
    "    total_avg_conf = sum([avg_confs[i]*confs_hist[i] for i in range(len(confs_hist))]) # weight by confidence histogram\n",
    "    total_acc = sum([accs[i]*confs_hist[i] for i in range(len(confs_hist))])\n",
    "    \n",
    "    # return the accuracy of all bins and the average confidence score of the bins\n",
    "    return accs, avg_confs, confs_hist, total_avg_conf, total_acc"
   ]
  },
  {
   "cell_type": "code",
   "execution_count": 132,
   "metadata": {},
   "outputs": [
    {
     "name": "stdout",
     "output_type": "stream",
     "text": [
      "750000\n",
      "gaussian_noise\n"
     ]
    },
    {
     "name": "stderr",
     "output_type": "stream",
     "text": [
      "100%|██████████| 391/391 [00:26<00:00, 14.83it/s]\n"
     ]
    },
    {
     "name": "stdout",
     "output_type": "stream",
     "text": [
      "impulse_noise\n"
     ]
    },
    {
     "name": "stderr",
     "output_type": "stream",
     "text": [
      "100%|██████████| 391/391 [00:26<00:00, 14.89it/s]\n"
     ]
    },
    {
     "name": "stdout",
     "output_type": "stream",
     "text": [
      "shot_noise\n"
     ]
    },
    {
     "name": "stderr",
     "output_type": "stream",
     "text": [
      "100%|██████████| 391/391 [00:26<00:00, 14.98it/s]\n"
     ]
    },
    {
     "name": "stdout",
     "output_type": "stream",
     "text": [
      "defocus_blur\n"
     ]
    },
    {
     "name": "stderr",
     "output_type": "stream",
     "text": [
      "100%|██████████| 391/391 [00:23<00:00, 16.78it/s]\n"
     ]
    },
    {
     "name": "stdout",
     "output_type": "stream",
     "text": [
      "glass_blur\n"
     ]
    },
    {
     "name": "stderr",
     "output_type": "stream",
     "text": [
      "100%|██████████| 391/391 [00:23<00:00, 16.80it/s]\n"
     ]
    },
    {
     "name": "stdout",
     "output_type": "stream",
     "text": [
      "motion_blur\n"
     ]
    },
    {
     "name": "stderr",
     "output_type": "stream",
     "text": [
      "100%|██████████| 391/391 [00:23<00:00, 16.33it/s]\n"
     ]
    },
    {
     "name": "stdout",
     "output_type": "stream",
     "text": [
      "zoom_blur\n"
     ]
    },
    {
     "name": "stderr",
     "output_type": "stream",
     "text": [
      "100%|██████████| 391/391 [00:22<00:00, 17.31it/s]\n"
     ]
    },
    {
     "name": "stdout",
     "output_type": "stream",
     "text": [
      "snow\n"
     ]
    },
    {
     "name": "stderr",
     "output_type": "stream",
     "text": [
      "100%|██████████| 391/391 [00:23<00:00, 16.39it/s]\n"
     ]
    },
    {
     "name": "stdout",
     "output_type": "stream",
     "text": [
      "frost\n"
     ]
    },
    {
     "name": "stderr",
     "output_type": "stream",
     "text": [
      "100%|██████████| 391/391 [00:24<00:00, 15.81it/s]\n"
     ]
    },
    {
     "name": "stdout",
     "output_type": "stream",
     "text": [
      "fog\n"
     ]
    },
    {
     "name": "stderr",
     "output_type": "stream",
     "text": [
      "100%|██████████| 391/391 [00:22<00:00, 17.18it/s]\n"
     ]
    },
    {
     "name": "stdout",
     "output_type": "stream",
     "text": [
      "brightness\n"
     ]
    },
    {
     "name": "stderr",
     "output_type": "stream",
     "text": [
      "100%|██████████| 391/391 [00:23<00:00, 16.73it/s]\n"
     ]
    },
    {
     "name": "stdout",
     "output_type": "stream",
     "text": [
      "contrast\n"
     ]
    },
    {
     "name": "stderr",
     "output_type": "stream",
     "text": [
      "100%|██████████| 391/391 [00:22<00:00, 17.33it/s]\n"
     ]
    },
    {
     "name": "stdout",
     "output_type": "stream",
     "text": [
      "elastic_transform\n"
     ]
    },
    {
     "name": "stderr",
     "output_type": "stream",
     "text": [
      "100%|██████████| 391/391 [00:22<00:00, 17.03it/s]\n"
     ]
    },
    {
     "name": "stdout",
     "output_type": "stream",
     "text": [
      "jpeg_compression\n"
     ]
    },
    {
     "name": "stderr",
     "output_type": "stream",
     "text": [
      "100%|██████████| 391/391 [00:22<00:00, 17.70it/s]\n"
     ]
    },
    {
     "name": "stdout",
     "output_type": "stream",
     "text": [
      "pixelate\n"
     ]
    },
    {
     "name": "stderr",
     "output_type": "stream",
     "text": [
      "100%|██████████| 391/391 [00:23<00:00, 16.75it/s]\n"
     ]
    },
    {
     "name": "stdout",
     "output_type": "stream",
     "text": [
      "tensor([ True, False, False,  ..., False, False, False]) / 750000\n",
      "tensor([False,  True, False,  ..., False, False,  True]) / 750000\n",
      "tensor([False, False,  True,  ..., False, False, False]) / 750000\n",
      "tensor([False, False, False,  ..., False, False, False]) / 750000\n",
      "tensor([False, False, False,  ..., False,  True, False]) / 750000\n",
      "tensor([False, False, False,  ..., False, False, False]) / 750000\n",
      "tensor([False, False, False,  ..., False, False, False]) / 750000\n",
      "tensor([False, False, False,  ...,  True, False, False]) / 750000\n",
      "tensor([False, False, False,  ..., False, False, False]) / 750000\n",
      "tensor([False, False, False,  ..., False, False, False]) / 750000\n",
      "750000\n",
      "gaussian_noise\n"
     ]
    },
    {
     "name": "stderr",
     "output_type": "stream",
     "text": [
      "100%|██████████| 391/391 [00:04<00:00, 81.60it/s]\n"
     ]
    },
    {
     "name": "stdout",
     "output_type": "stream",
     "text": [
      "impulse_noise\n"
     ]
    },
    {
     "name": "stderr",
     "output_type": "stream",
     "text": [
      "100%|██████████| 391/391 [00:04<00:00, 82.23it/s]\n"
     ]
    },
    {
     "name": "stdout",
     "output_type": "stream",
     "text": [
      "shot_noise\n"
     ]
    },
    {
     "name": "stderr",
     "output_type": "stream",
     "text": [
      "100%|██████████| 391/391 [00:04<00:00, 81.31it/s]\n"
     ]
    },
    {
     "name": "stdout",
     "output_type": "stream",
     "text": [
      "defocus_blur\n"
     ]
    },
    {
     "name": "stderr",
     "output_type": "stream",
     "text": [
      "100%|██████████| 391/391 [00:04<00:00, 83.82it/s]\n"
     ]
    },
    {
     "name": "stdout",
     "output_type": "stream",
     "text": [
      "glass_blur\n"
     ]
    },
    {
     "name": "stderr",
     "output_type": "stream",
     "text": [
      "100%|██████████| 391/391 [00:04<00:00, 81.44it/s]\n"
     ]
    },
    {
     "name": "stdout",
     "output_type": "stream",
     "text": [
      "motion_blur\n"
     ]
    },
    {
     "name": "stderr",
     "output_type": "stream",
     "text": [
      "100%|██████████| 391/391 [00:04<00:00, 84.05it/s]\n"
     ]
    },
    {
     "name": "stdout",
     "output_type": "stream",
     "text": [
      "zoom_blur\n"
     ]
    },
    {
     "name": "stderr",
     "output_type": "stream",
     "text": [
      "100%|██████████| 391/391 [00:04<00:00, 83.80it/s]\n"
     ]
    },
    {
     "name": "stdout",
     "output_type": "stream",
     "text": [
      "snow\n"
     ]
    },
    {
     "name": "stderr",
     "output_type": "stream",
     "text": [
      "100%|██████████| 391/391 [00:04<00:00, 82.14it/s]\n"
     ]
    },
    {
     "name": "stdout",
     "output_type": "stream",
     "text": [
      "frost\n"
     ]
    },
    {
     "name": "stderr",
     "output_type": "stream",
     "text": [
      "100%|██████████| 391/391 [00:04<00:00, 82.26it/s]\n"
     ]
    },
    {
     "name": "stdout",
     "output_type": "stream",
     "text": [
      "fog\n"
     ]
    },
    {
     "name": "stderr",
     "output_type": "stream",
     "text": [
      "100%|██████████| 391/391 [00:04<00:00, 83.15it/s]\n"
     ]
    },
    {
     "name": "stdout",
     "output_type": "stream",
     "text": [
      "brightness\n"
     ]
    },
    {
     "name": "stderr",
     "output_type": "stream",
     "text": [
      "100%|██████████| 391/391 [00:04<00:00, 83.32it/s]\n"
     ]
    },
    {
     "name": "stdout",
     "output_type": "stream",
     "text": [
      "contrast\n"
     ]
    },
    {
     "name": "stderr",
     "output_type": "stream",
     "text": [
      "100%|██████████| 391/391 [00:04<00:00, 83.73it/s]\n"
     ]
    },
    {
     "name": "stdout",
     "output_type": "stream",
     "text": [
      "elastic_transform\n"
     ]
    },
    {
     "name": "stderr",
     "output_type": "stream",
     "text": [
      "100%|██████████| 391/391 [00:04<00:00, 82.74it/s]\n"
     ]
    },
    {
     "name": "stdout",
     "output_type": "stream",
     "text": [
      "jpeg_compression\n"
     ]
    },
    {
     "name": "stderr",
     "output_type": "stream",
     "text": [
      "100%|██████████| 391/391 [00:04<00:00, 84.29it/s]\n"
     ]
    },
    {
     "name": "stdout",
     "output_type": "stream",
     "text": [
      "pixelate\n"
     ]
    },
    {
     "name": "stderr",
     "output_type": "stream",
     "text": [
      "100%|██████████| 391/391 [00:04<00:00, 83.18it/s]"
     ]
    },
    {
     "name": "stdout",
     "output_type": "stream",
     "text": [
      "tensor([False, False, False,  ..., False, False, False]) / 750000\n",
      "tensor([False,  True, False,  ..., False, False, False]) / 750000\n",
      "tensor([False, False,  True,  ...,  True, False,  True]) / 750000\n",
      "tensor([False, False, False,  ..., False, False, False]) / 750000\n",
      "tensor([ True, False, False,  ..., False, False, False]) / 750000\n",
      "tensor([False, False, False,  ..., False, False, False]) / 750000\n",
      "tensor([False, False, False,  ..., False, False, False]) / 750000\n",
      "tensor([False, False, False,  ..., False, False, False]) / 750000\n",
      "tensor([False, False, False,  ..., False,  True, False]) / 750000\n",
      "tensor([False, False, False,  ..., False, False, False]) / 750000\n"
     ]
    },
    {
     "name": "stderr",
     "output_type": "stream",
     "text": [
      "\n"
     ]
    }
   ],
   "source": [
    "corr_accs_cal, corr_confs_cal, corr_confs_hist, corr_total_avg_conf, corr_total_acc  = get_conf_cal_corr(corr_val_loaders,model)\n",
    "corr_accs64_cal, corr_confs64_cal,corr_confs_hist64, corr_total_avg_conf64, corr_total_acc64  = get_conf_cal_corr(corr_val_loaders64,model64)"
   ]
  },
  {
   "cell_type": "markdown",
   "metadata": {},
   "source": [
    "corr hist for 224"
   ]
  },
  {
   "cell_type": "code",
   "execution_count": 133,
   "metadata": {},
   "outputs": [
    {
     "data": {
      "text/plain": [
       "(-2.5, 47.5)"
      ]
     },
     "execution_count": 133,
     "metadata": {},
     "output_type": "execute_result"
    },
    {
     "data": {
      "image/png": "[encoded data removed]",
      "text/plain": [
       "<Figure size 1400x600 with 1 Axes>"
      ]
     },
     "metadata": {},
     "output_type": "display_data"
    }
   ],
   "source": [
    "figure(figsize=(14, 6), dpi=100)\n",
    "bars = [\"0\",\"10\",\"20\",\"30\",\"40\",\"50\",\"60\",\"70\",\"80\",\"90\",\"100\"]\n",
    "xpos = [0,5,10,15,20,25,30,35,40,45,50]\n",
    "xtickpos = [xpos[i]-2.5 for i in range(len(xpos))]\n",
    "plt.rc('axes', axisbelow=True)\n",
    "plt.grid()\n",
    "plt.bar(xpos[:-1],corr_confs_hist,width=5,edgecolor = \"black\",linewidth=3)\n",
    "plt.xticks(xtickpos, bars)\n",
    "plt.axvline(x = corr_total_acc*50-2.5, color = 'k', label = 'avg accuracy')\n",
    "plt.axvline(x = corr_total_avg_conf*50-2.5, color = 'k', label = 'avg confidence',linestyle=\"--\")\n",
    "plt.legend()\n",
    "plt.title('Mobilenet V3 Large Confidence Histogram (Input 64x64) Corrupted')\n",
    "plt.xlabel(\"Confidence Intervals\")\n",
    "plt.ylabel(\"Confidence Distribution\")\n",
    "plt.ylim([0,1])\n",
    "plt.xlim([-2.5,47.5])"
   ]
  },
  {
   "cell_type": "markdown",
   "metadata": {},
   "source": [
    "corr reliability for 224"
   ]
  },
  {
   "cell_type": "code",
   "execution_count": 136,
   "metadata": {},
   "outputs": [
    {
     "name": "stdout",
     "output_type": "stream",
     "text": [
      "[tensor(0.0547), tensor(0.0996), tensor(0.1464), tensor(0.1774), tensor(0.2000), tensor(0.2109), tensor(0.2046), tensor(0.1732), tensor(0.1183), tensor(0.0446)]\n",
      "[tensor(0.0722), tensor(0.1499), tensor(0.2488), tensor(0.3491), tensor(0.4488), tensor(0.5497), tensor(0.6507), tensor(0.7515), tensor(0.8467), tensor(0.9319)]\n"
     ]
    },
    {
     "data": {
      "image/png": "[encoded data removed]",
      "text/plain": [
       "<Figure size 1400x600 with 1 Axes>"
      ]
     },
     "metadata": {},
     "output_type": "display_data"
    }
   ],
   "source": [
    "figure(figsize=(14, 6), dpi=100)\n",
    "bars = [\"0\",\"10\",\"20\",\"30\",\"40\",\"50\",\"60\",\"70\",\"80\",\"90\",\"100\"]\n",
    "xpos = [0,5,10,15,20,25,30,35,40,45,50]\n",
    "xtickpos = [xpos[i]-2.5 for i in range(len(xpos))]\n",
    "plt.bar(xpos[:-1],corr_accs_cal,label=\"acc\",width=5,edgecolor='black',linewidth=3)\n",
    "plt.xticks(xtickpos, bars)\n",
    "bot = []\n",
    "top = []\n",
    "for i,c in enumerate(corr_confs_cal):\n",
    "    if c > corr_accs_cal[i]:\n",
    "        bot.append(corr_accs_cal[i])\n",
    "        top.append(c-corr_accs_cal[i])\n",
    "    else:\n",
    "        bot.append(c)\n",
    "        top.append(corr_accs_cal[i]-c)\n",
    "print(top)\n",
    "print(bot)\n",
    "plt.bar(xpos[:-1],top,label=\"gap\",width=5,edgecolor='red',bottom=bot,color='red',alpha=0.25,linewidth=4)\n",
    "plt.legend()\n",
    "plt.title('Mobilenet V3 Large Confidence Scores (Input 224x224) corrupted')\n",
    "plt.xlabel(\"Confidence Intervals\")\n",
    "plt.ylabel(\"Avg. Confidence and Accuracy Value per Bin\")\n",
    "plt.ylim([0,1])\n",
    "plt.xlim([-2.5,47.5])\n",
    "plt.grid()"
   ]
  },
  {
   "cell_type": "code",
   "execution_count": 157,
   "metadata": {},
   "outputs": [
    {
     "name": "stdout",
     "output_type": "stream",
     "text": [
      "ECE: tensor(0.1505)\n"
     ]
    }
   ],
   "source": [
    "print(\"ECE:\",sum([abs(corr_accs_cal[i] - corr_confs_cal[i])*corr_confs_hist[i] for i in range(len(corr_confs_cal))]))"
   ]
  },
  {
   "cell_type": "markdown",
   "metadata": {},
   "source": [
    "corr hist for 64"
   ]
  },
  {
   "cell_type": "code",
   "execution_count": 139,
   "metadata": {},
   "outputs": [
    {
     "data": {
      "text/plain": [
       "(-2.5, 47.5)"
      ]
     },
     "execution_count": 139,
     "metadata": {},
     "output_type": "execute_result"
    },
    {
     "data": {
      "image/png": "[encoded data removed]",
      "text/plain": [
       "<Figure size 1400x600 with 1 Axes>"
      ]
     },
     "metadata": {},
     "output_type": "display_data"
    }
   ],
   "source": [
    "figure(figsize=(14, 6), dpi=100)\n",
    "bars = [\"0\",\"10\",\"20\",\"30\",\"40\",\"50\",\"60\",\"70\",\"80\",\"90\",\"100\"]\n",
    "xpos = [0,5,10,15,20,25,30,35,40,45,50]\n",
    "xtickpos = [xpos[i]-2.5 for i in range(len(xpos))]\n",
    "plt.rc('axes', axisbelow=True)\n",
    "plt.grid()\n",
    "plt.bar(xpos[:-1],corr_confs_hist64,width=5,edgecolor = \"black\",linewidth=3)\n",
    "plt.xticks(xtickpos, bars)\n",
    "plt.axvline(x = corr_total_acc54*50-2.5, color = 'k', label = 'avg accuracy')\n",
    "plt.axvline(x = corr_total_avg_conf64*50-2.5, color = 'k', label = 'avg confidence',linestyle=\"--\")\n",
    "plt.legend()\n",
    "plt.title('Mobilenet V3 Large Confidence Histogram (Input 64x64) Corrupted')\n",
    "plt.xlabel(\"Confidence Intervals\")\n",
    "plt.ylabel(\"Confidence Distribution\")\n",
    "plt.ylim([0,1])\n",
    "plt.xlim([-2.5,47.5])"
   ]
  },
  {
   "cell_type": "markdown",
   "metadata": {},
   "source": [
    "corr reliability for 64"
   ]
  },
  {
   "cell_type": "code",
   "execution_count": 146,
   "metadata": {},
   "outputs": [
    {
     "name": "stdout",
     "output_type": "stream",
     "text": [
      "[tensor(0.0448), tensor(0.0865), tensor(0.1365), tensor(0.1841), tensor(0.2254), tensor(0.2608), tensor(0.2953), tensor(0.3096), tensor(0.2904), tensor(0.1407)]\n",
      "[tensor(0.0373), tensor(0.0695), tensor(0.1131), tensor(0.1643), tensor(0.2229), tensor(0.2869), tensor(0.3533), tensor(0.4393), tensor(0.5598), tensor(0.8228)]\n"
     ]
    },
    {
     "data": {
      "image/png": "[encoded data removed]",
      "text/plain": [
       "<Figure size 1400x600 with 1 Axes>"
      ]
     },
     "metadata": {},
     "output_type": "display_data"
    }
   ],
   "source": [
    "figure(figsize=(14, 6), dpi=100)\n",
    "bars = [\"0\",\"10\",\"20\",\"30\",\"40\",\"50\",\"60\",\"70\",\"80\",\"90\",\"100\"]\n",
    "xpos = [0,5,10,15,20,25,30,35,40,45,50]\n",
    "xtickpos = [xpos[i]-2.5 for i in range(len(xpos))]\n",
    "plt.bar(xpos[:-1],corr_accs64_cal,label=\"acc\",width=5,edgecolor='black',linewidth=3)\n",
    "plt.xticks(xtickpos, bars)\n",
    "bot = []\n",
    "top = []\n",
    "for i,c in enumerate(corr_confs64_cal):\n",
    "    if c > corr_accs64_cal[i]:\n",
    "        bot.append(corr_accs64_cal[i])\n",
    "        top.append(c-corr_accs64_cal[i])\n",
    "    else:\n",
    "        bot.append(c)\n",
    "        top.append(corr_accs64_cal[i]-c)\n",
    "print(top)\n",
    "print(bot)\n",
    "plt.bar(xpos[:-1],top,label=\"gap\",width=5,edgecolor='red',bottom=bot,color='red',alpha=0.25,linewidth=4)\n",
    "plt.legend()\n",
    "plt.title('Mobilenet V3 Large Confidence Scores (Input 224x224) corrupted')\n",
    "plt.xlabel(\"Confidence Intervals\")\n",
    "plt.ylabel(\"Avg. Confidence and Accuracy Value per Bin\")\n",
    "plt.ylim([0,1])\n",
    "plt.xlim([-2.5,47.5])\n",
    "plt.grid()"
   ]
  },
  {
   "cell_type": "code",
   "execution_count": 158,
   "metadata": {},
   "outputs": [
    {
     "name": "stdout",
     "output_type": "stream",
     "text": [
      "ECE: tensor(0.1913)\n"
     ]
    }
   ],
   "source": [
    "print(\"ECE:\",sum([abs(corr_accs64_cal[i] - corr_confs64_cal[i])*corr_confs_hist64[i] for i in range(len(corr_confs64_cal))]))"
   ]
  },
  {
   "cell_type": "markdown",
   "metadata": {},
   "source": [
    "# Online Accuracies"
   ]
  },
  {
   "cell_type": "markdown",
   "metadata": {},
   "source": [
    "## Deterministic Baselines"
   ]
  },
  {
   "cell_type": "markdown",
   "metadata": {},
   "source": [
    "get all the confidences and results for each model on each dataset\n",
    "* pre-computing then reusing results after is faster\n",
    "* only works for fixed model"
   ]
  },
  {
   "cell_type": "code",
   "execution_count": 147,
   "metadata": {},
   "outputs": [
    {
     "name": "stderr",
     "output_type": "stream",
     "text": [
      "100%|██████████| 391/391 [04:07<00:00,  1.58it/s]\n",
      "100%|██████████| 391/391 [00:18<00:00, 20.61it/s]\n"
     ]
    },
    {
     "name": "stdout",
     "output_type": "stream",
     "text": [
      "gaussian_noise\n"
     ]
    },
    {
     "name": "stderr",
     "output_type": "stream",
     "text": [
      "100%|██████████| 391/391 [00:26<00:00, 14.49it/s]\n"
     ]
    },
    {
     "name": "stdout",
     "output_type": "stream",
     "text": [
      "impulse_noise\n"
     ]
    },
    {
     "name": "stderr",
     "output_type": "stream",
     "text": [
      "100%|██████████| 391/391 [00:26<00:00, 14.81it/s]\n"
     ]
    },
    {
     "name": "stdout",
     "output_type": "stream",
     "text": [
      "shot_noise\n"
     ]
    },
    {
     "name": "stderr",
     "output_type": "stream",
     "text": [
      "100%|██████████| 391/391 [00:26<00:00, 14.52it/s]\n"
     ]
    },
    {
     "name": "stdout",
     "output_type": "stream",
     "text": [
      "defocus_blur\n"
     ]
    },
    {
     "name": "stderr",
     "output_type": "stream",
     "text": [
      "100%|██████████| 391/391 [00:23<00:00, 16.49it/s]\n"
     ]
    },
    {
     "name": "stdout",
     "output_type": "stream",
     "text": [
      "glass_blur\n"
     ]
    },
    {
     "name": "stderr",
     "output_type": "stream",
     "text": [
      "100%|██████████| 391/391 [00:24<00:00, 16.23it/s]\n"
     ]
    },
    {
     "name": "stdout",
     "output_type": "stream",
     "text": [
      "motion_blur\n"
     ]
    },
    {
     "name": "stderr",
     "output_type": "stream",
     "text": [
      "100%|██████████| 391/391 [00:24<00:00, 16.22it/s]\n"
     ]
    },
    {
     "name": "stdout",
     "output_type": "stream",
     "text": [
      "zoom_blur\n"
     ]
    },
    {
     "name": "stderr",
     "output_type": "stream",
     "text": [
      "100%|██████████| 391/391 [00:23<00:00, 16.39it/s]\n"
     ]
    },
    {
     "name": "stdout",
     "output_type": "stream",
     "text": [
      "snow\n"
     ]
    },
    {
     "name": "stderr",
     "output_type": "stream",
     "text": [
      "100%|██████████| 391/391 [00:25<00:00, 15.44it/s]\n"
     ]
    },
    {
     "name": "stdout",
     "output_type": "stream",
     "text": [
      "frost\n"
     ]
    },
    {
     "name": "stderr",
     "output_type": "stream",
     "text": [
      "100%|██████████| 391/391 [00:25<00:00, 15.56it/s]\n"
     ]
    },
    {
     "name": "stdout",
     "output_type": "stream",
     "text": [
      "fog\n"
     ]
    },
    {
     "name": "stderr",
     "output_type": "stream",
     "text": [
      "100%|██████████| 391/391 [00:23<00:00, 16.48it/s]\n"
     ]
    },
    {
     "name": "stdout",
     "output_type": "stream",
     "text": [
      "brightness\n"
     ]
    },
    {
     "name": "stderr",
     "output_type": "stream",
     "text": [
      "100%|██████████| 391/391 [00:24<00:00, 16.11it/s]\n"
     ]
    },
    {
     "name": "stdout",
     "output_type": "stream",
     "text": [
      "contrast\n"
     ]
    },
    {
     "name": "stderr",
     "output_type": "stream",
     "text": [
      "100%|██████████| 391/391 [00:23<00:00, 16.49it/s]\n"
     ]
    },
    {
     "name": "stdout",
     "output_type": "stream",
     "text": [
      "elastic_transform\n"
     ]
    },
    {
     "name": "stderr",
     "output_type": "stream",
     "text": [
      "100%|██████████| 391/391 [00:24<00:00, 16.15it/s]\n"
     ]
    },
    {
     "name": "stdout",
     "output_type": "stream",
     "text": [
      "jpeg_compression\n"
     ]
    },
    {
     "name": "stderr",
     "output_type": "stream",
     "text": [
      "100%|██████████| 391/391 [00:23<00:00, 16.68it/s]\n"
     ]
    },
    {
     "name": "stdout",
     "output_type": "stream",
     "text": [
      "pixelate\n"
     ]
    },
    {
     "name": "stderr",
     "output_type": "stream",
     "text": [
      "100%|██████████| 391/391 [00:24<00:00, 16.15it/s]\n"
     ]
    },
    {
     "name": "stdout",
     "output_type": "stream",
     "text": [
      "gaussian_noise\n"
     ]
    },
    {
     "name": "stderr",
     "output_type": "stream",
     "text": [
      "100%|██████████| 391/391 [00:04<00:00, 81.33it/s]\n"
     ]
    },
    {
     "name": "stdout",
     "output_type": "stream",
     "text": [
      "impulse_noise\n"
     ]
    },
    {
     "name": "stderr",
     "output_type": "stream",
     "text": [
      "100%|██████████| 391/391 [00:04<00:00, 80.09it/s]\n"
     ]
    },
    {
     "name": "stdout",
     "output_type": "stream",
     "text": [
      "shot_noise\n"
     ]
    },
    {
     "name": "stderr",
     "output_type": "stream",
     "text": [
      "100%|██████████| 391/391 [00:04<00:00, 79.09it/s]\n"
     ]
    },
    {
     "name": "stdout",
     "output_type": "stream",
     "text": [
      "defocus_blur\n"
     ]
    },
    {
     "name": "stderr",
     "output_type": "stream",
     "text": [
      "100%|██████████| 391/391 [00:04<00:00, 82.48it/s]\n"
     ]
    },
    {
     "name": "stdout",
     "output_type": "stream",
     "text": [
      "glass_blur\n"
     ]
    },
    {
     "name": "stderr",
     "output_type": "stream",
     "text": [
      "100%|██████████| 391/391 [00:04<00:00, 79.50it/s]\n"
     ]
    },
    {
     "name": "stdout",
     "output_type": "stream",
     "text": [
      "motion_blur\n"
     ]
    },
    {
     "name": "stderr",
     "output_type": "stream",
     "text": [
      "100%|██████████| 391/391 [00:04<00:00, 82.56it/s]\n"
     ]
    },
    {
     "name": "stdout",
     "output_type": "stream",
     "text": [
      "zoom_blur\n"
     ]
    },
    {
     "name": "stderr",
     "output_type": "stream",
     "text": [
      "100%|██████████| 391/391 [00:04<00:00, 83.01it/s]\n"
     ]
    },
    {
     "name": "stdout",
     "output_type": "stream",
     "text": [
      "snow\n"
     ]
    },
    {
     "name": "stderr",
     "output_type": "stream",
     "text": [
      "100%|██████████| 391/391 [00:04<00:00, 80.85it/s]\n"
     ]
    },
    {
     "name": "stdout",
     "output_type": "stream",
     "text": [
      "frost\n"
     ]
    },
    {
     "name": "stderr",
     "output_type": "stream",
     "text": [
      "100%|██████████| 391/391 [00:04<00:00, 81.65it/s]\n"
     ]
    },
    {
     "name": "stdout",
     "output_type": "stream",
     "text": [
      "fog\n"
     ]
    },
    {
     "name": "stderr",
     "output_type": "stream",
     "text": [
      "100%|██████████| 391/391 [00:04<00:00, 83.30it/s]\n"
     ]
    },
    {
     "name": "stdout",
     "output_type": "stream",
     "text": [
      "brightness\n"
     ]
    },
    {
     "name": "stderr",
     "output_type": "stream",
     "text": [
      "100%|██████████| 391/391 [00:04<00:00, 81.53it/s]\n"
     ]
    },
    {
     "name": "stdout",
     "output_type": "stream",
     "text": [
      "contrast\n"
     ]
    },
    {
     "name": "stderr",
     "output_type": "stream",
     "text": [
      "100%|██████████| 391/391 [00:04<00:00, 83.34it/s]\n"
     ]
    },
    {
     "name": "stdout",
     "output_type": "stream",
     "text": [
      "elastic_transform\n"
     ]
    },
    {
     "name": "stderr",
     "output_type": "stream",
     "text": [
      "100%|██████████| 391/391 [00:04<00:00, 83.50it/s]\n"
     ]
    },
    {
     "name": "stdout",
     "output_type": "stream",
     "text": [
      "jpeg_compression\n"
     ]
    },
    {
     "name": "stderr",
     "output_type": "stream",
     "text": [
      "100%|██████████| 391/391 [00:04<00:00, 84.65it/s]\n"
     ]
    },
    {
     "name": "stdout",
     "output_type": "stream",
     "text": [
      "pixelate\n"
     ]
    },
    {
     "name": "stderr",
     "output_type": "stream",
     "text": [
      "100%|██████████| 391/391 [00:04<00:00, 82.62it/s]\n"
     ]
    }
   ],
   "source": [
    "# confidence is highest softmax output\n",
    "# result is whether a prediction was correct\n",
    "\n",
    "# all confs and results on clean sets\n",
    "clean_confidences = torch.zeros(len(clean_val_loader.dataset))\n",
    "clean_results = torch.zeros(len(clean_val_loader.dataset))\n",
    "clean_confidences64 = torch.zeros(len(clean_val_loader.dataset))\n",
    "clean_results64 = torch.zeros(len(clean_val_loader.dataset))\n",
    "\n",
    "# all confs and results on corrupted sets\n",
    "corr_confidences = torch.zeros(len(clean_val_loader.dataset)*len(corruptions))\n",
    "corr_results = torch.zeros(len(clean_val_loader.dataset)*len(corruptions))\n",
    "corr_confidences64 = torch.zeros(len(clean_val_loader.dataset)*len(corruptions))\n",
    "corr_results64 = torch.zeros(len(clean_val_loader.dataset)*len(corruptions))\n",
    "\n",
    "# put all datasets in fixed order\n",
    "# fixed_order = CustomOrder(clean_val_loader.dataset)\n",
    "# rand_corr_order = torch.randperm(15)\n",
    "\n",
    "with torch.no_grad():\n",
    "    # first get the clean results for 224 and 64\n",
    "    batch_idx = 0\n",
    "    for (img_batch, label_batch) in tqdm(clean_val_loader):\n",
    "        img_batch, label_batch = img_batch.to('cuda'), label_batch.to('cuda')\n",
    "        start = batch_idx*clean_val_loader.batch_size\n",
    "        end = start + len(label_batch)\n",
    "\n",
    "        # get the model's softmax output and class predictions\n",
    "        conf, pred = torch.max(F.softmax(model(img_batch), dim=1), 1)\n",
    "        res = pred.eq(label_batch)\n",
    "        conf,res = conf.to('cpu'),res.to('cpu')\n",
    "\n",
    "        clean_confidences[start:end] = conf\n",
    "        clean_results[start:end] = res\n",
    "        batch_idx += 1\n",
    "    batch_idx = 0\n",
    "    for (img_batch, label_batch) in tqdm(clean_val_loader64):\n",
    "        img_batch, label_batch = img_batch.to('cuda'), label_batch.to('cuda')\n",
    "        start = batch_idx*clean_val_loader64.batch_size\n",
    "        end = start + len(label_batch)\n",
    "\n",
    "        # get the model's softmax output and class predictions\n",
    "        conf, pred = torch.max(F.softmax(model64(img_batch), dim=1), 1)\n",
    "        res = pred.eq(label_batch)\n",
    "        conf,res = conf.to('cpu'),res.to('cpu')\n",
    "\n",
    "        clean_confidences64[start:end] = conf\n",
    "        clean_results64[start:end] = res\n",
    "        batch_idx += 1\n",
    "\n",
    "    # get corrupted results\n",
    "    for dl_idx, data_loader in enumerate(corr_val_loaders):\n",
    "        print(corruptions[dl_idx])\n",
    "        idx = 0\n",
    "        for (img_batch, label_batch) in tqdm(data_loader):\n",
    "            img_batch, label_batch = img_batch.to('cuda'), label_batch.to('cuda')\n",
    "\n",
    "            start = dl_idx*len(data_loader.dataset) + idx*data_loader.batch_size\n",
    "            end = start + len(label_batch)\n",
    "\n",
    "            # get the model's softmax output and class predictions, then get a mask of correct predictions\n",
    "            conf, pred = torch.max(F.softmax(model(img_batch), dim=1), 1)\n",
    "            acc = pred.eq(label_batch)\n",
    "            conf,pred,acc = conf.to('cpu'),pred.to('cpu'),acc.to('cpu')\n",
    "\n",
    "            corr_confidences[start:end] = conf\n",
    "            corr_results[start:end] = acc\n",
    "\n",
    "            idx +=  1\n",
    "\n",
    "    for dl_idx, data_loader in enumerate(corr_val_loaders64):\n",
    "        print(corruptions[dl_idx])\n",
    "        idx = 0\n",
    "        for (img_batch, label_batch) in tqdm(data_loader):\n",
    "            img_batch, label_batch = img_batch.to('cuda'), label_batch.to('cuda')\n",
    "\n",
    "            start = dl_idx*len(data_loader.dataset) + idx*data_loader.batch_size\n",
    "            end = start + len(label_batch)\n",
    "\n",
    "            # get the model's softmax output and class predictions, then get a mask of correct predictions\n",
    "            conf, pred = torch.max(F.softmax(model64(img_batch), dim=1), 1)\n",
    "            acc = pred.eq(label_batch)\n",
    "            conf,pred,acc = conf.to('cpu'),pred.to('cpu'),acc.to('cpu')\n",
    "\n",
    "            corr_confidences64[start:end] = conf\n",
    "            corr_results64[start:end] = acc\n",
    "\n",
    "            idx +=  1"
   ]
  },
  {
   "cell_type": "markdown",
   "metadata": {},
   "source": [
    "### setting the ordering"
   ]
  },
  {
   "cell_type": "code",
   "execution_count": 148,
   "metadata": {},
   "outputs": [],
   "source": [
    "from torch.utils.data import Subset\n",
    "\n",
    "from torch.utils.data.sampler import Sampler\n",
    "\n",
    "class CustomOrder(Sampler):\n",
    "    def __init__(self, dataset):\n",
    "        self.order = torch.randperm(len(dataset))\n",
    "        \n",
    "    def __iter__(self):\n",
    "        return iter(self.order)\n",
    "    \n",
    "    def __len__(self):\n",
    "        return len(self.order)\n",
    "\n",
    "rand_order = CustomOrder(clean_val_loader.dataset)\n",
    "rand_corr_order = torch.randperm(15)"
   ]
  },
  {
   "cell_type": "markdown",
   "metadata": {},
   "source": [
    "### evaluating strategies for fixed model"
   ]
  },
  {
   "cell_type": "code",
   "execution_count": 161,
   "metadata": {},
   "outputs": [
    {
     "name": "stderr",
     "output_type": "stream",
     "text": [
      "100%|██████████| 50000/50000 [00:01<00:00, 40334.10it/s]\n"
     ]
    }
   ],
   "source": [
    "# clean baseline\n",
    "clean_online_acc = []\n",
    "clean_online_efficiency = []\n",
    "clean_online_acc64 = []\n",
    "clean_online_efficiency64 = []\n",
    "clean_naive_online_acc = []\n",
    "clean_naive_efficiency = []\n",
    "clean_oracle_acc = []\n",
    "clean_oracle_efficiency = []\n",
    "idxs = []\n",
    "\n",
    "num_imgs = 0\n",
    "\n",
    "clean_num_correct = 0\n",
    "clean_num_correct64 = 0\n",
    "clean_num_naive_correct = 0\n",
    "clean_num_oracle_correct = 0\n",
    "\n",
    "\n",
    "clean_naive_num_wrong_decisions = 0\n",
    "clean_naive_num_choose_small = 0\n",
    "clean_naive_num_choose_big = 0\n",
    "clean_oracle_num_choose_small = 0\n",
    "clean_oracle_num_choose_big = 0\n",
    "\n",
    "small_right_big_wrong = []\n",
    "big_right_small_wrong = []\n",
    "\n",
    "clean_overconfident_locations = []\n",
    "clean_overconfident_imgs = []\n",
    "clean_underconfident_locations = []\n",
    "clean_underconfident_imgs = []\n",
    "\n",
    "for sample_idx in tqdm(rand_order):\n",
    "    num_imgs += 1\n",
    "    # get the prediction\n",
    "    out = clean_confidences[sample_idx]\n",
    "    out64 = clean_confidences64[sample_idx]\n",
    "    res = clean_results[sample_idx]\n",
    "    res64 = clean_results64[sample_idx]\n",
    "    clean_num_correct += res\n",
    "    clean_num_correct64 += res64\n",
    "    clean_online_acc.append(clean_num_correct/num_imgs)\n",
    "    clean_online_acc64.append(clean_num_correct64/num_imgs)\n",
    "    clean_online_efficiency.append(0)\n",
    "    clean_online_efficiency64.append(1)\n",
    "\n",
    "    # oracle, if small is right choose small, else choose big\n",
    "    if res64:\n",
    "        clean_num_oracle_correct += res64\n",
    "        clean_oracle_num_choose_small += 1\n",
    "    else:\n",
    "        clean_num_oracle_correct += res\n",
    "        clean_oracle_num_choose_big += 1\n",
    "    clean_oracle_acc.append(clean_num_oracle_correct/num_imgs) \n",
    "    clean_oracle_efficiency.append(clean_oracle_num_choose_small/num_imgs)   \n",
    "\n",
    "    if not res and res64:\n",
    "        small_right_big_wrong.append(sample_idx)\n",
    "    if not res64 and res:\n",
    "        big_right_small_wrong.append(sample_idx)\n",
    "\n",
    "    # naive strategy, if less than 50% confident, use big model\n",
    "    if out64.item() < 0.50:\n",
    "        clean_num_naive_correct += res\n",
    "        clean_naive_num_choose_big += 1\n",
    "        # if was underconfident\n",
    "        if res64:\n",
    "            clean_naive_num_wrong_decisions += 1\n",
    "            clean_underconfident_imgs.append(sample_idx)\n",
    "            clean_underconfident_locations.append(num_imgs)\n",
    "    else:\n",
    "        clean_num_naive_correct += res64\n",
    "        clean_naive_num_choose_small += 1\n",
    "        # if was overconfident\n",
    "        if not res64 and res:\n",
    "            clean_naive_num_wrong_decisions += 1\n",
    "            clean_overconfident_imgs.append(sample_idx)\n",
    "            clean_overconfident_locations.append(num_imgs)\n",
    "    clean_naive_online_acc.append(clean_num_naive_correct/num_imgs)\n",
    "    clean_naive_efficiency.append(clean_naive_num_choose_small/num_imgs)\n",
    "\n",
    "    idxs.append(num_imgs)"
   ]
  },
  {
   "cell_type": "markdown",
   "metadata": {},
   "source": [
    "### accuracy"
   ]
  },
  {
   "cell_type": "code",
   "execution_count": 165,
   "metadata": {},
   "outputs": [
    {
     "data": {
      "text/plain": [
       "(0.0, 1.0)"
      ]
     },
     "execution_count": 165,
     "metadata": {},
     "output_type": "execute_result"
    },
    {
     "data": {
      "image/png": "[encoded data removed]",
      "text/plain": [
       "<Figure size 800x600 with 1 Axes>"
      ]
     },
     "metadata": {},
     "output_type": "display_data"
    }
   ],
   "source": [
    "fig1 = plt.figure(figsize=(8,6))\n",
    "ax1 = fig1.add_subplot(111)\n",
    "ax1.plot(idxs,clean_online_acc,label='clean 224',color='red')\n",
    "ax1.plot(idxs,clean_online_acc64,label='clean 64',color='blue')\n",
    "ax1.plot(idxs,clean_oracle_acc,label='clean oracle',color='green')\n",
    "# ax1.plot(idxs,corr_online_acc,label='corrupted 224',color='black')\n",
    "# ax1.plot(idxs,corr_online_acc64,label='corrupted 64',color='green')\n",
    "ax1.plot(idxs,clean_naive_online_acc,label='naive strategy',color='purple')\n",
    "\n",
    "# ax2 = ax1.twinx()\n",
    "# px = overconfident_locations\n",
    "# py = [naive_online_acc[x] for x in px]\n",
    "# # plt.scatter(px,py,s=0.5,c='r')\n",
    "# ax2.hist(px,bins=100,alpha=0.2)\n",
    "ax1.legend(bbox_to_anchor=(1.1, 1.05))\n",
    "# ax1.set_ylabel(\"Online Accuracy\")\n",
    "# ax2.set_ylabel(\"# overconfident images\")\n",
    "# ax1.set_xlabel(\"Image Index\")\n",
    "plt.grid()\n",
    "plt.title(\"Online Accuracy\")\n",
    "plt.ylim([0,1])"
   ]
  },
  {
   "cell_type": "markdown",
   "metadata": {},
   "source": [
    "### efficiency"
   ]
  },
  {
   "cell_type": "code",
   "execution_count": 170,
   "metadata": {},
   "outputs": [
    {
     "data": {
      "text/plain": [
       "(-0.1, 1.1)"
      ]
     },
     "execution_count": 170,
     "metadata": {},
     "output_type": "execute_result"
    },
    {
     "data": {
      "image/png": "[encoded data removed]",
      "text/plain": [
       "<Figure size 800x600 with 1 Axes>"
      ]
     },
     "metadata": {},
     "output_type": "display_data"
    }
   ],
   "source": [
    "fig1 = plt.figure(figsize=(8,6))\n",
    "ax1 = fig1.add_subplot(111)\n",
    "ax1.plot(idxs,clean_online_efficiency,label='clean 224',color='red')\n",
    "ax1.plot(idxs,clean_online_efficiency64,label='clean 64',color='blue')\n",
    "ax1.plot(idxs,clean_oracle_efficiency,label='clean oracle',color='green')\n",
    "# ax1.plot(idxs,corr_online_acc,label='corrupted 224',color='black')\n",
    "# ax1.plot(idxs,corr_online_acc64,label='corrupted 64',color='green')\n",
    "ax1.plot(idxs,clean_naive_efficiency,label='naive strategy',color='purple')\n",
    "plt.title(\"Online Efficicency\")\n",
    "# ax2 = ax1.twinx()\n",
    "# px = overconfident_locations\n",
    "# py = [naive_online_acc[x] for x in px]\n",
    "# # plt.scatter(px,py,s=0.5,c='r')\n",
    "# ax2.hist(px,bins=100,alpha=0.2)\n",
    "ax1.legend(bbox_to_anchor=(1.1, 1.05))\n",
    "# ax1.set_ylabel(\"Online Accuracy\")\n",
    "# ax2.set_ylabel(\"# overconfident images\")\n",
    "# ax1.set_xlabel(\"Image Index\")\n",
    "plt.grid()\n",
    "plt.ylim([-0.1,1.1])"
   ]
  },
  {
   "cell_type": "markdown",
   "metadata": {},
   "source": [
    "### pareto curve for accuracy and efficiency"
   ]
  },
  {
   "cell_type": "code",
   "execution_count": 192,
   "metadata": {},
   "outputs": [],
   "source": [
    "efficiencies = [0,0.1]#,0.2,0.3,0.4,0.5,0.6,0.7,0.8,0.9,1]\n",
    "acc_for_eff = []\n",
    "big_model_idxs = [torch.zeros(len(clean_results))] \n",
    "small_model_idxs = []\n",
    "for eff in efficiencies:\n",
    "    curr_acc = 0\n",
    "    # choose only big\n",
    "    if eff == 0:\n",
    "        # acc_for_eff.append(sum(clean_results)/len(clean_results))\n",
    "        big_model_idxs.append((clean_results >= 0).nonzero())\n",
    "        small_model_idxs.append((clean_results < 0).nonzero())\n",
    "        continue\n",
    "    # choose only small\n",
    "    if eff == 1:\n",
    "        # acc_for_eff.append(sum(clean_results64)/len(clean_results64))\n",
    "        big_model_idxs.append((clean_results64 < 0).nonzero())\n",
    "        small_model_idxs.append((clean_results64 >= 0).nonzero())\n",
    "        continue\n",
    "    \n",
    "    # for a given efficiency\n",
    "    eff_thresh = int(eff*len(clean_confidences))\n",
    "    total_thresh = int(len(clean_confidences))\n",
    "\n",
    "    # get all idxs where small correct, big wrong\n",
    "    small_correct_big_wrong_idxs = torch.logical_and((clean_results64 == 1),(clean_results == 0)).nonzero()\n",
    "\n",
    "    # get all idxs where small and big correct\n",
    "    small_big_correct_idxs = torch.logical_and((clean_results64 == 1),(clean_results == 1)).nonzero()\n",
    "\n",
    "    # get all idxs where small wrong, big correct\n",
    "    small_wrong_big_correct_idxs = torch.logical_and((clean_results64 == 0),(clean_results == 1)).nonzero()\n",
    "\n",
    "    # get all idxs where big wrong and small wrong\n",
    "    small_wrong_big_wrong_idxs = torch.logical_and((clean_results64 == 0),(clean_results == 0)).nonzero()\n",
    "    \n",
    "    curr_idxs = torch.clone(small_correct_big_wrong_idxs)\n",
    "\n",
    "    # if above eff threshold\n",
    "    if len(curr_idxs) > eff_thresh:\n",
    "        # remove small until reach efficiency\n",
    "        curr_idxs = curr_idxs[:eff_thresh]\n",
    "        small_model_idx_tensor = \n",
    "\n",
    "        # add big correct, small incorrect\n",
    "        curr_idxs = torch.cat((curr_idxs,small_wrong_big_correct_idxs))\n",
    "        \n",
    "        # if above total thresh\n",
    "        if len(curr_idxs) > total_thresh:\n",
    "            # remove some big to fit the threshold\n",
    "            curr_idxs = curr_idxs[:total_thresh]\n",
    "            continue\n",
    "        else:\n",
    "            # add some big wrong and small wrong to fit the threshold\n",
    "            amnt = total_thresh - len(curr_idxs)\n",
    "            curr_idxs = torch.cat((curr_idxs,small_wrong_big_wrong_idxs[:amnt]))\n",
    "            continue\n",
    "    else:\n",
    "        # get more by adding predictions which both small and big correct\n",
    "        curr_idxs = torch.cat((curr_idxs,small_big_correct_idxs))\n",
    "\n",
    "        # if above efficicency threshold\n",
    "        if len(curr_idxs) > eff_thresh:\n",
    "            # remove some small/big correct\n",
    "            curr_idxs = curr_idxs[:eff_thresh]\n",
    "\n",
    "            # add big correct, small incorrect\n",
    "            curr_idxs = torch.cat((curr_idxs,small_wrong_big_correct_idxs))\n",
    "            \n",
    "            # if above total thresh\n",
    "            if len(curr_idxs) > total_thresh:\n",
    "                # remove some big to fit the threshold\n",
    "                curr_idxs = curr_idxs[:total_thresh]\n",
    "                continue\n",
    "            else:\n",
    "                # add some big wrong and small wrong to fit the threshold\n",
    "                amnt = total_thresh - len(curr_idxs)\n",
    "                curr_idxs = torch.cat((curr_idxs,small_wrong_big_wrong_idxs[:amnt]))\n",
    "                continue\n",
    "        else:\n",
    "            # add small wrong big correct\n",
    "            curr_idxs = torch.cat((curr_idxs,small_wrong_big_correct_idxs))\n",
    "\n",
    "            # if above eff thresh\n",
    "            if len(curr_idxs) > eff_thresh:\n",
    "                # if above total thresh\n",
    "                if len(curr_idxs) > total_thresh:\n",
    "                    # remove some big to fit the threshold\n",
    "                    curr_idxs = curr_idxs[:total_thresh]\n",
    "                    continue\n",
    "                else:\n",
    "                    # add some big wrong and small wrong to fit the threshold\n",
    "                    amnt = total_thresh - len(curr_idxs)\n",
    "                    curr_idxs = torch.cat((curr_idxs,small_wrong_big_wrong_idxs[:amnt]))\n",
    "                    continue\n",
    "            else:\n",
    "                # add small wrong and big wrong to reach eff thresh\n",
    "                amnt = eff_thresh - len(curr_idxs)\n",
    "                curr_idxs = torch.cat((curr_idxs,small_wrong_big_wrong_idxs[:amnt]))\n",
    "                # if above total thresh\n",
    "                if len(curr_idxs) > total_thresh:\n",
    "                    # remove some big to fit the threshold\n",
    "                    curr_idxs = curr_idxs[:total_thresh]\n",
    "                    continue\n",
    "                else:\n",
    "                    # add some big wrong and small wrong to fit the threshold\n",
    "                    amnt = total_thresh - len(curr_idxs)\n",
    "                    curr_idxs = torch.cat((curr_idxs,small_wrong_big_wrong_idxs[:amnt]))\n",
    "                    continue\n"
   ]
  },
  {
   "cell_type": "code",
   "execution_count": 197,
   "metadata": {},
   "outputs": [
    {
     "data": {
      "text/plain": [
       "tensor([], size=(0, 1), dtype=torch.int64)"
      ]
     },
     "execution_count": 197,
     "metadata": {},
     "output_type": "execute_result"
    }
   ],
   "source": [
    "(clean_results < 0).nonzero()"
   ]
  },
  {
   "cell_type": "markdown",
   "metadata": {},
   "source": [
    "clean baseline"
   ]
  },
  {
   "cell_type": "code",
   "execution_count": 17,
   "metadata": {},
   "outputs": [
    {
     "name": "stderr",
     "output_type": "stream",
     "text": [
      "  0%|          | 0/50000 [00:00<?, ?it/s]/tmp/ipykernel_3835347/1797129348.py:52: UserWarning: Implicit dimension choice for softmax has been deprecated. Change the call to include dim=X as an argument.\n",
      "  if torch.nn.Softmax()(out64).max().item() < 0.50:\n",
      "100%|██████████| 50000/50000 [12:56<00:00, 64.40it/s]\n"
     ]
    }
   ],
   "source": [
    "# clean baseline\n",
    "clean_online_acc = []\n",
    "clean_online_acc64 = []\n",
    "clean_naive_online_acc = []\n",
    "clean_oracle_acc = []\n",
    "idxs = []\n",
    "\n",
    "num_imgs = 0\n",
    "\n",
    "clean_num_correct = 0\n",
    "clean_num_correct64 = 0\n",
    "clean_num_naive_correct = 0\n",
    "clean_num_oracle_correct = 0\n",
    "\n",
    "clean_num_wrong_decisions = 0\n",
    "clean_num_choose_itself = 0\n",
    "clean_num_choose_big = 0\n",
    "\n",
    "clean_overconfident_locations = []\n",
    "clean_overconfident_imgs = []\n",
    "clean_underconfident_locations = []\n",
    "clean_underconfident_imgs = []\n",
    "\n",
    "for sample_idx in tqdm(rand_order):\n",
    "    num_imgs += 1\n",
    "    # get the image at the specified index\n",
    "    img,target = clean_val_loader.dataset[sample_idx]\n",
    "    img64,target64 = clean_val_loader64.dataset[sample_idx]\n",
    "    img,target = img.to('cuda'),torch.tensor(target).to('cuda')\n",
    "    img64,target64 = img64.to('cuda'),torch.tensor(target64).to('cuda')\n",
    "    # get the prediction\n",
    "    out = model(img.unsqueeze(0))\n",
    "    out64 = model64(img64.unsqueeze(0))\n",
    "    pred = out.argmax(dim=1).item()\n",
    "    pred64 = out64.argmax(dim=1).item()\n",
    "    res = (pred == target.item())\n",
    "    res64 = (pred64 == target64.item())\n",
    "    clean_num_correct += res\n",
    "    clean_num_correct64 += res64\n",
    "    clean_online_acc.append(clean_num_correct/num_imgs)\n",
    "    clean_online_acc64.append(clean_num_correct64/num_imgs)\n",
    "\n",
    "    # oracle, if small is right choose small, else choose big\n",
    "    if res64:\n",
    "        clean_num_oracle_correct += res64\n",
    "    else:\n",
    "        clean_num_oracle_correct += res\n",
    "    clean_oracle_acc.append(clean_num_oracle_correct/num_imgs)    \n",
    "\n",
    "\n",
    "    # naive strategy, if less than 50% confident, use big model\n",
    "    if torch.nn.Softmax()(out64).max().item() < 0.50:\n",
    "        clean_num_naive_correct += res\n",
    "        clean_num_choose_big += 1\n",
    "        # if was underconfident\n",
    "        if res64:\n",
    "            clean_num_wrong_decisions += 1\n",
    "            clean_underconfident_imgs.append(sample_idx)\n",
    "            clean_underconfident_locations.append(num_imgs)\n",
    "    else:\n",
    "        clean_num_naive_correct += res64\n",
    "        clean_num_choose_itself += 1\n",
    "        # if was overconfident\n",
    "        if not res64 and res:\n",
    "            clean_num_wrong_decisions += 1\n",
    "            clean_overconfident_imgs.append(sample_idx)\n",
    "            clean_overconfident_locations.append(num_imgs)\n",
    "    clean_naive_online_acc.append(clean_num_naive_correct/num_imgs)\n",
    "\n",
    "    idxs.append(num_imgs)"
   ]
  },
  {
   "cell_type": "code",
   "execution_count": 19,
   "metadata": {},
   "outputs": [
    {
     "data": {
      "text/plain": [
       "<matplotlib.legend.Legend at 0x7f3683e5dd90>"
      ]
     },
     "execution_count": 19,
     "metadata": {},
     "output_type": "execute_result"
    },
    {
     "data": {
      "image/png": "[encoded data removed]",
      "text/plain": [
       "<Figure size 800x600 with 1 Axes>"
      ]
     },
     "metadata": {},
     "output_type": "display_data"
    }
   ],
   "source": [
    "fig1 = plt.figure(figsize=(8,6))\n",
    "ax1 = fig1.add_subplot(111)\n",
    "ax1.plot(idxs,clean_online_acc,label='clean 224',color='red')\n",
    "ax1.plot(idxs,clean_online_acc64,label='clean 64',color='blue')\n",
    "ax1.plot(idxs,clean_oracle_acc,label='clean oracle',color='green')\n",
    "# ax1.plot(idxs,corr_online_acc,label='corrupted 224',color='black')\n",
    "# ax1.plot(idxs,corr_online_acc64,label='corrupted 64',color='green')\n",
    "ax1.plot(idxs,clean_naive_online_acc,label='naive strategy',color='purple')\n",
    "\n",
    "# ax2 = ax1.twinx()\n",
    "# px = overconfident_locations\n",
    "# py = [naive_online_acc[x] for x in px]\n",
    "# # plt.scatter(px,py,s=0.5,c='r')\n",
    "# ax2.hist(px,bins=100,alpha=0.2)\n",
    "ax1.legend(bbox_to_anchor=(1.1, 1.05))\n",
    "# ax1.set_ylabel(\"Online Accuracy\")\n",
    "# ax2.set_ylabel(\"# overconfident images\")\n",
    "# ax1.set_xlabel(\"Image Index\")"
   ]
  },
  {
   "cell_type": "markdown",
   "metadata": {},
   "source": [
    "corrupt baseline"
   ]
  },
  {
   "cell_type": "code",
   "execution_count": 14,
   "metadata": {},
   "outputs": [
    {
     "name": "stderr",
     "output_type": "stream",
     "text": [
      "  0%|          | 0/50000 [00:00<?, ?it/s]/tmp/ipykernel_3835347/1528852718.py:56: UserWarning: Implicit dimension choice for softmax has been deprecated. Change the call to include dim=X as an argument.\n",
      "  if torch.nn.Softmax()(out64).max().item() < 0.50:\n",
      "100%|██████████| 50000/50000 [10:17<00:00, 80.91it/s]\n"
     ]
    }
   ],
   "source": [
    "# naive strategy\n",
    "corr_naive_online_acc = []\n",
    "corr_online_acc = []\n",
    "corr_online_acc64 = []\n",
    "idxs = []\n",
    "num_imgs = 0\n",
    "corr_num_correct = 0\n",
    "corr_num_correct64 = 0\n",
    "corr_num_naive_correct = 0\n",
    "rand_corr_order = torch.randperm(15)\n",
    "corr_idx = 0\n",
    "corr_img_count = 0\n",
    "corr_num_wrong_decisions = 0\n",
    "corr_num_choose_itself = 0\n",
    "corr_num_choose_big = 0\n",
    "corr_overconfident_locations = []\n",
    "corr_overconfident_imgs = []\n",
    "corr_underconfident_locations = []\n",
    "corr_underconfident_imgs = []\n",
    "transition_points = [500]\n",
    "for sample_idx in tqdm(rand_order):\n",
    "    # corruptions start after the first 500 images\n",
    "    if num_imgs-1 > 499:\n",
    "        # each corruption lasts 3300 images\n",
    "        if corr_img_count == 3300:\n",
    "            corr_idx += 1\n",
    "            corr_img_count = 0\n",
    "            transition_points.append(num_imgs)\n",
    "        # get the image at the specified index\n",
    "        img,target = corrs[rand_corr_order[corr_idx]].dataset[sample_idx]\n",
    "        img64,target64 = corrs64[rand_corr_order[corr_idx]].dataset[sample_idx]\n",
    "        img,target = img.to('cuda'),torch.tensor(target).to('cuda')\n",
    "        img64,target64 = img64.to('cuda'),torch.tensor(target64).to('cuda')\n",
    "        corr_img_count += 1\n",
    "    else:\n",
    "        img,target = clean_val_loader.dataset[sample_idx]\n",
    "        img64,target64 = clean_val_loader64.dataset[sample_idx]\n",
    "        img,target = img.to('cuda'),torch.tensor(target).to('cuda')\n",
    "        img64,target64 = img64.to('cuda'),torch.tensor(target64).to('cuda')\n",
    "\n",
    "    num_imgs += 1\n",
    "    \n",
    "    # get the prediction\n",
    "    out = model(img.unsqueeze(0))\n",
    "    out64 = model64(img64.unsqueeze(0))\n",
    "    pred = out.argmax(dim=1).item()\n",
    "    pred64 = out64.argmax(dim=1).item()\n",
    "    res = (pred == target.item())\n",
    "    res64 = (pred64 == target64.item())\n",
    "    corr_num_correct += res\n",
    "    corr_num_correct64 += res64\n",
    "    corr_online_acc.append(corr_num_correct/num_imgs)\n",
    "    corr_online_acc64.append(corr_num_correct64/num_imgs)\n",
    "\n",
    "    # naive strategy, if less than 50% confident, use big model\n",
    "    if torch.nn.Softmax()(out64).max().item() < 0.50:\n",
    "        corr_num_naive_correct += res\n",
    "        corr_num_choose_big += 1\n",
    "        # if was underconfident\n",
    "        if res64:\n",
    "            corr_num_wrong_decisions += 1\n",
    "            corr_underconfident_imgs.append(sample_idx)\n",
    "            corr_underconfident_locations.append(num_imgs)\n",
    "    else:\n",
    "        corr_num_naive_correct += res64\n",
    "        corr_num_choose_itself += 1\n",
    "        # if was overconfident\n",
    "        if not res64 and res:\n",
    "            corr_num_wrong_decisions += 1\n",
    "            corr_overconfident_imgs.append(sample_idx)\n",
    "            corr_overconfident_locations.append(num_imgs)\n",
    "    corr_naive_online_acc.append(corr_num_naive_correct/num_imgs)\n",
    "    idxs.append(num_imgs)"
   ]
  }
 ],
 "metadata": {
  "kernelspec": {
   "display_name": "Python 3.9.13 ('cl')",
   "language": "python",
   "name": "python3"
  },
  "language_info": {
   "codemirror_mode": {
    "name": "ipython",
    "version": 3
   },
   "file_extension": ".py",
   "mimetype": "text/x-python",
   "name": "python",
   "nbconvert_exporter": "python",
   "pygments_lexer": "ipython3",
   "version": "3.9.13"
  },
  "orig_nbformat": 4,
  "vscode": {
   "interpreter": {
    "hash": "71152ab9c07ce901c8cf95cbd74fadea2c31d5b816d92473f31e695d403a1560"
   }
  }
 },
 "nbformat": 4,
 "nbformat_minor": 2
}
