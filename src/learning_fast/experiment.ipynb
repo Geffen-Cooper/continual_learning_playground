{
 "cells": [
  {
   "cell_type": "code",
   "execution_count": 1,
   "metadata": {},
   "outputs": [],
   "source": [
    "from models import *\n",
    "from train import *\n"
   ]
  },
  {
   "cell_type": "code",
   "execution_count": 2,
   "metadata": {},
   "outputs": [],
   "source": [
    "transform=transforms.Compose([\n",
    "            transforms.ToTensor(),\n",
    "            transforms.Normalize((0.1307,), (0.3081,))\n",
    "            ])\n",
    "\n",
    "train_set = datasets.MNIST('../data', train=True, download=True,\n",
    "                        transform=transform)\n",
    "test_set = datasets.MNIST('../data', train=False,\n",
    "                        transform=transform)\n",
    "\n",
    "rand_idx = torch.randperm(60000)\n",
    "train_idxs = rand_idx[0:50000]\n",
    "val_idxs = rand_idx[50000:]\n",
    "train_split, val_split = torch.utils.data.random_split(train_set, [50000, 10000])\n",
    "\n",
    "train_loader = torch.utils.data.DataLoader(train_split, batch_size=64, shuffle=True, pin_memory=True,num_workers=4)\n",
    "val_loader = torch.utils.data.DataLoader(val_split, batch_size=1024, shuffle=True, pin_memory=True,num_workers=4)\n",
    "test_loader = torch.utils.data.DataLoader(test_set, batch_size=1024, shuffle=True, pin_memory=True)\n"
   ]
  },
  {
   "cell_type": "code",
   "execution_count": 3,
   "metadata": {},
   "outputs": [
    {
     "name": "stdout",
     "output_type": "stream",
     "text": [
      "BIG # params: 1199882\n",
      "small # params: 299906\n",
      "BIG has  4.000860269551126 times more parameters\n"
     ]
    }
   ],
   "source": [
    "BIG = DigitClassifierBig().to('cuda')\n",
    "small = DigitClassifierSmall().to('cuda')\n",
    "\n",
    "def count_parameters(model):\n",
    "    return sum(p.numel() for p in model.parameters() if p.requires_grad)\n",
    "num_big_ps = count_parameters(BIG)\n",
    "num_small_ps = count_parameters(small)\n",
    "print(\"BIG # params:\",num_big_ps)\n",
    "print(\"small # params:\",num_small_ps)\n",
    "print(\"BIG has \", num_big_ps/num_small_ps, \"times more parameters\")"
   ]
  },
  {
   "cell_type": "code",
   "execution_count": 4,
   "metadata": {},
   "outputs": [],
   "source": [
    "# data,target = next(iter(train_loader))\n",
    "# small_idxs = torch.logical_or(target==4,target==5)\n",
    "# small_target = target[small_idxs]\n",
    "# small_data = data[small_idxs]"
   ]
  },
  {
   "cell_type": "code",
   "execution_count": 5,
   "metadata": {},
   "outputs": [],
   "source": [
    "device = 'cuda'\n",
    "train(BIG,small,train_loader,val_loader,device)"
   ]
  }
 ],
 "metadata": {
  "kernelspec": {
   "display_name": "Python 3.9.13 ('cl')",
   "language": "python",
   "name": "python3"
  },
  "language_info": {
   "codemirror_mode": {
    "name": "ipython",
    "version": 3
   },
   "file_extension": ".py",
   "mimetype": "text/x-python",
   "name": "python",
   "nbconvert_exporter": "python",
   "pygments_lexer": "ipython3",
   "version": "3.9.13"
  },
  "orig_nbformat": 4,
  "vscode": {
   "interpreter": {
    "hash": "71152ab9c07ce901c8cf95cbd74fadea2c31d5b816d92473f31e695d403a1560"
   }
  }
 },
 "nbformat": 4,
 "nbformat_minor": 2
}
