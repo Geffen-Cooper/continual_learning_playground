{
 "cells": [
  {
   "cell_type": "code",
   "execution_count": 1,
   "metadata": {},
   "outputs": [],
   "source": [
    "from datasets import *\n",
    "from train import *\n",
    "from torchvision import datasets, transforms, models\n",
    "# torch.backends.quantized.engine = 'qnnpack'"
   ]
  },
  {
   "cell_type": "markdown",
   "metadata": {},
   "source": [
    "Random stuff"
   ]
  },
  {
   "cell_type": "code",
   "execution_count": 34,
   "metadata": {},
   "outputs": [],
   "source": [
    "with torch.no_grad():\n",
    "    sub_classes_w = model.classifier[1].weight[:200,:]\n",
    "    sub_classes_b = model.classifier[1].bias[:200]\n",
    "    new_layer = torch.nn.Linear(sub_classes_w.size()[1],sub_classes_w.size()[0])\n",
    "    new_layer.weight[:,:] = sub_classes_w\n",
    "    new_layer.bias[:] = sub_classes_b\n",
    "    model.classifier[1] = new_layer\n"
   ]
  },
  {
   "cell_type": "code",
   "execution_count": null,
   "metadata": {},
   "outputs": [],
   "source": [
    "# model = models.quantization.mobilenet_v2(weights='DEFAULT',quantize=True)\n",
    "# model = models.mobilenet_v2(weights='MobileNet_V2_Weights.DEFAULT')"
   ]
  },
  {
   "cell_type": "markdown",
   "metadata": {},
   "source": [
    "training"
   ]
  },
  {
   "cell_type": "code",
   "execution_count": 2,
   "metadata": {},
   "outputs": [
    {
     "name": "stdout",
     "output_type": "stream",
     "text": [
      "Train Epoch: 0 [0/1153050 (0%)] train loss: 6.978, lr: 0.00400000\n",
      "Train Epoch: 0 [51200/1153050 (4%)] train loss: 4.260, lr: 0.00392000\n",
      "Train Epoch: 0 [102400/1153050 (9%)] train loss: 3.123, lr: 0.00384160\n",
      "Train Epoch: 0 [153600/1153050 (13%)] train loss: 3.710, lr: 0.00376477\n",
      "Train Epoch: 0 [204800/1153050 (18%)] train loss: 3.339, lr: 0.00368947\n",
      "Train Epoch: 0 [256000/1153050 (22%)] train loss: 2.775, lr: 0.00361568\n",
      "Train Epoch: 0 [307200/1153050 (27%)] train loss: 3.383, lr: 0.00354337\n",
      "Train Epoch: 0 [358400/1153050 (31%)] train loss: 3.008, lr: 0.00347250\n",
      "Train Epoch: 0 [409600/1153050 (36%)] train loss: 3.224, lr: 0.00340305\n",
      "Train Epoch: 0 [460800/1153050 (40%)] train loss: 2.728, lr: 0.00333499\n",
      "Train Epoch: 0 [512000/1153050 (44%)] train loss: 3.023, lr: 0.00326829\n",
      "Train Epoch: 0 [563200/1153050 (49%)] train loss: 2.857, lr: 0.00320293\n",
      "Train Epoch: 0 [614400/1153050 (53%)] train loss: 2.565, lr: 0.00313887\n",
      "Train Epoch: 0 [665600/1153050 (58%)] train loss: 2.535, lr: 0.00307609\n",
      "Train Epoch: 0 [716800/1153050 (62%)] train loss: 3.073, lr: 0.00301457\n",
      "Train Epoch: 0 [768000/1153050 (67%)] train loss: 1.992, lr: 0.00295428\n",
      "Train Epoch: 0 [819200/1153050 (71%)] train loss: 2.622, lr: 0.00289519\n",
      "Train Epoch: 0 [870400/1153050 (75%)] train loss: 2.982, lr: 0.00283729\n",
      "Train Epoch: 0 [921600/1153050 (80%)] train loss: 2.275, lr: 0.00278054\n",
      "Train Epoch: 0 [972800/1153050 (84%)] train loss: 2.980, lr: 0.00272493\n",
      "Train Epoch: 0 [1024000/1153050 (89%)] train loss: 2.216, lr: 0.00267043\n",
      "Train Epoch: 0 [1075200/1153050 (93%)] train loss: 2.639, lr: 0.00261702\n",
      "Train Epoch: 0 [1126400/1153050 (98%)] train loss: 2.860, lr: 0.00256468\n"
     ]
    },
    {
     "name": "stderr",
     "output_type": "stream",
     "text": [
      "100%|██████████| 2002/2002 [00:10<00:00, 193.74it/s]\n"
     ]
    },
    {
     "name": "stdout",
     "output_type": "stream",
     "text": [
      "Train Epoch: 0 [468416/1153050 (100%)] train loss: 2.623, val loss: 2.416, val acc: 0.453, top5: 0.710, lr: 0.00251339\n",
      "==================== best validation accuracy ====================\n",
      "epoch: 0, val accuracy: 0.4530312136562673\n",
      "Train Epoch: 1 [0/1153050 (0%)] train loss: 2.245, lr: 0.00251339\n",
      "Train Epoch: 1 [51200/1153050 (4%)] train loss: 2.775, lr: 0.00246312\n",
      "Train Epoch: 1 [102400/1153050 (9%)] train loss: 2.317, lr: 0.00241386\n",
      "Train Epoch: 1 [153600/1153050 (13%)] train loss: 2.333, lr: 0.00236558\n",
      "Train Epoch: 1 [204800/1153050 (18%)] train loss: 2.699, lr: 0.00231827\n",
      "Train Epoch: 1 [256000/1153050 (22%)] train loss: 2.259, lr: 0.00227190\n",
      "Train Epoch: 1 [307200/1153050 (27%)] train loss: 2.709, lr: 0.00222647\n",
      "Train Epoch: 1 [358400/1153050 (31%)] train loss: 2.771, lr: 0.00218194\n",
      "Train Epoch: 1 [409600/1153050 (36%)] train loss: 2.370, lr: 0.00213830\n",
      "Train Epoch: 1 [460800/1153050 (40%)] train loss: 2.626, lr: 0.00209553\n",
      "Train Epoch: 1 [512000/1153050 (44%)] train loss: 2.475, lr: 0.00205362\n",
      "Train Epoch: 1 [563200/1153050 (49%)] train loss: 3.109, lr: 0.00201255\n",
      "Train Epoch: 1 [614400/1153050 (53%)] train loss: 2.270, lr: 0.00197230\n",
      "Train Epoch: 1 [665600/1153050 (58%)] train loss: 2.477, lr: 0.00193285\n",
      "Train Epoch: 1 [716800/1153050 (62%)] train loss: 2.391, lr: 0.00189420\n",
      "Train Epoch: 1 [768000/1153050 (67%)] train loss: 2.615, lr: 0.00185631\n",
      "Train Epoch: 1 [819200/1153050 (71%)] train loss: 2.066, lr: 0.00181919\n",
      "Train Epoch: 1 [870400/1153050 (75%)] train loss: 2.412, lr: 0.00178280\n",
      "Train Epoch: 1 [921600/1153050 (80%)] train loss: 2.471, lr: 0.00174715\n",
      "Train Epoch: 1 [972800/1153050 (84%)] train loss: 2.128, lr: 0.00171220\n",
      "Train Epoch: 1 [1024000/1153050 (89%)] train loss: 2.031, lr: 0.00167796\n",
      "Train Epoch: 1 [1075200/1153050 (93%)] train loss: 2.098, lr: 0.00164440\n",
      "Train Epoch: 1 [1126400/1153050 (98%)] train loss: 1.709, lr: 0.00161151\n"
     ]
    },
    {
     "name": "stderr",
     "output_type": "stream",
     "text": [
      "100%|██████████| 2002/2002 [00:12<00:00, 165.00it/s]\n"
     ]
    },
    {
     "name": "stdout",
     "output_type": "stream",
     "text": [
      "Train Epoch: 1 [468416/1153050 (100%)] train loss: 2.106, val loss: 2.312, val acc: 0.474, top5: 0.726, lr: 0.00157928\n",
      "==================== best validation accuracy ====================\n",
      "epoch: 1, val accuracy: 0.4739886197772349\n",
      "Train Epoch: 2 [0/1153050 (0%)] train loss: 2.074, lr: 0.00157928\n",
      "Train Epoch: 2 [51200/1153050 (4%)] train loss: 2.006, lr: 0.00154770\n",
      "Train Epoch: 2 [102400/1153050 (9%)] train loss: 2.081, lr: 0.00151674\n",
      "Train Epoch: 2 [153600/1153050 (13%)] train loss: 2.058, lr: 0.00148641\n",
      "Train Epoch: 2 [204800/1153050 (18%)] train loss: 1.690, lr: 0.00145668\n",
      "Train Epoch: 2 [256000/1153050 (22%)] train loss: 2.047, lr: 0.00142755\n",
      "Train Epoch: 2 [307200/1153050 (27%)] train loss: 2.811, lr: 0.00139899\n",
      "Train Epoch: 2 [358400/1153050 (31%)] train loss: 1.544, lr: 0.00137101\n",
      "Train Epoch: 2 [409600/1153050 (36%)] train loss: 1.565, lr: 0.00134359\n",
      "Train Epoch: 2 [460800/1153050 (40%)] train loss: 2.248, lr: 0.00131672\n",
      "Train Epoch: 2 [512000/1153050 (44%)] train loss: 1.976, lr: 0.00129039\n",
      "Train Epoch: 2 [563200/1153050 (49%)] train loss: 2.480, lr: 0.00126458\n",
      "Train Epoch: 2 [614400/1153050 (53%)] train loss: 1.887, lr: 0.00123929\n",
      "Train Epoch: 2 [665600/1153050 (58%)] train loss: 2.207, lr: 0.00121450\n",
      "Train Epoch: 2 [716800/1153050 (62%)] train loss: 1.773, lr: 0.00119021\n",
      "Train Epoch: 2 [768000/1153050 (67%)] train loss: 1.617, lr: 0.00116641\n",
      "Train Epoch: 2 [819200/1153050 (71%)] train loss: 1.687, lr: 0.00114308\n",
      "Train Epoch: 2 [870400/1153050 (75%)] train loss: 2.396, lr: 0.00112022\n",
      "Train Epoch: 2 [921600/1153050 (80%)] train loss: 1.895, lr: 0.00109781\n",
      "Train Epoch: 2 [972800/1153050 (84%)] train loss: 1.973, lr: 0.00107586\n",
      "Train Epoch: 2 [1024000/1153050 (89%)] train loss: 2.051, lr: 0.00105434\n",
      "Train Epoch: 2 [1075200/1153050 (93%)] train loss: 1.667, lr: 0.00103325\n",
      "Train Epoch: 2 [1126400/1153050 (98%)] train loss: 1.839, lr: 0.00101259\n"
     ]
    },
    {
     "name": "stderr",
     "output_type": "stream",
     "text": [
      "100%|██████████| 2002/2002 [00:12<00:00, 164.76it/s]"
     ]
    },
    {
     "name": "stdout",
     "output_type": "stream",
     "text": [
      "Train Epoch: 2 [468416/1153050 (100%)] train loss: 2.405, val loss: 2.196, val acc: 0.497, top5: 0.744, lr: 0.00099234\n",
      "==================== best validation accuracy ====================\n",
      "epoch: 2, val accuracy: 0.4965149043452469\n"
     ]
    },
    {
     "name": "stderr",
     "output_type": "stream",
     "text": [
      "\n"
     ]
    },
    {
     "name": "stdout",
     "output_type": "stream",
     "text": [
      "Train Epoch: 3 [0/1153050 (0%)] train loss: 2.012, lr: 0.00099234\n",
      "Train Epoch: 3 [51200/1153050 (4%)] train loss: 1.139, lr: 0.00097249\n",
      "Train Epoch: 3 [102400/1153050 (9%)] train loss: 1.820, lr: 0.00095304\n",
      "Train Epoch: 3 [153600/1153050 (13%)] train loss: 1.445, lr: 0.00093398\n",
      "Train Epoch: 3 [204800/1153050 (18%)] train loss: 1.848, lr: 0.00091530\n",
      "Train Epoch: 3 [256000/1153050 (22%)] train loss: 1.831, lr: 0.00089699\n",
      "Train Epoch: 3 [307200/1153050 (27%)] train loss: 2.320, lr: 0.00087905\n",
      "Train Epoch: 3 [358400/1153050 (31%)] train loss: 1.687, lr: 0.00086147\n",
      "Train Epoch: 3 [409600/1153050 (36%)] train loss: 1.746, lr: 0.00084424\n",
      "Train Epoch: 3 [460800/1153050 (40%)] train loss: 1.644, lr: 0.00082736\n",
      "Train Epoch: 3 [512000/1153050 (44%)] train loss: 1.740, lr: 0.00081081\n",
      "Train Epoch: 3 [563200/1153050 (49%)] train loss: 1.660, lr: 0.00079460\n",
      "Train Epoch: 3 [614400/1153050 (53%)] train loss: 2.073, lr: 0.00077870\n",
      "Train Epoch: 3 [665600/1153050 (58%)] train loss: 1.756, lr: 0.00076313\n",
      "Train Epoch: 3 [716800/1153050 (62%)] train loss: 1.919, lr: 0.00074787\n",
      "Train Epoch: 3 [768000/1153050 (67%)] train loss: 1.728, lr: 0.00073291\n",
      "Train Epoch: 3 [819200/1153050 (71%)] train loss: 1.413, lr: 0.00071825\n",
      "Train Epoch: 3 [870400/1153050 (75%)] train loss: 1.438, lr: 0.00070389\n",
      "Train Epoch: 3 [921600/1153050 (80%)] train loss: 1.762, lr: 0.00068981\n",
      "Train Epoch: 3 [972800/1153050 (84%)] train loss: 1.968, lr: 0.00067601\n",
      "Train Epoch: 3 [1024000/1153050 (89%)] train loss: 2.166, lr: 0.00066249\n",
      "Train Epoch: 3 [1075200/1153050 (93%)] train loss: 1.763, lr: 0.00064924\n",
      "Train Epoch: 3 [1126400/1153050 (98%)] train loss: 2.189, lr: 0.00063626\n"
     ]
    },
    {
     "name": "stderr",
     "output_type": "stream",
     "text": [
      "100%|██████████| 2002/2002 [00:10<00:00, 192.81it/s]\n"
     ]
    },
    {
     "name": "stdout",
     "output_type": "stream",
     "text": [
      "Train Epoch: 3 [468416/1153050 (100%)] train loss: 1.717, val loss: 2.159, val acc: 0.503, top5: 0.751, lr: 0.00062353\n",
      "==================== best validation accuracy ====================\n",
      "epoch: 3, val accuracy: 0.5033367937119976\n",
      "Train Epoch: 4 [0/1153050 (0%)] train loss: 1.996, lr: 0.00062353\n",
      "Train Epoch: 4 [51200/1153050 (4%)] train loss: 1.247, lr: 0.00061106\n",
      "Train Epoch: 4 [102400/1153050 (9%)] train loss: 3.144, lr: 0.00059884\n",
      "Train Epoch: 4 [153600/1153050 (13%)] train loss: 1.488, lr: 0.00058686\n",
      "Train Epoch: 4 [204800/1153050 (18%)] train loss: 1.934, lr: 0.00057513\n"
     ]
    },
    {
     "ename": "KeyboardInterrupt",
     "evalue": "",
     "output_type": "error",
     "traceback": [
      "\u001b[0;31m---------------------------------------------------------------------------\u001b[0m",
      "\u001b[0;31mKeyboardInterrupt\u001b[0m                         Traceback (most recent call last)",
      "\u001b[1;32m/home/gc28692/Projects/continual_learning/continual_learning_playground/src/learning_fast/train_tiny_imagenet/scratch.ipynb Cell 6\u001b[0m in \u001b[0;36m<cell line: 6>\u001b[0;34m()\u001b[0m\n\u001b[1;32m      <a href='vscode-notebook-cell:/home/gc28692/Projects/continual_learning/continual_learning_playground/src/learning_fast/train_tiny_imagenet/scratch.ipynb#W2sZmlsZQ%3D%3D?line=1'>2</a>\u001b[0m \u001b[39m# model = models.mobilenet_v3_large()\u001b[39;00m\n\u001b[1;32m      <a href='vscode-notebook-cell:/home/gc28692/Projects/continual_learning/continual_learning_playground/src/learning_fast/train_tiny_imagenet/scratch.ipynb#W2sZmlsZQ%3D%3D?line=2'>3</a>\u001b[0m \u001b[39m# model.load_state_dict(torch.load(\"best_batch_i162153.pth\")['model_state_dict'])\u001b[39;00m\n\u001b[1;32m      <a href='vscode-notebook-cell:/home/gc28692/Projects/continual_learning/continual_learning_playground/src/learning_fast/train_tiny_imagenet/scratch.ipynb#W2sZmlsZQ%3D%3D?line=3'>4</a>\u001b[0m \u001b[39m# train_loader, val_loader,_ = load_tiny_imagenet(64,1234)\u001b[39;00m\n\u001b[1;32m      <a href='vscode-notebook-cell:/home/gc28692/Projects/continual_learning/continual_learning_playground/src/learning_fast/train_tiny_imagenet/scratch.ipynb#W2sZmlsZQ%3D%3D?line=4'>5</a>\u001b[0m train_loader, val_loader \u001b[39m=\u001b[39m load_imagenet64(\u001b[39m64\u001b[39m,\u001b[39m12345\u001b[39m)\n\u001b[0;32m----> <a href='vscode-notebook-cell:/home/gc28692/Projects/continual_learning/continual_learning_playground/src/learning_fast/train_tiny_imagenet/scratch.ipynb#W2sZmlsZQ%3D%3D?line=5'>6</a>\u001b[0m train(model,train_loader,val_loader,\u001b[39m'\u001b[39;49m\u001b[39mcuda\u001b[39;49m\u001b[39m'\u001b[39;49m,lr\u001b[39m=\u001b[39;49m\u001b[39m0.004\u001b[39;49m)\n",
      "File \u001b[0;32m~/Projects/continual_learning/continual_learning_playground/src/learning_fast/train_tiny_imagenet/train.py:45\u001b[0m, in \u001b[0;36mtrain\u001b[0;34m(model, train_loader, val_loader, device, lr)\u001b[0m\n\u001b[1;32m     43\u001b[0m loss \u001b[39m=\u001b[39m nn\u001b[39m.\u001b[39mCrossEntropyLoss()(output, target)\n\u001b[1;32m     44\u001b[0m writer\u001b[39m.\u001b[39madd_scalar(\u001b[39m\"\u001b[39m\u001b[39mLoss/train\u001b[39m\u001b[39m\"\u001b[39m, loss, batch_iter)\n\u001b[0;32m---> 45\u001b[0m loss\u001b[39m.\u001b[39;49mbackward()\n\u001b[1;32m     46\u001b[0m optimizer\u001b[39m.\u001b[39mstep()\n\u001b[1;32m     48\u001b[0m \u001b[39mif\u001b[39;00m batch_idx \u001b[39m%\u001b[39m \u001b[39m800\u001b[39m \u001b[39m==\u001b[39m \u001b[39m0\u001b[39m:\n",
      "File \u001b[0;32m~/anaconda3/envs/cl/lib/python3.9/site-packages/torch/_tensor.py:487\u001b[0m, in \u001b[0;36mTensor.backward\u001b[0;34m(self, gradient, retain_graph, create_graph, inputs)\u001b[0m\n\u001b[1;32m    477\u001b[0m \u001b[39mif\u001b[39;00m has_torch_function_unary(\u001b[39mself\u001b[39m):\n\u001b[1;32m    478\u001b[0m     \u001b[39mreturn\u001b[39;00m handle_torch_function(\n\u001b[1;32m    479\u001b[0m         Tensor\u001b[39m.\u001b[39mbackward,\n\u001b[1;32m    480\u001b[0m         (\u001b[39mself\u001b[39m,),\n\u001b[0;32m   (...)\u001b[0m\n\u001b[1;32m    485\u001b[0m         inputs\u001b[39m=\u001b[39minputs,\n\u001b[1;32m    486\u001b[0m     )\n\u001b[0;32m--> 487\u001b[0m torch\u001b[39m.\u001b[39;49mautograd\u001b[39m.\u001b[39;49mbackward(\n\u001b[1;32m    488\u001b[0m     \u001b[39mself\u001b[39;49m, gradient, retain_graph, create_graph, inputs\u001b[39m=\u001b[39;49minputs\n\u001b[1;32m    489\u001b[0m )\n",
      "File \u001b[0;32m~/anaconda3/envs/cl/lib/python3.9/site-packages/torch/autograd/__init__.py:197\u001b[0m, in \u001b[0;36mbackward\u001b[0;34m(tensors, grad_tensors, retain_graph, create_graph, grad_variables, inputs)\u001b[0m\n\u001b[1;32m    192\u001b[0m     retain_graph \u001b[39m=\u001b[39m create_graph\n\u001b[1;32m    194\u001b[0m \u001b[39m# The reason we repeat same the comment below is that\u001b[39;00m\n\u001b[1;32m    195\u001b[0m \u001b[39m# some Python versions print out the first line of a multi-line function\u001b[39;00m\n\u001b[1;32m    196\u001b[0m \u001b[39m# calls in the traceback and some print out the last line\u001b[39;00m\n\u001b[0;32m--> 197\u001b[0m Variable\u001b[39m.\u001b[39;49m_execution_engine\u001b[39m.\u001b[39;49mrun_backward(  \u001b[39m# Calls into the C++ engine to run the backward pass\u001b[39;49;00m\n\u001b[1;32m    198\u001b[0m     tensors, grad_tensors_, retain_graph, create_graph, inputs,\n\u001b[1;32m    199\u001b[0m     allow_unreachable\u001b[39m=\u001b[39;49m\u001b[39mTrue\u001b[39;49;00m, accumulate_grad\u001b[39m=\u001b[39;49m\u001b[39mTrue\u001b[39;49;00m)\n",
      "\u001b[0;31mKeyboardInterrupt\u001b[0m: "
     ]
    }
   ],
   "source": [
    "model = models.mobilenet_v3_large(weights='DEFAULT').to('cuda')\n",
    "# model = models.mobilenet_v3_large()\n",
    "# model.load_state_dict(torch.load(\"best_batch_i162153.pth\")['model_state_dict'])\n",
    "# train_loader, val_loader,_ = load_tiny_imagenet(64,1234)\n",
    "train_loader, val_loader = load_imagenet64(64,12345)\n",
    "train(model,train_loader,val_loader,'cuda',lr=0.004)"
   ]
  },
  {
   "cell_type": "markdown",
   "metadata": {},
   "source": [
    "flops"
   ]
  },
  {
   "cell_type": "code",
   "execution_count": 5,
   "metadata": {},
   "outputs": [
    {
     "name": "stdout",
     "output_type": "stream",
     "text": [
      "[INFO] Register count_convNd() for <class 'torch.nn.modules.conv.Conv2d'>.\n",
      "[INFO] Register count_normalization() for <class 'torch.nn.modules.batchnorm.BatchNorm2d'>.\n",
      "[INFO] Register zero_ops() for <class 'torch.nn.modules.activation.ReLU'>.\n",
      "[INFO] Register zero_ops() for <class 'torch.nn.modules.container.Sequential'>.\n",
      "[INFO] Register count_adap_avgpool() for <class 'torch.nn.modules.pooling.AdaptiveAvgPool2d'>.\n",
      "[INFO] Register count_linear() for <class 'torch.nn.modules.linear.Linear'>.\n",
      "[INFO] Register zero_ops() for <class 'torch.nn.modules.dropout.Dropout'>.\n",
      "234.838456 5483032.0\n"
     ]
    }
   ],
   "source": [
    "from thop import profile\n",
    "model = model = models.mobilenet_v3_large()\n",
    "input = torch.randn(1, 3, 224, 224)\n",
    "macs, params = profile(model, inputs=(input, ))\n",
    "print(macs/1e6,params)"
   ]
  },
  {
   "cell_type": "markdown",
   "metadata": {},
   "source": [
    "test sets"
   ]
  },
  {
   "cell_type": "code",
   "execution_count": 2,
   "metadata": {},
   "outputs": [],
   "source": [
    "test_set = load_imagenet(128,1234,False)\n",
    "test_set64 = load_imagenet64(128,1234,False)\n",
    "\n",
    "test_set_corr = load_imagenetc_val(128,1234,corruption='impulse_noise')\n",
    "test_set_corr64 = load_imagenetc64_val(128,1234,corruption='impulse_noise')"
   ]
  },
  {
   "cell_type": "code",
   "execution_count": 4,
   "metadata": {},
   "outputs": [
    {
     "ename": "NameError",
     "evalue": "name 'test_set' is not defined",
     "output_type": "error",
     "traceback": [
      "\u001b[0;31m---------------------------------------------------------------------------\u001b[0m",
      "\u001b[0;31mNameError\u001b[0m                                 Traceback (most recent call last)",
      "\u001b[1;32m/home/gc28692/Projects/continual_learning/continual_learning_playground/src/learning_fast/train_tiny_imagenet/scratch.ipynb Cell 11\u001b[0m in \u001b[0;36m<cell line: 6>\u001b[0;34m()\u001b[0m\n\u001b[1;32m      <a href='vscode-notebook-cell:/home/gc28692/Projects/continual_learning/continual_learning_playground/src/learning_fast/train_tiny_imagenet/scratch.ipynb#X66sZmlsZQ%3D%3D?line=2'>3</a>\u001b[0m model64\u001b[39m.\u001b[39mload_state_dict(torch\u001b[39m.\u001b[39mload(\u001b[39m\"\u001b[39m\u001b[39mbest_batch_i1081020.pth\u001b[39m\u001b[39m\"\u001b[39m)[\u001b[39m'\u001b[39m\u001b[39mmodel_state_dict\u001b[39m\u001b[39m'\u001b[39m])\n\u001b[1;32m      <a href='vscode-notebook-cell:/home/gc28692/Projects/continual_learning/continual_learning_playground/src/learning_fast/train_tiny_imagenet/scratch.ipynb#X66sZmlsZQ%3D%3D?line=3'>4</a>\u001b[0m model64\u001b[39m.\u001b[39mto(\u001b[39m'\u001b[39m\u001b[39mcuda\u001b[39m\u001b[39m'\u001b[39m)\n\u001b[0;32m----> <a href='vscode-notebook-cell:/home/gc28692/Projects/continual_learning/continual_learning_playground/src/learning_fast/train_tiny_imagenet/scratch.ipynb#X66sZmlsZQ%3D%3D?line=5'>6</a>\u001b[0m acc_clean \u001b[39m=\u001b[39m validate(model,test_set,\u001b[39m'\u001b[39m\u001b[39mcuda\u001b[39m\u001b[39m'\u001b[39m)\n\u001b[1;32m      <a href='vscode-notebook-cell:/home/gc28692/Projects/continual_learning/continual_learning_playground/src/learning_fast/train_tiny_imagenet/scratch.ipynb#X66sZmlsZQ%3D%3D?line=6'>7</a>\u001b[0m acc64_clean \u001b[39m=\u001b[39m validate(model64,test_set64,\u001b[39m'\u001b[39m\u001b[39mcuda\u001b[39m\u001b[39m'\u001b[39m)\n",
      "\u001b[0;31mNameError\u001b[0m: name 'test_set' is not defined"
     ]
    }
   ],
   "source": [
    "model = models.mobilenet_v3_large(weights='DEFAULT').to('cuda')\n",
    "model64 = models.mobilenet_v3_large()\n",
    "model64.load_state_dict(torch.load(\"best_batch_i1081020.pth\")['model_state_dict'])\n",
    "model64.to('cuda')\n",
    "\n",
    "acc_clean = validate(model,test_set,'cuda')\n",
    "acc64_clean = validate(model64,test_set64,'cuda')\n"
   ]
  },
  {
   "cell_type": "code",
   "execution_count": 12,
   "metadata": {},
   "outputs": [
    {
     "name": "stdout",
     "output_type": "stream",
     "text": [
      "Mobilenet V3 Large Clean (224x224)\n",
      " Top 1: 75.31%\t Top 5: 92.63%\n",
      "Mobilenet V3 Large Clean (64x64)\n",
      " Top 1: 47.64%\t Top 5: 72.79%\n"
     ]
    }
   ],
   "source": [
    "print(\"Mobilenet V3 Large Clean (224x224)\\n Top 1: {:2.2f}%\\t Top 5: {:2.2f}%\".format(acc_clean[0]*100,acc_clean[2]*100))\n",
    "print(\"Mobilenet V3 Large Clean (64x64)\\n Top 1: {:2.2f}%\\t Top 5: {:2.2f}%\".format(acc64_clean[0]*100,acc64_clean[2]*100))"
   ]
  },
  {
   "cell_type": "code",
   "execution_count": 53,
   "metadata": {},
   "outputs": [
    {
     "name": "stderr",
     "output_type": "stream",
     "text": [
      "100%|██████████| 391/391 [00:30<00:00, 12.70it/s]\n"
     ]
    },
    {
     "data": {
      "text/plain": [
       "(0.50378, 2.3749470415017795, 0.74604)"
      ]
     },
     "execution_count": 53,
     "metadata": {},
     "output_type": "execute_result"
    }
   ],
   "source": [
    "val_l = load_imagenetc_val(128,1234,severity=2)\n",
    "validate(model,val_l,'cuda')"
   ]
  },
  {
   "cell_type": "code",
   "execution_count": 48,
   "metadata": {},
   "outputs": [
    {
     "name": "stderr",
     "output_type": "stream",
     "text": [
      "100%|██████████| 391/391 [00:30<00:00, 12.79it/s]\n",
      "100%|██████████| 391/391 [00:03<00:00, 102.16it/s]\n",
      "100%|██████████| 391/391 [00:30<00:00, 13.00it/s]\n",
      "100%|██████████| 391/391 [00:05<00:00, 75.21it/s]\n",
      "100%|██████████| 391/391 [00:30<00:00, 12.86it/s]\n",
      "100%|██████████| 391/391 [00:05<00:00, 75.85it/s]\n",
      "100%|██████████| 391/391 [00:26<00:00, 15.00it/s]\n",
      "100%|██████████| 391/391 [00:04<00:00, 78.72it/s]\n",
      "100%|██████████| 391/391 [00:27<00:00, 14.40it/s]\n",
      "100%|██████████| 391/391 [00:05<00:00, 75.47it/s]\n",
      "100%|██████████| 391/391 [00:26<00:00, 14.54it/s]\n",
      "100%|██████████| 391/391 [00:05<00:00, 77.20it/s]\n",
      "100%|██████████| 391/391 [00:26<00:00, 14.77it/s]\n",
      "100%|██████████| 391/391 [00:05<00:00, 76.90it/s]\n",
      "100%|██████████| 391/391 [00:27<00:00, 14.08it/s]\n",
      "100%|██████████| 391/391 [00:05<00:00, 77.26it/s]\n",
      "100%|██████████| 391/391 [00:27<00:00, 13.97it/s]\n",
      "100%|██████████| 391/391 [00:05<00:00, 76.67it/s]\n",
      "100%|██████████| 391/391 [00:27<00:00, 14.43it/s]\n",
      "100%|██████████| 391/391 [00:05<00:00, 77.49it/s]\n",
      "100%|██████████| 391/391 [00:27<00:00, 14.07it/s]\n",
      "100%|██████████| 391/391 [00:05<00:00, 76.55it/s]\n",
      "100%|██████████| 391/391 [00:27<00:00, 14.44it/s]\n",
      "100%|██████████| 391/391 [00:05<00:00, 76.26it/s]\n",
      "100%|██████████| 391/391 [00:27<00:00, 14.41it/s]\n",
      "100%|██████████| 391/391 [00:05<00:00, 74.81it/s]\n",
      "100%|██████████| 391/391 [00:26<00:00, 14.94it/s]\n",
      "100%|██████████| 391/391 [00:05<00:00, 76.43it/s]\n",
      "100%|██████████| 391/391 [00:27<00:00, 14.03it/s]\n",
      "100%|██████████| 391/391 [00:05<00:00, 74.78it/s]\n"
     ]
    }
   ],
   "source": [
    "corruptions = ['gaussian_noise','impulse_noise','shot_noise','defocus_blur','glass_blur','motion_blur','zoom_blur','snow','frost','fog','brightness','contrast','elastic_transform','jpeg_compression','pixelate']\n",
    "acc_corr = []\n",
    "acc_corr64 = []\n",
    "\n",
    "for corr in corruptions:\n",
    "    corr_set = load_imagenetc_val(128,1234,corr)\n",
    "    corr_set64 = load_imagenetc64_val(128,1234,corr)\n",
    "\n",
    "    acc_corr.append(validate(model,corr_set,'cuda')[0])\n",
    "    acc_corr64.append(validate(model64,corr_set64,'cuda')[0])\n",
    "    "
   ]
  },
  {
   "cell_type": "code",
   "execution_count": 51,
   "metadata": {},
   "outputs": [],
   "source": [
    "import pandas as pd\n",
    "df = pd.DataFrame(columns=corruptions)\n",
    "df.loc[0] = acc_corr\n",
    "df.loc[1] = acc_corr64\n",
    "df.insert(0, \"Model\", ['224x224', '64x64'])\n",
    "df.insert(1,'Clean Acc.',[acc_clean,acc64_clean])\n",
    "df.insert(2,'Avg Corr. Acc.',[sum(acc_corr)/len(acc_corr),sum(acc_corr64)/len(acc_corr64)])\n",
    "df.to_csv(\"accuracy results.csv\")"
   ]
  },
  {
   "cell_type": "code",
   "execution_count": 5,
   "metadata": {},
   "outputs": [
    {
     "name": "stderr",
     "output_type": "stream",
     "text": [
      "100%|██████████| 391/391 [00:20<00:00, 18.97it/s]\n"
     ]
    }
   ],
   "source": [
    "test_set_cal = load_imagenet(128,1234,False)\n",
    "test_set64_cal = load_imagenet64(128,1234,False)\n",
    "\n",
    "model = models.mobilenet_v3_large(weights='DEFAULT').to('cuda')\n",
    "model64 = models.mobilenet_v3_large()\n",
    "model64.load_state_dict(torch.load(\"best_batch_i1081020.pth\")['model_state_dict'])\n",
    "model64.to('cuda')\n",
    "\n",
    "def get_conf_cal(data_loader, model):\n",
    "    confidences = torch.zeros(len(data_loader.dataset))\n",
    "    accuracies = torch.zeros(len(data_loader.dataset))\n",
    "\n",
    "    # load the entire validation set\n",
    "    idx = 0\n",
    "    with torch.no_grad():\n",
    "        for (img_batch, label_batch) in tqdm(data_loader):\n",
    "            img_batch, label_batch = img_batch.to('cuda'), label_batch.to('cuda')\n",
    "\n",
    "            start = idx*data_loader.batch_size\n",
    "            end = start + data_loader.batch_size\n",
    "            if end > len(data_loader.dataset):\n",
    "                end = len(data_loader.dataset)\n",
    "\n",
    "            # get the model's softmax output and class predictions, then get a mask of correct predictions\n",
    "            conf, pred = torch.max(F.softmax(model(img_batch), dim=1), 1)\n",
    "            acc = pred.eq(label_batch)\n",
    "            conf,pred,acc = conf.to('cpu'),pred.to('cpu'),acc.to('cpu')\n",
    "\n",
    "            confidences[start:end] = conf\n",
    "            accuracies[start:end] = acc\n",
    "            idx +=  1\n",
    "\n",
    "    # initialize the calibration bins\n",
    "    n_bins = 10\n",
    "    bin_boundaries = torch.linspace(0, 1, n_bins + 1)\n",
    "    bin_lowers = bin_boundaries[:-1]\n",
    "    bin_uppers = bin_boundaries[1:]\n",
    "\n",
    "    accs = [0.0]*n_bins\n",
    "    avg_confs = [0.0]*n_bins\n",
    "\n",
    "    i = 0\n",
    "    # iterate over bins\n",
    "    for bin_lower, bin_upper in zip(bin_lowers, bin_uppers):\n",
    "        # mask to determine which confidence scores go in this bin\n",
    "        in_bin = confidences.gt(bin_lower.item()) * confidences.le(bin_upper.item())\n",
    "\n",
    "        # from the mask determine what percent of the confidence scores are in this bin\n",
    "        prop_in_bin = in_bin.float().mean()\n",
    "\n",
    "        # if the bin is not empty\n",
    "        if prop_in_bin.item() > 0:\n",
    "            # calculate accuracy of the bin using the mask of correct predictions\n",
    "            accuracy_in_bin = accuracies[in_bin].float().mean()\n",
    "\n",
    "            # get the average confidence score of items in this bin\n",
    "            avg_confidence_in_bin = confidences[in_bin].mean()\n",
    "            accs[i] = accuracy_in_bin\n",
    "            avg_confs[i] = avg_confidence_in_bin.detach()\n",
    "        i+=1\n",
    "    \n",
    "    # return the accuracy of all bins and the average confidence score of the bins\n",
    "    return accs, avg_confs\n",
    "\n",
    "# accs_cal, confs_cal = get_conf_cal(test_set_cal,model)\n",
    "accs64_cal, confs64_cal = get_conf_cal(test_set64_cal,model64)"
   ]
  },
  {
   "cell_type": "code",
   "execution_count": 22,
   "metadata": {},
   "outputs": [
    {
     "data": {
      "image/png": "[encoded data removed]",
      "text/plain": [
       "<Figure size 1400x600 with 1 Axes>"
      ]
     },
     "metadata": {},
     "output_type": "display_data"
    }
   ],
   "source": [
    "from matplotlib.pyplot import figure\n",
    "\n",
    "figure(figsize=(14, 6), dpi=100)\n",
    "bars = [\"0-10%\",\"10-20%\",\"20-30%\",\"30-40%\",\"40-50%\",\"50-60%\",\"60-70%\",\"70-80%\",\"80-90%\",\"90-100%\"]\n",
    "xpos = [0,5,10,15,20,25,30,35,40,45]\n",
    "plt.bar(xpos,confs_cal,label=\"conf\",width=2)\n",
    "plt.xticks(xpos, bars)\n",
    "plt.bar(xpos,accs_cal,label=\"acc\",width=2,alpha=0.5)\n",
    "plt.xticks(xpos, bars)\n",
    "plt.legend()\n",
    "plt.title('Mobilenet V3 Large Confidence Scores (Input 224x224)')\n",
    "plt.xlabel(\"Confidence Intervals\")\n",
    "plt.ylabel(\"Avg. Confidence and Accuracy Value per Bin\")\n",
    "plt.grid()"
   ]
  },
  {
   "cell_type": "code",
   "execution_count": 24,
   "metadata": {},
   "outputs": [
    {
     "data": {
      "image/png": "[encoded data removed]",
      "text/plain": [
       "<Figure size 1400x600 with 1 Axes>"
      ]
     },
     "metadata": {},
     "output_type": "display_data"
    }
   ],
   "source": [
    "figure(figsize=(14, 6), dpi=100)\n",
    "bars = [\"0-10%\",\"10-20%\",\"20-30%\",\"30-40%\",\"40-50%\",\"50-60%\",\"60-70%\",\"70-80%\",\"80-90%\",\"90-100%\"]\n",
    "xpos = [0,5,10,15,20,25,30,35,40,45]\n",
    "plt.bar(xpos,confs64_cal,label=\"conf\",width=2)\n",
    "plt.xticks(xpos, bars)\n",
    "plt.bar(xpos,accs64_cal,label=\"acc\",width=2,alpha=0.5)\n",
    "plt.xticks(xpos, bars)\n",
    "plt.legend()\n",
    "plt.title('Mobilenet V3 Large Confidence Scores (Input 64x64)')\n",
    "plt.xlabel(\"Confidence Intervals\")\n",
    "plt.ylabel(\"Avg. Confidence and Accuracy Value per Bin\")\n",
    "plt.grid()"
   ]
  },
  {
   "cell_type": "code",
   "execution_count": 33,
   "metadata": {},
   "outputs": [
    {
     "name": "stdout",
     "output_type": "stream",
     "text": [
      "750000\n",
      "gaussian_noise\n"
     ]
    },
    {
     "name": "stderr",
     "output_type": "stream",
     "text": [
      "100%|██████████| 391/391 [00:27<00:00, 14.27it/s]\n"
     ]
    },
    {
     "name": "stdout",
     "output_type": "stream",
     "text": [
      "impulse_noise\n"
     ]
    },
    {
     "name": "stderr",
     "output_type": "stream",
     "text": [
      "100%|██████████| 391/391 [00:27<00:00, 14.24it/s]\n"
     ]
    },
    {
     "name": "stdout",
     "output_type": "stream",
     "text": [
      "shot_noise\n"
     ]
    },
    {
     "name": "stderr",
     "output_type": "stream",
     "text": [
      "100%|██████████| 391/391 [00:26<00:00, 14.50it/s]\n"
     ]
    },
    {
     "name": "stdout",
     "output_type": "stream",
     "text": [
      "defocus_blur\n"
     ]
    },
    {
     "name": "stderr",
     "output_type": "stream",
     "text": [
      "100%|██████████| 391/391 [00:24<00:00, 15.83it/s]\n"
     ]
    },
    {
     "name": "stdout",
     "output_type": "stream",
     "text": [
      "glass_blur\n"
     ]
    },
    {
     "name": "stderr",
     "output_type": "stream",
     "text": [
      "100%|██████████| 391/391 [00:25<00:00, 15.61it/s]\n"
     ]
    },
    {
     "name": "stdout",
     "output_type": "stream",
     "text": [
      "motion_blur\n"
     ]
    },
    {
     "name": "stderr",
     "output_type": "stream",
     "text": [
      "100%|██████████| 391/391 [00:25<00:00, 15.58it/s]\n"
     ]
    },
    {
     "name": "stdout",
     "output_type": "stream",
     "text": [
      "zoom_blur\n"
     ]
    },
    {
     "name": "stderr",
     "output_type": "stream",
     "text": [
      "100%|██████████| 391/391 [00:24<00:00, 15.83it/s]\n"
     ]
    },
    {
     "name": "stdout",
     "output_type": "stream",
     "text": [
      "snow\n"
     ]
    },
    {
     "name": "stderr",
     "output_type": "stream",
     "text": [
      "100%|██████████| 391/391 [00:25<00:00, 15.19it/s]\n"
     ]
    },
    {
     "name": "stdout",
     "output_type": "stream",
     "text": [
      "frost\n"
     ]
    },
    {
     "name": "stderr",
     "output_type": "stream",
     "text": [
      "100%|██████████| 391/391 [00:26<00:00, 14.61it/s]\n"
     ]
    },
    {
     "name": "stdout",
     "output_type": "stream",
     "text": [
      "fog\n"
     ]
    },
    {
     "name": "stderr",
     "output_type": "stream",
     "text": [
      "100%|██████████| 391/391 [00:27<00:00, 14.26it/s]\n"
     ]
    },
    {
     "name": "stdout",
     "output_type": "stream",
     "text": [
      "brightness\n"
     ]
    },
    {
     "name": "stderr",
     "output_type": "stream",
     "text": [
      "100%|██████████| 391/391 [00:27<00:00, 14.12it/s]\n"
     ]
    },
    {
     "name": "stdout",
     "output_type": "stream",
     "text": [
      "contrast\n"
     ]
    },
    {
     "name": "stderr",
     "output_type": "stream",
     "text": [
      "100%|██████████| 391/391 [00:27<00:00, 14.40it/s]\n"
     ]
    },
    {
     "name": "stdout",
     "output_type": "stream",
     "text": [
      "elastic_transform\n"
     ]
    },
    {
     "name": "stderr",
     "output_type": "stream",
     "text": [
      "100%|██████████| 391/391 [00:27<00:00, 14.08it/s]\n"
     ]
    },
    {
     "name": "stdout",
     "output_type": "stream",
     "text": [
      "jpeg_compression\n"
     ]
    },
    {
     "name": "stderr",
     "output_type": "stream",
     "text": [
      "100%|██████████| 391/391 [00:26<00:00, 14.49it/s]\n"
     ]
    },
    {
     "name": "stdout",
     "output_type": "stream",
     "text": [
      "pixelate\n"
     ]
    },
    {
     "name": "stderr",
     "output_type": "stream",
     "text": [
      "100%|██████████| 391/391 [00:28<00:00, 13.83it/s]\n"
     ]
    },
    {
     "name": "stdout",
     "output_type": "stream",
     "text": [
      "750000\n",
      "gaussian_noise\n"
     ]
    },
    {
     "name": "stderr",
     "output_type": "stream",
     "text": [
      "100%|██████████| 391/391 [00:04<00:00, 95.44it/s] \n"
     ]
    },
    {
     "name": "stdout",
     "output_type": "stream",
     "text": [
      "impulse_noise\n"
     ]
    },
    {
     "name": "stderr",
     "output_type": "stream",
     "text": [
      "100%|██████████| 391/391 [00:05<00:00, 73.43it/s]\n"
     ]
    },
    {
     "name": "stdout",
     "output_type": "stream",
     "text": [
      "shot_noise\n"
     ]
    },
    {
     "name": "stderr",
     "output_type": "stream",
     "text": [
      "100%|██████████| 391/391 [00:05<00:00, 73.87it/s]\n"
     ]
    },
    {
     "name": "stdout",
     "output_type": "stream",
     "text": [
      "defocus_blur\n"
     ]
    },
    {
     "name": "stderr",
     "output_type": "stream",
     "text": [
      "100%|██████████| 391/391 [00:05<00:00, 75.70it/s]\n"
     ]
    },
    {
     "name": "stdout",
     "output_type": "stream",
     "text": [
      "glass_blur\n"
     ]
    },
    {
     "name": "stderr",
     "output_type": "stream",
     "text": [
      "100%|██████████| 391/391 [00:05<00:00, 73.28it/s]\n"
     ]
    },
    {
     "name": "stdout",
     "output_type": "stream",
     "text": [
      "motion_blur\n"
     ]
    },
    {
     "name": "stderr",
     "output_type": "stream",
     "text": [
      "100%|██████████| 391/391 [00:05<00:00, 74.59it/s]\n"
     ]
    },
    {
     "name": "stdout",
     "output_type": "stream",
     "text": [
      "zoom_blur\n"
     ]
    },
    {
     "name": "stderr",
     "output_type": "stream",
     "text": [
      "100%|██████████| 391/391 [00:05<00:00, 73.99it/s]\n"
     ]
    },
    {
     "name": "stdout",
     "output_type": "stream",
     "text": [
      "snow\n"
     ]
    },
    {
     "name": "stderr",
     "output_type": "stream",
     "text": [
      "100%|██████████| 391/391 [00:05<00:00, 73.49it/s]\n"
     ]
    },
    {
     "name": "stdout",
     "output_type": "stream",
     "text": [
      "frost\n"
     ]
    },
    {
     "name": "stderr",
     "output_type": "stream",
     "text": [
      "100%|██████████| 391/391 [00:05<00:00, 73.84it/s]\n"
     ]
    },
    {
     "name": "stdout",
     "output_type": "stream",
     "text": [
      "fog\n"
     ]
    },
    {
     "name": "stderr",
     "output_type": "stream",
     "text": [
      "100%|██████████| 391/391 [00:05<00:00, 74.57it/s]\n"
     ]
    },
    {
     "name": "stdout",
     "output_type": "stream",
     "text": [
      "brightness\n"
     ]
    },
    {
     "name": "stderr",
     "output_type": "stream",
     "text": [
      "100%|██████████| 391/391 [00:05<00:00, 74.23it/s]\n"
     ]
    },
    {
     "name": "stdout",
     "output_type": "stream",
     "text": [
      "contrast\n"
     ]
    },
    {
     "name": "stderr",
     "output_type": "stream",
     "text": [
      "100%|██████████| 391/391 [00:05<00:00, 74.80it/s]\n"
     ]
    },
    {
     "name": "stdout",
     "output_type": "stream",
     "text": [
      "elastic_transform\n"
     ]
    },
    {
     "name": "stderr",
     "output_type": "stream",
     "text": [
      "100%|██████████| 391/391 [00:05<00:00, 74.99it/s]\n"
     ]
    },
    {
     "name": "stdout",
     "output_type": "stream",
     "text": [
      "jpeg_compression\n"
     ]
    },
    {
     "name": "stderr",
     "output_type": "stream",
     "text": [
      "100%|██████████| 391/391 [00:05<00:00, 75.55it/s]\n"
     ]
    },
    {
     "name": "stdout",
     "output_type": "stream",
     "text": [
      "pixelate\n"
     ]
    },
    {
     "name": "stderr",
     "output_type": "stream",
     "text": [
      "100%|██████████| 391/391 [00:05<00:00, 73.36it/s]\n"
     ]
    }
   ],
   "source": [
    "corruptions = ['gaussian_noise','impulse_noise','shot_noise','defocus_blur','glass_blur','motion_blur','zoom_blur','snow','frost','fog','brightness','contrast','elastic_transform','jpeg_compression','pixelate']\n",
    "\n",
    "model = models.mobilenet_v3_large(weights='DEFAULT').to('cuda')\n",
    "model64 = models.mobilenet_v3_large()\n",
    "model64.load_state_dict(torch.load(\"best_batch_i1081020.pth\")['model_state_dict'])\n",
    "model64.to('cuda')\n",
    "\n",
    "def get_conf_cal_corr(data_loaders, model):\n",
    "    confidences = torch.zeros(len(data_loaders[0].dataset)*len(data_loaders))\n",
    "    accuracies = torch.zeros(len(data_loaders[0].dataset)*len(data_loaders))\n",
    "    print(len(confidences))\n",
    "\n",
    "    # load the entire validation set\n",
    "    with torch.no_grad():\n",
    "        for dl_idx, data_loader in enumerate(data_loaders):\n",
    "            print(corruptions[dl_idx])\n",
    "            idx = 0\n",
    "            for (img_batch, label_batch) in tqdm(data_loader):\n",
    "                img_batch, label_batch = img_batch.to('cuda'), label_batch.to('cuda')\n",
    "\n",
    "                start = dl_idx*len(data_loader.dataset) + idx*data_loader.batch_size\n",
    "                end = start + len(label_batch)\n",
    "\n",
    "                # get the model's softmax output and class predictions, then get a mask of correct predictions\n",
    "                conf, pred = torch.max(F.softmax(model(img_batch), dim=1), 1)\n",
    "                acc = pred.eq(label_batch)\n",
    "                conf,pred,acc = conf.to('cpu'),pred.to('cpu'),acc.to('cpu')\n",
    "\n",
    "                idx +=  1\n",
    "\n",
    "    # initialize the calibration bins\n",
    "    n_bins = 10\n",
    "    bin_boundaries = torch.linspace(0, 1, n_bins + 1)\n",
    "    bin_lowers = bin_boundaries[:-1]\n",
    "    bin_uppers = bin_boundaries[1:]\n",
    "\n",
    "    accs = [0.0]*n_bins\n",
    "    avg_confs = [0.0]*n_bins\n",
    "\n",
    "    i = 0\n",
    "    # iterate over bins\n",
    "    for bin_lower, bin_upper in zip(bin_lowers, bin_uppers):\n",
    "        # mask to determine which confidence scores go in this bin\n",
    "        in_bin = confidences.gt(bin_lower.item()) * confidences.le(bin_upper.item())\n",
    "\n",
    "        # from the mask determine what percent of the confidence scores are in this bin\n",
    "        prop_in_bin = in_bin.float().mean()\n",
    "\n",
    "        # if the bin is not empty\n",
    "        if prop_in_bin.item() > 0:\n",
    "            # calculate accuracy of the bin using the mask of correct predictions\n",
    "            accuracy_in_bin = accuracies[in_bin].float().mean()\n",
    "\n",
    "            # get the average confidence score of items in this bin\n",
    "            avg_confidence_in_bin = confidences[in_bin].mean()\n",
    "            accs[i] = accuracy_in_bin\n",
    "            avg_confs[i] = avg_confidence_in_bin.detach()\n",
    "        i+=1\n",
    "    \n",
    "    # return the accuracy of all bins and the average confidence score of the bins\n",
    "    return accs, avg_confs\n",
    "\n",
    "corrs = []\n",
    "corrs64 = []\n",
    "for corr in corruptions:\n",
    "    corrs.append(load_imagenetc_val(128,1234,corr))\n",
    "    corrs64.append(load_imagenetc64_val(128,1234,corr))\n",
    "\n",
    "accs_cal, confs_cal = get_conf_cal_corr(corrs,model)\n",
    "accs64_cal, confs64_cal = get_conf_cal_corr(corrs64,model64)"
   ]
  },
  {
   "cell_type": "code",
   "execution_count": 34,
   "metadata": {},
   "outputs": [
    {
     "data": {
      "image/png": "[encoded data removed]",
      "text/plain": [
       "<Figure size 1400x600 with 1 Axes>"
      ]
     },
     "metadata": {},
     "output_type": "display_data"
    }
   ],
   "source": [
    "figure(figsize=(14, 6), dpi=100)\n",
    "bars = [\"0-10%\",\"10-20%\",\"20-30%\",\"30-40%\",\"40-50%\",\"50-60%\",\"60-70%\",\"70-80%\",\"80-90%\",\"90-100%\"]\n",
    "xpos = [0,5,10,15,20,25,30,35,40,45]\n",
    "plt.bar(xpos,confs_cal,label=\"conf\",width=2)\n",
    "plt.xticks(xpos, bars)\n",
    "plt.bar(xpos,accs_cal,label=\"acc\",width=2,alpha=0.5)\n",
    "plt.xticks(xpos, bars)\n",
    "plt.legend()\n",
    "plt.title('Mobilenet V3 Large Confidence Scores (Input 224x224)')\n",
    "plt.xlabel(\"Confidence Intervals\")\n",
    "plt.ylabel(\"Avg. Confidence and Accuracy Value per Bin\")\n",
    "plt.grid()"
   ]
  },
  {
   "cell_type": "code",
   "execution_count": 35,
   "metadata": {},
   "outputs": [
    {
     "data": {
      "image/png": "[encoded data removed]",
      "text/plain": [
       "<Figure size 1400x600 with 1 Axes>"
      ]
     },
     "metadata": {},
     "output_type": "display_data"
    }
   ],
   "source": [
    "figure(figsize=(14, 6), dpi=100)\n",
    "bars = [\"0-10%\",\"10-20%\",\"20-30%\",\"30-40%\",\"40-50%\",\"50-60%\",\"60-70%\",\"70-80%\",\"80-90%\",\"90-100%\"]\n",
    "xpos = [0,5,10,15,20,25,30,35,40,45]\n",
    "plt.bar(xpos,confs64_cal,label=\"conf\",width=2)\n",
    "plt.xticks(xpos, bars)\n",
    "plt.bar(xpos,accs64_cal,label=\"acc\",width=2,alpha=0.5)\n",
    "plt.xticks(xpos, bars)\n",
    "plt.legend()\n",
    "plt.title('Mobilenet V3 Large Confidence Scores (Input 64x64)')\n",
    "plt.xlabel(\"Confidence Intervals\")\n",
    "plt.ylabel(\"Avg. Confidence and Accuracy Value per Bin\")\n",
    "plt.grid()"
   ]
  },
  {
   "cell_type": "markdown",
   "metadata": {},
   "source": [
    "Quantization Stuff"
   ]
  },
  {
   "cell_type": "code",
   "execution_count": 43,
   "metadata": {},
   "outputs": [
    {
     "name": "stderr",
     "output_type": "stream",
     "text": [
      "/home/gc28692/anaconda3/envs/cl/lib/python3.9/site-packages/torch/ao/quantization/utils.py:287: UserWarning: must run observer before calling calculate_qparams. Returning default values.\n",
      "  warnings.warn(\n"
     ]
    },
    {
     "data": {
      "text/plain": [
       "42"
      ]
     },
     "execution_count": 43,
     "metadata": {},
     "output_type": "execute_result"
    }
   ],
   "source": [
    "model = models.quantization.mobilenet_v3_large()\n",
    "model.fuse_model(is_qat=True)\n",
    "model.qconfig = torch.ao.quantization.get_default_qat_qconfig('qnn_pack')\n",
    "torch.ao.quantization.prepare_qat(model, inplace=True)\n",
    "\n",
    "checkpoint = torch.load('classification/model_49.pth',map_location=\"cpu\")\n",
    "model.load_state_dict(checkpoint[\"model\"])\n",
    "\n",
    "\n",
    "torch.quantization.convert(model, inplace=True)\n",
    "# print(model)\n",
    "model.eval()\n",
    "\n",
    "model.to('cpu')\n",
    "d,t = next(iter(val))\n",
    "pred=model(d).argmax(dim=1, keepdim=True)\n",
    "pred.eq(t.view_as(pred)).sum().item()"
   ]
  },
  {
   "cell_type": "markdown",
   "metadata": {},
   "source": [
    "Online Accuracy test"
   ]
  },
  {
   "cell_type": "code",
   "execution_count": 56,
   "metadata": {},
   "outputs": [
    {
     "name": "stderr",
     "output_type": "stream",
     "text": [
      "100%|██████████| 391/391 [00:20<00:00, 18.97it/s]"
     ]
    },
    {
     "name": "stdout",
     "output_type": "stream",
     "text": [
      "64 model (0.26852, 3.7743131181468135, 0.50334)\n"
     ]
    },
    {
     "name": "stderr",
     "output_type": "stream",
     "text": [
      "\n"
     ]
    }
   ],
   "source": [
    "model = models.mobilenet_v2(weights='DEFAULT').to('cuda')\n",
    "model64 = models.mobilenet_v2()\n",
    "model64.load_state_dict(torch.load('best_models/best_batch_i198187.pth')['model_state_dict'])\n",
    "model64.to('cuda')\n",
    "\n",
    "test_loader = load_imagenet(128,123,False)\n",
    "test_loader64 = load_imagenet64(128,123,False)\n",
    "\n",
    "# print(\"OG model\", validate(model,test_loader,'cuda'))\n",
    "print(\"64 model\", validate(model64,test_loader64,'cuda'))\n"
   ]
  },
  {
   "cell_type": "code",
   "execution_count": null,
   "metadata": {},
   "outputs": [],
   "source": [
    "model.eval()\n",
    "val_loss = 0\n",
    "correct = 0\n",
    "correct5 = 0\n",
    "\n",
    "with torch.no_grad():\n",
    "    i=0\n",
    "    for data, target in tqdm(val_loader):\n",
    "        data, target = data.to(device), target.to(device)\n",
    "\n",
    "        # Forward\n",
    "        output = model(data)\n",
    "        pred = output.argmax(dim=1, keepdim=True)\n",
    "        val_loss += nn.CrossEntropyLoss()(output, target).item()  # sum up batch loss\n",
    "        correct += pred.eq(target.view_as(pred)).sum().item()\n",
    "\n",
    "        batch_size = target.size(0)\n",
    "\n",
    "        _, pred_top5 = torch.topk(output, 5, 1, True, True)\n",
    "        pred_top5 = pred_top5.t()\n",
    "        correct_top5 = pred_top5.eq(target.view(1, -1).expand_as(pred_top5))\n",
    "\n",
    "        correct5 += correct_top5[:5].reshape(-1).float().sum(0).item()\n",
    "        i+=1\n",
    "        \n",
    "    # Compute loss and accuracy\n",
    "    val_loss /= len(val_loader) # cross entropy returns batch mean\n",
    "    val_acc = correct / len(val_loader.dataset)\n",
    "    val_acc_top5 = correct5 / len(val_loader.dataset)"
   ]
  }
 ],
 "metadata": {
  "kernelspec": {
   "display_name": "Python 3.9.13 ('cl')",
   "language": "python",
   "name": "python3"
  },
  "language_info": {
   "codemirror_mode": {
    "name": "ipython",
    "version": 3
   },
   "file_extension": ".py",
   "mimetype": "text/x-python",
   "name": "python",
   "nbconvert_exporter": "python",
   "pygments_lexer": "ipython3",
   "version": "3.9.13"
  },
  "orig_nbformat": 4,
  "vscode": {
   "interpreter": {
    "hash": "71152ab9c07ce901c8cf95cbd74fadea2c31d5b816d92473f31e695d403a1560"
   }
  }
 },
 "nbformat": 4,
 "nbformat_minor": 2
}
