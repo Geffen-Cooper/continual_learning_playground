{
 "cells": [
  {
   "attachments": {},
   "cell_type": "markdown",
   "metadata": {},
   "source": [
    "Import Libraries"
   ]
  },
  {
   "cell_type": "code",
   "execution_count": 1,
   "metadata": {},
   "outputs": [],
   "source": [
    "import argparse\n",
    "import torch\n",
    "import torch.nn as nn\n",
    "import torch.nn.functional as F\n",
    "import matplotlib.pyplot as plt\n",
    "import numpy as np\n",
    "from torch.utils.tensorboard import SummaryWriter\n",
    "import os\n",
    "import copy\n",
    "\n",
    "# our modules\n",
    "from train import *\n",
    "from models import *\n",
    "from datasets import *"
   ]
  },
  {
   "attachments": {},
   "cell_type": "markdown",
   "metadata": {},
   "source": [
    "Load Data"
   ]
  },
  {
   "cell_type": "code",
   "execution_count": 2,
   "metadata": {},
   "outputs": [],
   "source": [
    "class args:\n",
    "    def __init__(self):\n",
    "        self.dataset=\"mnist\"\n",
    "        self.batch_size=64\n",
    "        self.test_batch_size=1000\n",
    "        self.device='cpu'\n",
    "        self.permuted=True\n",
    "        self.model=\"digits\"\n",
    "args = args()\n",
    "train_loader, val_loader, test_loader, perm_train_loader, perm_val_loader, perm_test_loader = load_dataset(args)"
   ]
  },
  {
   "attachments": {},
   "cell_type": "markdown",
   "metadata": {},
   "source": [
    "train on permuted mnist"
   ]
  },
  {
   "cell_type": "code",
   "execution_count": 3,
   "metadata": {},
   "outputs": [
    {
     "name": "stdout",
     "output_type": "stream",
     "text": [
      "cpu\n",
      "Train Epoch: 0 [0/50000 (0%)] train loss: 2.316, val loss: 2.398, val acc: 0.120 (best val acc: 0.000)\n",
      "Train Epoch: 0 [12800/50000 (26%)] train loss: 0.218, val loss: 0.225, val acc: 0.935 (best val acc: 0.000)\n",
      "Train Epoch: 0 [25600/50000 (51%)] train loss: 0.221, val loss: 0.207, val acc: 0.937 (best val acc: 0.000)\n",
      "Train Epoch: 0 [38400/50000 (77%)] train loss: 0.123, val loss: 0.162, val acc: 0.948 (best val acc: 0.000)\n",
      "In epoch 0, train loss: 0.200, val loss: 0.130, val acc: 0.961 (best val acc: 0.961))\n",
      "Train Epoch: 1 [0/50000 (0%)] train loss: 0.029, val loss: 0.128, val acc: 0.962 (best val acc: 0.961)\n",
      "Train Epoch: 1 [12800/50000 (26%)] train loss: 0.021, val loss: 0.113, val acc: 0.968 (best val acc: 0.961)\n",
      "Train Epoch: 1 [25600/50000 (51%)] train loss: 0.035, val loss: 0.107, val acc: 0.968 (best val acc: 0.961)\n",
      "Train Epoch: 1 [38400/50000 (77%)] train loss: 0.143, val loss: 0.117, val acc: 0.965 (best val acc: 0.961)\n",
      "In epoch 1, train loss: 0.008, val loss: 0.097, val acc: 0.970 (best val acc: 0.970))\n"
     ]
    }
   ],
   "source": [
    "train_simple(perm_train_loader,perm_val_loader,args)"
   ]
  },
  {
   "attachments": {},
   "cell_type": "markdown",
   "metadata": {},
   "source": [
    "Load normal mnist"
   ]
  },
  {
   "cell_type": "code",
   "execution_count": 3,
   "metadata": {},
   "outputs": [
    {
     "data": {
      "text/plain": [
       "DigitClassifier(\n",
       "  (conv1): Conv2d(1, 32, kernel_size=(3, 3), stride=(1, 1))\n",
       "  (conv2): Conv2d(32, 64, kernel_size=(3, 3), stride=(1, 1))\n",
       "  (dropout1): Dropout(p=0.25, inplace=False)\n",
       "  (dropout2): Dropout(p=0.5, inplace=False)\n",
       "  (fc1): Linear(in_features=9216, out_features=128, bias=True)\n",
       "  (fc2): Linear(in_features=128, out_features=10, bias=True)\n",
       ")"
      ]
     },
     "execution_count": 3,
     "metadata": {},
     "output_type": "execute_result"
    }
   ],
   "source": [
    "model = DigitClassifier()\n",
    "checkpoint = torch.load(\"mnist_normal.pth\")\n",
    "state_dict = checkpoint['model_state_dict']\n",
    "model.load_state_dict(state_dict)\n",
    "model.eval()"
   ]
  },
  {
   "attachments": {},
   "cell_type": "markdown",
   "metadata": {},
   "source": [
    "train on permuted after normal"
   ]
  },
  {
   "cell_type": "code",
   "execution_count": 4,
   "metadata": {},
   "outputs": [
    {
     "name": "stdout",
     "output_type": "stream",
     "text": [
      "cpu\n",
      "Train Epoch: 0 [0/50000 (0%)] train loss: 4.032, val loss: 2.240, val acc: 0.182 (best val acc: 0.000)\n",
      "Train Epoch: 0 [19200/50000 (38%)] train loss: 0.075, val loss: 0.202, val acc: 0.938 (best val acc: 0.000)\n",
      "Train Epoch: 0 [38400/50000 (77%)] train loss: 0.103, val loss: 0.159, val acc: 0.950 (best val acc: 0.000)\n",
      "In epoch 0, train loss: 0.198, val loss: 0.143, val acc: 0.957 (best val acc: 0.957))\n",
      "Train Epoch: 1 [0/50000 (0%)] train loss: 0.108, val loss: 0.132, val acc: 0.959 (best val acc: 0.957)\n",
      "Train Epoch: 1 [19200/50000 (38%)] train loss: 0.179, val loss: 0.114, val acc: 0.965 (best val acc: 0.957)\n",
      "Train Epoch: 1 [38400/50000 (77%)] train loss: 0.137, val loss: 0.099, val acc: 0.970 (best val acc: 0.957)\n",
      "In epoch 1, train loss: 0.112, val loss: 0.109, val acc: 0.966 (best val acc: 0.966))\n"
     ]
    }
   ],
   "source": [
    "train_simple(perm_train_loader,perm_val_loader,args,model)"
   ]
  },
  {
   "attachments": {},
   "cell_type": "markdown",
   "metadata": {},
   "source": [
    "check forgetting"
   ]
  },
  {
   "cell_type": "code",
   "execution_count": 6,
   "metadata": {},
   "outputs": [
    {
     "data": {
      "text/plain": [
       "(0.9661, 0.10899652911126613)"
      ]
     },
     "execution_count": 6,
     "metadata": {},
     "output_type": "execute_result"
    }
   ],
   "source": [
    "model = DigitClassifier()\n",
    "checkpoint = torch.load(\"mnist_normal_perm.pth\")\n",
    "state_dict = checkpoint['model_state_dict']\n",
    "model.load_state_dict(state_dict)\n",
    "model.eval()\n",
    "validate(model,perm_val_loader,args)"
   ]
  },
  {
   "cell_type": "code",
   "execution_count": null,
   "metadata": {},
   "outputs": [],
   "source": [
    "def perturb_params(model,amnt):\n",
    "    with torch.no_grad():\n",
    "        for idx,p in enumerate(model.parameters()):\n",
    "            pert = torch.rand(p.size())\n",
    "            p += (pert/torch.norm(pert)*amnt)\n"
   ]
  },
  {
   "cell_type": "code",
   "execution_count": null,
   "metadata": {},
   "outputs": [],
   "source": [
    "losses = []\n",
    "amnts = []\n",
    "amnt = 0\n",
    "for i in range(20):\n",
    "    m = copy.deepcopy(model)\n",
    "    perturb_params(m,amnt)\n",
    "\n",
    "    losses.append(validate(m,val_loader,args))\n",
    "    amnts.append(amnt)\n",
    "    amnt += 0.025"
   ]
  },
  {
   "cell_type": "code",
   "execution_count": null,
   "metadata": {},
   "outputs": [],
   "source": [
    "print(losses)"
   ]
  },
  {
   "cell_type": "code",
   "execution_count": null,
   "metadata": {},
   "outputs": [],
   "source": [
    "ls = [l[1] for l in losses]\n",
    "accs = [a[0] for a in losses]\n",
    "\n",
    "ax1 = plt.subplot()\n",
    "l1, = ax1.plot(amnts,ls)\n",
    "ax2 = ax1.twinx()\n",
    "l2, = ax2.plot(amnts,accs,color=\"orange\")\n",
    "# plt.scatter(amnts,ls)\n",
    "# plt.scatter(amnts,accs)"
   ]
  }
 ],
 "metadata": {
  "kernelspec": {
   "display_name": "ml",
   "language": "python",
   "name": "python3"
  },
  "language_info": {
   "codemirror_mode": {
    "name": "ipython",
    "version": 3
   },
   "file_extension": ".py",
   "mimetype": "text/x-python",
   "name": "python",
   "nbconvert_exporter": "python",
   "pygments_lexer": "ipython3",
   "version": "3.9.13"
  },
  "orig_nbformat": 4,
  "vscode": {
   "interpreter": {
    "hash": "9fa6c184d4492d50468a0f69e5c943b88d575fa24785932f295e54eb7d1c8cca"
   }
  }
 },
 "nbformat": 4,
 "nbformat_minor": 2
}
