{
 "cells": [
  {
   "attachments": {},
   "cell_type": "markdown",
   "metadata": {},
   "source": [
    "Import Libraries"
   ]
  },
  {
   "cell_type": "code",
   "execution_count": 1,
   "metadata": {},
   "outputs": [
    {
     "name": "stdout",
     "output_type": "stream",
     "text": [
      "env: CUBLAS_WORKSPACE_CONFIG=:16:8\n"
     ]
    }
   ],
   "source": [
    "import argparse\n",
    "import torch\n",
    "import torch.nn as nn\n",
    "import torch.nn.functional as F\n",
    "import matplotlib.pyplot as plt\n",
    "import numpy as np\n",
    "from torch.utils.tensorboard import SummaryWriter\n",
    "import os\n",
    "import copy\n",
    "\n",
    "# our modules\n",
    "from train import *\n",
    "from models import *\n",
    "from datasets import *\n",
    "\n",
    "seed = 42\n",
    "torch.manual_seed(seed)\n",
    "import random\n",
    "random.seed(seed)\n",
    "import numpy as np\n",
    "np.random.seed(seed)\n",
    "torch.backends.cudnn.deterministic = True\n",
    "%env CUBLAS_WORKSPACE_CONFIG=:16:8"
   ]
  },
  {
   "attachments": {},
   "cell_type": "markdown",
   "metadata": {},
   "source": [
    "Training Parameters"
   ]
  },
  {
   "cell_type": "code",
   "execution_count": 2,
   "metadata": {},
   "outputs": [],
   "source": [
    "class args:\n",
    "    def __init__(self):\n",
    "        self.dataset=\"mnist\"\n",
    "        self.batch_size=64\n",
    "        self.test_batch_size=1000\n",
    "        self.device='cuda'\n",
    "        self.permuted=False\n",
    "        self.model=\"digits\"\n",
    "        self.gamma=0.7\n",
    "        self.log_name=\"mnist_normal\"\n",
    "        self.epochs=2\n",
    "        self.lr=1\n",
    "        self.log_interval=100\n",
    "    \n",
    "args = args()\n"
   ]
  },
  {
   "cell_type": "markdown",
   "metadata": {},
   "source": [
    "Load Data"
   ]
  },
  {
   "cell_type": "code",
   "execution_count": 3,
   "metadata": {},
   "outputs": [],
   "source": [
    "# first load the noraml mnist\n",
    "perm_mnist_5 = [(load_mnist(args,42))]\n",
    "\n",
    "# then append the 4 mnist permutations\n",
    "args.permuted = True\n",
    "for i in range(4):\n",
    "    perm_mnist_5.append((load_mnist(args,i)))"
   ]
  },
  {
   "cell_type": "code",
   "execution_count": 6,
   "metadata": {},
   "outputs": [
    {
     "name": "stdout",
     "output_type": "stream",
     "text": [
      "=====================\n",
      "train normal mnist\n",
      "load model from scratch\n",
      "cuda\n",
      "Train Epoch: 0 [0/50000 (0%)] train loss: 2.305, val loss: 2.298, val acc: 0.108 (best val acc: 0.000)\n",
      "Train Epoch: 0 [6400/50000 (13%)] train loss: 0.361, val loss: 0.351, val acc: 0.885 (best val acc: 0.000)\n",
      "Train Epoch: 0 [12800/50000 (26%)] train loss: 0.234, val loss: 0.185, val acc: 0.939 (best val acc: 0.000)\n",
      "Train Epoch: 0 [19200/50000 (38%)] train loss: 0.136, val loss: 0.145, val acc: 0.955 (best val acc: 0.000)\n",
      "Train Epoch: 0 [25600/50000 (51%)] train loss: 0.039, val loss: 0.117, val acc: 0.964 (best val acc: 0.000)\n",
      "Train Epoch: 0 [32000/50000 (64%)] train loss: 0.060, val loss: 0.083, val acc: 0.976 (best val acc: 0.000)\n",
      "Train Epoch: 0 [38400/50000 (77%)] train loss: 0.099, val loss: 0.074, val acc: 0.978 (best val acc: 0.000)\n",
      "Train Epoch: 0 [44800/50000 (90%)] train loss: 0.058, val loss: 0.075, val acc: 0.978 (best val acc: 0.000)\n",
      "In epoch 0, train loss: 0.134, val loss: 0.082, val acc: 0.975 (best val acc: 0.975))\n",
      "Train Epoch: 1 [0/50000 (0%)] train loss: 0.014, val loss: 0.084, val acc: 0.976 (best val acc: 0.975)\n",
      "Train Epoch: 1 [6400/50000 (13%)] train loss: 0.040, val loss: 0.059, val acc: 0.982 (best val acc: 0.975)\n",
      "Train Epoch: 1 [12800/50000 (26%)] train loss: 0.029, val loss: 0.068, val acc: 0.979 (best val acc: 0.975)\n",
      "Train Epoch: 1 [19200/50000 (38%)] train loss: 0.019, val loss: 0.060, val acc: 0.983 (best val acc: 0.975)\n",
      "Train Epoch: 1 [25600/50000 (51%)] train loss: 0.010, val loss: 0.065, val acc: 0.980 (best val acc: 0.975)\n",
      "Train Epoch: 1 [32000/50000 (64%)] train loss: 0.103, val loss: 0.068, val acc: 0.980 (best val acc: 0.975)\n",
      "Train Epoch: 1 [38400/50000 (77%)] train loss: 0.019, val loss: 0.059, val acc: 0.983 (best val acc: 0.975)\n",
      "Train Epoch: 1 [44800/50000 (90%)] train loss: 0.006, val loss: 0.059, val acc: 0.982 (best val acc: 0.975)\n",
      "In epoch 1, train loss: 0.009, val loss: 0.054, val acc: 0.984 (best val acc: 0.984))\n",
      "=====================\n",
      "train perm mnist  1\n",
      "cuda\n",
      "Train Epoch: 0 [0/50000 (0%)] train loss: 3.685, val loss: 0.059, val acc: 0.982 (best val acc: 0.000)\n",
      "Train Epoch: 0 [0/50000 (0%)] train loss: 3.685, val loss: 2.676, val acc: 0.114 (best val acc: 0.000)\n",
      "Train Epoch: 0 [6400/50000 (13%)] train loss: 0.348, val loss: 0.242, val acc: 0.922 (best val acc: 0.000)\n",
      "Train Epoch: 0 [6400/50000 (13%)] train loss: 0.348, val loss: 0.375, val acc: 0.887 (best val acc: 0.000)\n",
      "Train Epoch: 0 [12800/50000 (26%)] train loss: 0.316, val loss: 0.271, val acc: 0.914 (best val acc: 0.000)\n",
      "Train Epoch: 0 [12800/50000 (26%)] train loss: 0.316, val loss: 0.273, val acc: 0.915 (best val acc: 0.000)\n",
      "Train Epoch: 0 [19200/50000 (38%)] train loss: 0.371, val loss: 0.364, val acc: 0.883 (best val acc: 0.000)\n",
      "Train Epoch: 0 [19200/50000 (38%)] train loss: 0.371, val loss: 0.227, val acc: 0.932 (best val acc: 0.000)\n",
      "Train Epoch: 0 [25600/50000 (51%)] train loss: 0.331, val loss: 0.434, val acc: 0.855 (best val acc: 0.000)\n",
      "Train Epoch: 0 [25600/50000 (51%)] train loss: 0.331, val loss: 0.207, val acc: 0.936 (best val acc: 0.000)\n",
      "Train Epoch: 0 [32000/50000 (64%)] train loss: 0.196, val loss: 0.427, val acc: 0.855 (best val acc: 0.000)\n",
      "Train Epoch: 0 [32000/50000 (64%)] train loss: 0.196, val loss: 0.191, val acc: 0.940 (best val acc: 0.000)\n",
      "Train Epoch: 0 [38400/50000 (77%)] train loss: 0.109, val loss: 0.487, val acc: 0.843 (best val acc: 0.000)\n",
      "Train Epoch: 0 [38400/50000 (77%)] train loss: 0.109, val loss: 0.180, val acc: 0.943 (best val acc: 0.000)\n",
      "Train Epoch: 0 [44800/50000 (90%)] train loss: 0.109, val loss: 0.630, val acc: 0.801 (best val acc: 0.000)\n",
      "Train Epoch: 0 [44800/50000 (90%)] train loss: 0.109, val loss: 0.174, val acc: 0.948 (best val acc: 0.000)\n",
      "In epoch 0, train loss: 0.312, val loss: 0.149, val acc: 0.954 (best val acc: 0.954))\n",
      "Train Epoch: 1 [0/50000 (0%)] train loss: 0.042, val loss: 0.567, val acc: 0.819 (best val acc: 0.954)\n",
      "Train Epoch: 1 [0/50000 (0%)] train loss: 0.042, val loss: 0.155, val acc: 0.951 (best val acc: 0.954)\n",
      "Train Epoch: 1 [6400/50000 (13%)] train loss: 0.126, val loss: 0.667, val acc: 0.794 (best val acc: 0.954)\n",
      "Train Epoch: 1 [6400/50000 (13%)] train loss: 0.126, val loss: 0.147, val acc: 0.953 (best val acc: 0.954)\n",
      "Train Epoch: 1 [12800/50000 (26%)] train loss: 0.094, val loss: 0.601, val acc: 0.812 (best val acc: 0.954)\n",
      "Train Epoch: 1 [12800/50000 (26%)] train loss: 0.094, val loss: 0.142, val acc: 0.955 (best val acc: 0.954)\n",
      "Train Epoch: 1 [19200/50000 (38%)] train loss: 0.332, val loss: 0.643, val acc: 0.804 (best val acc: 0.954)\n",
      "Train Epoch: 1 [19200/50000 (38%)] train loss: 0.332, val loss: 0.133, val acc: 0.957 (best val acc: 0.954)\n",
      "Train Epoch: 1 [25600/50000 (51%)] train loss: 0.092, val loss: 0.740, val acc: 0.781 (best val acc: 0.954)\n",
      "Train Epoch: 1 [25600/50000 (51%)] train loss: 0.092, val loss: 0.144, val acc: 0.956 (best val acc: 0.954)\n",
      "Train Epoch: 1 [32000/50000 (64%)] train loss: 0.027, val loss: 0.745, val acc: 0.782 (best val acc: 0.954)\n",
      "Train Epoch: 1 [32000/50000 (64%)] train loss: 0.027, val loss: 0.124, val acc: 0.962 (best val acc: 0.954)\n",
      "Train Epoch: 1 [38400/50000 (77%)] train loss: 0.068, val loss: 0.766, val acc: 0.771 (best val acc: 0.954)\n",
      "Train Epoch: 1 [38400/50000 (77%)] train loss: 0.068, val loss: 0.137, val acc: 0.958 (best val acc: 0.954)\n",
      "Train Epoch: 1 [44800/50000 (90%)] train loss: 0.084, val loss: 0.806, val acc: 0.766 (best val acc: 0.954)\n",
      "Train Epoch: 1 [44800/50000 (90%)] train loss: 0.084, val loss: 0.127, val acc: 0.959 (best val acc: 0.954)\n",
      "In epoch 1, train loss: 0.041, val loss: 0.121, val acc: 0.962 (best val acc: 0.962))\n"
     ]
    }
   ],
   "source": [
    "# store all the results and models\n",
    "all_val_losses = []\n",
    "all_val_accs = []\n",
    "all_val_iters = []\n",
    "curr_model = None\n",
    "\n",
    "# go over all datasets\n",
    "for idx,dataset in enumerate(perm_mnist_5[:2]):\n",
    "    # train the normal mnist first using model from scratch\n",
    "    if idx == 0:\n",
    "        print(\"=====================\")\n",
    "        print(\"train normal mnist\")\n",
    "        val_loaders = [perm_mnist_5[0][1]]\n",
    "        curr_model,_,_,val_losses,val_accs,val_iters = train(args,train_loader=perm_mnist_5[0][0],val_loaders=val_loaders)\n",
    "    else:\n",
    "        print(\"=====================\")\n",
    "        print(\"train perm mnist \",idx)\n",
    "        # then train on permuted mnist models\n",
    "        args.log_name = \"mnist_perm\"+str(idx)\n",
    "        # we want to see the validation over all past data\n",
    "        val_loaders = [perm_mnist_5[i][1] for i in range(idx+1)]\n",
    "        curr_model,train_losses,train_iters,val_losses,val_accs,val_iters = train(args,curr_model,perm_mnist_5[idx][0],val_loaders)\n",
    "    all_val_losses.append(val_losses)\n",
    "    all_val_accs.append(val_accs)\n",
    "    all_val_iters.append(val_iters)"
   ]
  },
  {
   "cell_type": "code",
   "execution_count": 18,
   "metadata": {},
   "outputs": [
    {
     "data": {
      "image/png": "[encoded data removed]",
      "text/plain": [
       "<Figure size 640x480 with 1 Axes>"
      ]
     },
     "metadata": {},
     "output_type": "display_data"
    }
   ],
   "source": [
    "accs = []\n",
    "iters = []\n",
    "for i,exp_list in enumerate(all_val_accs):\n",
    "    accs.append([])\n",
    "    iters.append([])\n",
    "    for j,exp in enumerate(exp_list):\n",
    "        accs[j].extend(exp)\n",
    "        if i == 0:\n",
    "            iters[j].extend(all_val_iters[i][j])\n",
    "        elif i != j:\n",
    "            start = iters[i-1][-1]\n",
    "            next_iter = [x+start for x in iters[i-1]]\n",
    "            iters[j].extend(next_iter)\n",
    "            if j == i-1:\n",
    "                iters[j+1].extend(next_iter)\n",
    "        else:\n",
    "            pass\n",
    "\n",
    "for idx,iter in enumerate(iters):\n",
    "    plt.plot(iter,accs[idx])"
   ]
  },
  {
   "attachments": {},
   "cell_type": "markdown",
   "metadata": {},
   "source": [
    "Load normal mnist"
   ]
  },
  {
   "cell_type": "code",
   "execution_count": 3,
   "metadata": {},
   "outputs": [
    {
     "data": {
      "text/plain": [
       "DigitClassifier(\n",
       "  (conv1): Conv2d(1, 32, kernel_size=(3, 3), stride=(1, 1))\n",
       "  (conv2): Conv2d(32, 64, kernel_size=(3, 3), stride=(1, 1))\n",
       "  (dropout1): Dropout(p=0.25, inplace=False)\n",
       "  (dropout2): Dropout(p=0.5, inplace=False)\n",
       "  (fc1): Linear(in_features=9216, out_features=128, bias=True)\n",
       "  (fc2): Linear(in_features=128, out_features=10, bias=True)\n",
       ")"
      ]
     },
     "execution_count": 3,
     "metadata": {},
     "output_type": "execute_result"
    }
   ],
   "source": [
    "model = DigitClassifier()\n",
    "checkpoint = torch.load(\"mnist_normal.pth\")\n",
    "state_dict = checkpoint['model_state_dict']\n",
    "model.load_state_dict(state_dict)\n",
    "model.eval()"
   ]
  },
  {
   "attachments": {},
   "cell_type": "markdown",
   "metadata": {},
   "source": [
    "train on permuted after normal"
   ]
  },
  {
   "cell_type": "code",
   "execution_count": 4,
   "metadata": {},
   "outputs": [
    {
     "name": "stdout",
     "output_type": "stream",
     "text": [
      "cpu\n",
      "Train Epoch: 0 [0/50000 (0%)] train loss: 4.032, val loss: 2.240, val acc: 0.182 (best val acc: 0.000)\n",
      "Train Epoch: 0 [19200/50000 (38%)] train loss: 0.075, val loss: 0.202, val acc: 0.938 (best val acc: 0.000)\n",
      "Train Epoch: 0 [38400/50000 (77%)] train loss: 0.103, val loss: 0.159, val acc: 0.950 (best val acc: 0.000)\n",
      "In epoch 0, train loss: 0.198, val loss: 0.143, val acc: 0.957 (best val acc: 0.957))\n",
      "Train Epoch: 1 [0/50000 (0%)] train loss: 0.108, val loss: 0.132, val acc: 0.959 (best val acc: 0.957)\n",
      "Train Epoch: 1 [19200/50000 (38%)] train loss: 0.179, val loss: 0.114, val acc: 0.965 (best val acc: 0.957)\n",
      "Train Epoch: 1 [38400/50000 (77%)] train loss: 0.137, val loss: 0.099, val acc: 0.970 (best val acc: 0.957)\n",
      "In epoch 1, train loss: 0.112, val loss: 0.109, val acc: 0.966 (best val acc: 0.966))\n"
     ]
    }
   ],
   "source": [
    "train_simple(perm_train_loader,perm_val_loader,args,model)"
   ]
  },
  {
   "attachments": {},
   "cell_type": "markdown",
   "metadata": {},
   "source": [
    "check forgetting"
   ]
  },
  {
   "cell_type": "code",
   "execution_count": 6,
   "metadata": {},
   "outputs": [
    {
     "data": {
      "text/plain": [
       "(0.9661, 0.10899652911126613)"
      ]
     },
     "execution_count": 6,
     "metadata": {},
     "output_type": "execute_result"
    }
   ],
   "source": [
    "model = DigitClassifier()\n",
    "checkpoint = torch.load(\"mnist_normal_perm.pth\")\n",
    "state_dict = checkpoint['model_state_dict']\n",
    "model.load_state_dict(state_dict)\n",
    "model.eval()\n",
    "validate(model,perm_val_loader,args)"
   ]
  },
  {
   "cell_type": "code",
   "execution_count": null,
   "metadata": {},
   "outputs": [],
   "source": [
    "def perturb_params(model,amnt):\n",
    "    with torch.no_grad():\n",
    "        for idx,p in enumerate(model.parameters()):\n",
    "            pert = torch.rand(p.size())\n",
    "            p += (pert/torch.norm(pert)*amnt)\n"
   ]
  },
  {
   "cell_type": "code",
   "execution_count": null,
   "metadata": {},
   "outputs": [],
   "source": [
    "losses = []\n",
    "amnts = []\n",
    "amnt = 0\n",
    "for i in range(20):\n",
    "    m = copy.deepcopy(model)\n",
    "    perturb_params(m,amnt)\n",
    "\n",
    "    losses.append(validate(m,val_loader,args))\n",
    "    amnts.append(amnt)\n",
    "    amnt += 0.025"
   ]
  },
  {
   "cell_type": "code",
   "execution_count": null,
   "metadata": {},
   "outputs": [],
   "source": [
    "print(losses)"
   ]
  },
  {
   "cell_type": "code",
   "execution_count": null,
   "metadata": {},
   "outputs": [],
   "source": [
    "ls = [l[1] for l in losses]\n",
    "accs = [a[0] for a in losses]\n",
    "\n",
    "ax1 = plt.subplot()\n",
    "l1, = ax1.plot(amnts,ls)\n",
    "ax2 = ax1.twinx()\n",
    "l2, = ax2.plot(amnts,accs,color=\"orange\")\n",
    "# plt.scatter(amnts,ls)\n",
    "# plt.scatter(amnts,accs)"
   ]
  }
 ],
 "metadata": {
  "kernelspec": {
   "display_name": "Python 3.9.13 ('cl')",
   "language": "python",
   "name": "python3"
  },
  "language_info": {
   "codemirror_mode": {
    "name": "ipython",
    "version": 3
   },
   "file_extension": ".py",
   "mimetype": "text/x-python",
   "name": "python",
   "nbconvert_exporter": "python",
   "pygments_lexer": "ipython3",
   "version": "3.9.13"
  },
  "orig_nbformat": 4,
  "vscode": {
   "interpreter": {
    "hash": "71152ab9c07ce901c8cf95cbd74fadea2c31d5b816d92473f31e695d403a1560"
   }
  }
 },
 "nbformat": 4,
 "nbformat_minor": 2
}
