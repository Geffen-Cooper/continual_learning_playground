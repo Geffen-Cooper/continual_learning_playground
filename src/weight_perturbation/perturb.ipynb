{
 "cells": [
  {
   "attachments": {},
   "cell_type": "markdown",
   "metadata": {},
   "source": [
    "Import Libraries"
   ]
  },
  {
   "cell_type": "code",
   "execution_count": 1,
   "metadata": {},
   "outputs": [
    {
     "name": "stdout",
     "output_type": "stream",
     "text": [
      "env: CUBLAS_WORKSPACE_CONFIG=:16:8\n"
     ]
    }
   ],
   "source": [
    "import argparse\n",
    "import torch\n",
    "import torch.nn as nn\n",
    "import torch.nn.functional as F\n",
    "import matplotlib.pyplot as plt\n",
    "import numpy as np\n",
    "from torch.utils.tensorboard import SummaryWriter\n",
    "import os\n",
    "import copy\n",
    "\n",
    "# our modules\n",
    "from train import *\n",
    "from models import *\n",
    "from datasets import *\n",
    "\n",
    "seed = 42\n",
    "torch.manual_seed(seed)\n",
    "import random\n",
    "random.seed(seed)\n",
    "import numpy as np\n",
    "np.random.seed(seed)\n",
    "torch.backends.cudnn.deterministic = True\n",
    "%env CUBLAS_WORKSPACE_CONFIG=:16:8"
   ]
  },
  {
   "attachments": {},
   "cell_type": "markdown",
   "metadata": {},
   "source": [
    "Training Parameters"
   ]
  },
  {
   "cell_type": "code",
   "execution_count": 2,
   "metadata": {},
   "outputs": [],
   "source": [
    "class args:\n",
    "    def __init__(self):\n",
    "        self.dataset=\"mnist\"\n",
    "        self.batch_size=64\n",
    "        self.test_batch_size=1000\n",
    "        self.device='cuda'\n",
    "        self.permuted=False\n",
    "        self.model=\"digits\"\n",
    "        self.gamma=0.7\n",
    "        self.log_name=\"mnist_normal\"\n",
    "        self.epochs=2\n",
    "        self.lr=1\n",
    "        self.log_interval=100\n",
    "    \n",
    "args = args()\n"
   ]
  },
  {
   "cell_type": "markdown",
   "metadata": {},
   "source": [
    "Load Data"
   ]
  },
  {
   "cell_type": "code",
   "execution_count": 3,
   "metadata": {},
   "outputs": [],
   "source": [
    "# first load the noraml mnist\n",
    "perm_mnist_5 = [(load_mnist(args,42))]\n",
    "\n",
    "# then append the 4 mnist permutations\n",
    "args.permuted = True\n",
    "for i in range(4):\n",
    "    perm_mnist_5.append((load_mnist(args,i)))"
   ]
  },
  {
   "cell_type": "code",
   "execution_count": 31,
   "metadata": {},
   "outputs": [
    {
     "name": "stdout",
     "output_type": "stream",
     "text": [
      "=====================\n",
      "train normal mnist\n",
      "load model from scratch\n",
      "cuda\n",
      "Train Epoch: 0 [0/50000 (0%)] train loss: 2.322, val loss: 2.302, val acc: 0.083 (best val acc: 0.000)\n",
      "Train Epoch: 0 [6400/50000 (13%)] train loss: 0.351, val loss: 0.343, val acc: 0.894 (best val acc: 0.000)\n",
      "Train Epoch: 0 [12800/50000 (26%)] train loss: 0.174, val loss: 0.189, val acc: 0.937 (best val acc: 0.000)\n",
      "Train Epoch: 0 [19200/50000 (38%)] train loss: 0.270, val loss: 0.132, val acc: 0.960 (best val acc: 0.000)\n",
      "Train Epoch: 0 [25600/50000 (51%)] train loss: 0.161, val loss: 0.116, val acc: 0.962 (best val acc: 0.000)\n",
      "Train Epoch: 0 [32000/50000 (64%)] train loss: 0.040, val loss: 0.097, val acc: 0.970 (best val acc: 0.000)\n",
      "Train Epoch: 0 [38400/50000 (77%)] train loss: 0.041, val loss: 0.091, val acc: 0.972 (best val acc: 0.000)\n",
      "Train Epoch: 0 [44800/50000 (90%)] train loss: 0.046, val loss: 0.073, val acc: 0.979 (best val acc: 0.000)\n",
      "In epoch 0, train loss: 0.157, val loss: 0.067, val acc: 0.980 (best val acc: 0.980))\n",
      "Train Epoch: 1 [0/50000 (0%)] train loss: 0.099, val loss: 0.067, val acc: 0.981 (best val acc: 0.980)\n",
      "Train Epoch: 1 [6400/50000 (13%)] train loss: 0.104, val loss: 0.072, val acc: 0.979 (best val acc: 0.980)\n",
      "Train Epoch: 1 [12800/50000 (26%)] train loss: 0.035, val loss: 0.067, val acc: 0.980 (best val acc: 0.980)\n",
      "Train Epoch: 1 [19200/50000 (38%)] train loss: 0.035, val loss: 0.061, val acc: 0.981 (best val acc: 0.980)\n",
      "Train Epoch: 1 [25600/50000 (51%)] train loss: 0.019, val loss: 0.061, val acc: 0.982 (best val acc: 0.980)\n",
      "Train Epoch: 1 [32000/50000 (64%)] train loss: 0.036, val loss: 0.051, val acc: 0.985 (best val acc: 0.980)\n",
      "Train Epoch: 1 [38400/50000 (77%)] train loss: 0.156, val loss: 0.052, val acc: 0.984 (best val acc: 0.980)\n",
      "Train Epoch: 1 [44800/50000 (90%)] train loss: 0.090, val loss: 0.052, val acc: 0.984 (best val acc: 0.980)\n",
      "In epoch 1, train loss: 0.228, val loss: 0.048, val acc: 0.986 (best val acc: 0.986))\n",
      "=====================\n",
      "train perm mnist  1\n",
      "cuda\n",
      "Train Epoch: 0 [0/50000 (0%)] train loss: 4.750, val loss: 0.066, val acc: 0.981 (best val acc: 0.000)\n",
      "Train Epoch: 0 [0/50000 (0%)] train loss: 4.750, val loss: 2.588, val acc: 0.133 (best val acc: 0.000)\n",
      "Train Epoch: 0 [6400/50000 (13%)] train loss: 0.339, val loss: 0.419, val acc: 0.866 (best val acc: 0.000)\n",
      "Train Epoch: 0 [6400/50000 (13%)] train loss: 0.339, val loss: 0.356, val acc: 0.891 (best val acc: 0.000)\n",
      "Train Epoch: 0 [12800/50000 (26%)] train loss: 0.288, val loss: 0.501, val acc: 0.833 (best val acc: 0.000)\n",
      "Train Epoch: 0 [12800/50000 (26%)] train loss: 0.288, val loss: 0.268, val acc: 0.916 (best val acc: 0.000)\n",
      "Train Epoch: 0 [19200/50000 (38%)] train loss: 0.252, val loss: 0.487, val acc: 0.834 (best val acc: 0.000)\n",
      "Train Epoch: 0 [19200/50000 (38%)] train loss: 0.252, val loss: 0.225, val acc: 0.930 (best val acc: 0.000)\n",
      "Train Epoch: 0 [25600/50000 (51%)] train loss: 0.194, val loss: 0.473, val acc: 0.839 (best val acc: 0.000)\n",
      "Train Epoch: 0 [25600/50000 (51%)] train loss: 0.194, val loss: 0.196, val acc: 0.939 (best val acc: 0.000)\n",
      "Train Epoch: 0 [32000/50000 (64%)] train loss: 0.112, val loss: 0.536, val acc: 0.820 (best val acc: 0.000)\n",
      "Train Epoch: 0 [32000/50000 (64%)] train loss: 0.112, val loss: 0.196, val acc: 0.940 (best val acc: 0.000)\n",
      "Train Epoch: 0 [38400/50000 (77%)] train loss: 0.211, val loss: 0.652, val acc: 0.784 (best val acc: 0.000)\n",
      "Train Epoch: 0 [38400/50000 (77%)] train loss: 0.211, val loss: 0.157, val acc: 0.951 (best val acc: 0.000)\n",
      "Train Epoch: 0 [44800/50000 (90%)] train loss: 0.137, val loss: 0.701, val acc: 0.770 (best val acc: 0.000)\n",
      "Train Epoch: 0 [44800/50000 (90%)] train loss: 0.137, val loss: 0.167, val acc: 0.947 (best val acc: 0.000)\n",
      "In epoch 0, train loss: 0.272, val loss: 0.151, val acc: 0.955 (best val acc: 0.955))\n",
      "Train Epoch: 1 [0/50000 (0%)] train loss: 0.135, val loss: 0.715, val acc: 0.764 (best val acc: 0.955)\n",
      "Train Epoch: 1 [0/50000 (0%)] train loss: 0.135, val loss: 0.152, val acc: 0.953 (best val acc: 0.955)\n",
      "Train Epoch: 1 [6400/50000 (13%)] train loss: 0.085, val loss: 0.725, val acc: 0.768 (best val acc: 0.955)\n",
      "Train Epoch: 1 [6400/50000 (13%)] train loss: 0.085, val loss: 0.143, val acc: 0.956 (best val acc: 0.955)\n",
      "Train Epoch: 1 [12800/50000 (26%)] train loss: 0.079, val loss: 0.885, val acc: 0.712 (best val acc: 0.955)\n",
      "Train Epoch: 1 [12800/50000 (26%)] train loss: 0.079, val loss: 0.135, val acc: 0.957 (best val acc: 0.955)\n",
      "Train Epoch: 1 [19200/50000 (38%)] train loss: 0.026, val loss: 0.928, val acc: 0.719 (best val acc: 0.955)\n",
      "Train Epoch: 1 [19200/50000 (38%)] train loss: 0.026, val loss: 0.148, val acc: 0.953 (best val acc: 0.955)\n",
      "Train Epoch: 1 [25600/50000 (51%)] train loss: 0.091, val loss: 0.787, val acc: 0.746 (best val acc: 0.955)\n",
      "Train Epoch: 1 [25600/50000 (51%)] train loss: 0.091, val loss: 0.132, val acc: 0.960 (best val acc: 0.955)\n",
      "Train Epoch: 1 [32000/50000 (64%)] train loss: 0.119, val loss: 0.725, val acc: 0.768 (best val acc: 0.955)\n",
      "Train Epoch: 1 [32000/50000 (64%)] train loss: 0.119, val loss: 0.126, val acc: 0.960 (best val acc: 0.955)\n",
      "Train Epoch: 1 [38400/50000 (77%)] train loss: 0.054, val loss: 0.816, val acc: 0.750 (best val acc: 0.955)\n",
      "Train Epoch: 1 [38400/50000 (77%)] train loss: 0.054, val loss: 0.119, val acc: 0.962 (best val acc: 0.955)\n",
      "Train Epoch: 1 [44800/50000 (90%)] train loss: 0.129, val loss: 0.865, val acc: 0.738 (best val acc: 0.955)\n",
      "Train Epoch: 1 [44800/50000 (90%)] train loss: 0.129, val loss: 0.115, val acc: 0.965 (best val acc: 0.955)\n",
      "In epoch 1, train loss: 0.333, val loss: 0.114, val acc: 0.965 (best val acc: 0.965))\n",
      "=====================\n",
      "train perm mnist  2\n",
      "cuda\n",
      "Train Epoch: 0 [0/50000 (0%)] train loss: 5.204, val loss: 0.862, val acc: 0.729 (best val acc: 0.000)\n",
      "Train Epoch: 0 [0/50000 (0%)] train loss: 5.204, val loss: 0.131, val acc: 0.958 (best val acc: 0.000)\n",
      "Train Epoch: 0 [0/50000 (0%)] train loss: 5.204, val loss: 2.745, val acc: 0.141 (best val acc: 0.000)\n",
      "Train Epoch: 0 [6400/50000 (13%)] train loss: 0.218, val loss: 1.013, val acc: 0.656 (best val acc: 0.000)\n",
      "Train Epoch: 0 [6400/50000 (13%)] train loss: 0.218, val loss: 0.540, val acc: 0.815 (best val acc: 0.000)\n",
      "Train Epoch: 0 [6400/50000 (13%)] train loss: 0.218, val loss: 0.294, val acc: 0.911 (best val acc: 0.000)\n",
      "Train Epoch: 0 [12800/50000 (26%)] train loss: 0.281, val loss: 1.053, val acc: 0.638 (best val acc: 0.000)\n",
      "Train Epoch: 0 [12800/50000 (26%)] train loss: 0.281, val loss: 0.568, val acc: 0.805 (best val acc: 0.000)\n",
      "Train Epoch: 0 [12800/50000 (26%)] train loss: 0.281, val loss: 0.249, val acc: 0.926 (best val acc: 0.000)\n",
      "Train Epoch: 0 [19200/50000 (38%)] train loss: 0.241, val loss: 1.050, val acc: 0.623 (best val acc: 0.000)\n",
      "Train Epoch: 0 [19200/50000 (38%)] train loss: 0.241, val loss: 0.533, val acc: 0.818 (best val acc: 0.000)\n",
      "Train Epoch: 0 [19200/50000 (38%)] train loss: 0.241, val loss: 0.207, val acc: 0.935 (best val acc: 0.000)\n",
      "Train Epoch: 0 [25600/50000 (51%)] train loss: 0.048, val loss: 1.075, val acc: 0.623 (best val acc: 0.000)\n",
      "Train Epoch: 0 [25600/50000 (51%)] train loss: 0.048, val loss: 0.593, val acc: 0.783 (best val acc: 0.000)\n",
      "Train Epoch: 0 [25600/50000 (51%)] train loss: 0.048, val loss: 0.178, val acc: 0.945 (best val acc: 0.000)\n",
      "Train Epoch: 0 [32000/50000 (64%)] train loss: 0.090, val loss: 1.158, val acc: 0.605 (best val acc: 0.000)\n",
      "Train Epoch: 0 [32000/50000 (64%)] train loss: 0.090, val loss: 0.611, val acc: 0.778 (best val acc: 0.000)\n",
      "Train Epoch: 0 [32000/50000 (64%)] train loss: 0.090, val loss: 0.154, val acc: 0.952 (best val acc: 0.000)\n",
      "Train Epoch: 0 [38400/50000 (77%)] train loss: 0.128, val loss: 1.282, val acc: 0.558 (best val acc: 0.000)\n",
      "Train Epoch: 0 [38400/50000 (77%)] train loss: 0.128, val loss: 0.584, val acc: 0.807 (best val acc: 0.000)\n",
      "Train Epoch: 0 [38400/50000 (77%)] train loss: 0.128, val loss: 0.160, val acc: 0.950 (best val acc: 0.000)\n",
      "Train Epoch: 0 [44800/50000 (90%)] train loss: 0.186, val loss: 1.293, val acc: 0.572 (best val acc: 0.000)\n",
      "Train Epoch: 0 [44800/50000 (90%)] train loss: 0.186, val loss: 0.654, val acc: 0.761 (best val acc: 0.000)\n",
      "Train Epoch: 0 [44800/50000 (90%)] train loss: 0.186, val loss: 0.144, val acc: 0.954 (best val acc: 0.000)\n",
      "In epoch 0, train loss: 0.315, val loss: 0.150, val acc: 0.954 (best val acc: 0.954))\n",
      "Train Epoch: 1 [0/50000 (0%)] train loss: 0.142, val loss: 1.235, val acc: 0.589 (best val acc: 0.954)\n",
      "Train Epoch: 1 [0/50000 (0%)] train loss: 0.142, val loss: 0.740, val acc: 0.720 (best val acc: 0.954)\n",
      "Train Epoch: 1 [0/50000 (0%)] train loss: 0.142, val loss: 0.148, val acc: 0.955 (best val acc: 0.954)\n",
      "Train Epoch: 1 [6400/50000 (13%)] train loss: 0.065, val loss: 1.339, val acc: 0.554 (best val acc: 0.954)\n",
      "Train Epoch: 1 [6400/50000 (13%)] train loss: 0.065, val loss: 0.729, val acc: 0.730 (best val acc: 0.954)\n",
      "Train Epoch: 1 [6400/50000 (13%)] train loss: 0.065, val loss: 0.141, val acc: 0.957 (best val acc: 0.954)\n",
      "Train Epoch: 1 [12800/50000 (26%)] train loss: 0.070, val loss: 1.169, val acc: 0.605 (best val acc: 0.954)\n",
      "Train Epoch: 1 [12800/50000 (26%)] train loss: 0.070, val loss: 0.794, val acc: 0.703 (best val acc: 0.954)\n",
      "Train Epoch: 1 [12800/50000 (26%)] train loss: 0.070, val loss: 0.138, val acc: 0.959 (best val acc: 0.954)\n",
      "Train Epoch: 1 [19200/50000 (38%)] train loss: 0.036, val loss: 1.197, val acc: 0.594 (best val acc: 0.954)\n",
      "Train Epoch: 1 [19200/50000 (38%)] train loss: 0.036, val loss: 0.647, val acc: 0.768 (best val acc: 0.954)\n",
      "Train Epoch: 1 [19200/50000 (38%)] train loss: 0.036, val loss: 0.132, val acc: 0.962 (best val acc: 0.954)\n",
      "Train Epoch: 1 [25600/50000 (51%)] train loss: 0.116, val loss: 1.469, val acc: 0.540 (best val acc: 0.954)\n",
      "Train Epoch: 1 [25600/50000 (51%)] train loss: 0.116, val loss: 0.722, val acc: 0.733 (best val acc: 0.954)\n",
      "Train Epoch: 1 [25600/50000 (51%)] train loss: 0.116, val loss: 0.128, val acc: 0.959 (best val acc: 0.954)\n",
      "Train Epoch: 1 [32000/50000 (64%)] train loss: 0.047, val loss: 1.188, val acc: 0.603 (best val acc: 0.954)\n",
      "Train Epoch: 1 [32000/50000 (64%)] train loss: 0.047, val loss: 0.829, val acc: 0.688 (best val acc: 0.954)\n",
      "Train Epoch: 1 [32000/50000 (64%)] train loss: 0.047, val loss: 0.127, val acc: 0.962 (best val acc: 0.954)\n",
      "Train Epoch: 1 [38400/50000 (77%)] train loss: 0.382, val loss: 1.068, val acc: 0.632 (best val acc: 0.954)\n",
      "Train Epoch: 1 [38400/50000 (77%)] train loss: 0.382, val loss: 0.663, val acc: 0.760 (best val acc: 0.954)\n",
      "Train Epoch: 1 [38400/50000 (77%)] train loss: 0.382, val loss: 0.126, val acc: 0.962 (best val acc: 0.954)\n",
      "Train Epoch: 1 [44800/50000 (90%)] train loss: 0.036, val loss: 1.284, val acc: 0.583 (best val acc: 0.954)\n",
      "Train Epoch: 1 [44800/50000 (90%)] train loss: 0.036, val loss: 0.738, val acc: 0.730 (best val acc: 0.954)\n",
      "Train Epoch: 1 [44800/50000 (90%)] train loss: 0.036, val loss: 0.111, val acc: 0.966 (best val acc: 0.954)\n",
      "In epoch 1, train loss: 0.006, val loss: 0.118, val acc: 0.964 (best val acc: 0.964))\n",
      "=====================\n",
      "train perm mnist  3\n",
      "cuda\n",
      "Train Epoch: 0 [0/50000 (0%)] train loss: 5.241, val loss: 1.565, val acc: 0.529 (best val acc: 0.000)\n",
      "Train Epoch: 0 [0/50000 (0%)] train loss: 5.241, val loss: 0.666, val acc: 0.768 (best val acc: 0.000)\n",
      "Train Epoch: 0 [0/50000 (0%)] train loss: 5.241, val loss: 0.114, val acc: 0.964 (best val acc: 0.000)\n",
      "Train Epoch: 0 [0/50000 (0%)] train loss: 5.241, val loss: 2.892, val acc: 0.134 (best val acc: 0.000)\n",
      "Train Epoch: 0 [6400/50000 (13%)] train loss: 0.337, val loss: 1.888, val acc: 0.443 (best val acc: 0.000)\n",
      "Train Epoch: 0 [6400/50000 (13%)] train loss: 0.337, val loss: 0.985, val acc: 0.666 (best val acc: 0.000)\n",
      "Train Epoch: 0 [6400/50000 (13%)] train loss: 0.337, val loss: 0.280, val acc: 0.916 (best val acc: 0.000)\n",
      "Train Epoch: 0 [6400/50000 (13%)] train loss: 0.337, val loss: 0.349, val acc: 0.889 (best val acc: 0.000)\n",
      "Train Epoch: 0 [12800/50000 (26%)] train loss: 0.228, val loss: 2.055, val acc: 0.440 (best val acc: 0.000)\n",
      "Train Epoch: 0 [12800/50000 (26%)] train loss: 0.228, val loss: 1.121, val acc: 0.605 (best val acc: 0.000)\n",
      "Train Epoch: 0 [12800/50000 (26%)] train loss: 0.228, val loss: 0.323, val acc: 0.897 (best val acc: 0.000)\n",
      "Train Epoch: 0 [12800/50000 (26%)] train loss: 0.228, val loss: 0.235, val acc: 0.925 (best val acc: 0.000)\n",
      "Train Epoch: 0 [19200/50000 (38%)] train loss: 0.130, val loss: 1.999, val acc: 0.438 (best val acc: 0.000)\n",
      "Train Epoch: 0 [19200/50000 (38%)] train loss: 0.130, val loss: 1.023, val acc: 0.637 (best val acc: 0.000)\n",
      "Train Epoch: 0 [19200/50000 (38%)] train loss: 0.130, val loss: 0.313, val acc: 0.902 (best val acc: 0.000)\n",
      "Train Epoch: 0 [19200/50000 (38%)] train loss: 0.130, val loss: 0.180, val acc: 0.944 (best val acc: 0.000)\n",
      "Train Epoch: 0 [25600/50000 (51%)] train loss: 0.054, val loss: 1.483, val acc: 0.533 (best val acc: 0.000)\n",
      "Train Epoch: 0 [25600/50000 (51%)] train loss: 0.054, val loss: 1.256, val acc: 0.562 (best val acc: 0.000)\n",
      "Train Epoch: 0 [25600/50000 (51%)] train loss: 0.054, val loss: 0.347, val acc: 0.887 (best val acc: 0.000)\n",
      "Train Epoch: 0 [25600/50000 (51%)] train loss: 0.054, val loss: 0.171, val acc: 0.946 (best val acc: 0.000)\n",
      "Train Epoch: 0 [32000/50000 (64%)] train loss: 0.099, val loss: 1.902, val acc: 0.444 (best val acc: 0.000)\n",
      "Train Epoch: 0 [32000/50000 (64%)] train loss: 0.099, val loss: 1.174, val acc: 0.564 (best val acc: 0.000)\n",
      "Train Epoch: 0 [32000/50000 (64%)] train loss: 0.099, val loss: 0.306, val acc: 0.903 (best val acc: 0.000)\n",
      "Train Epoch: 0 [32000/50000 (64%)] train loss: 0.099, val loss: 0.156, val acc: 0.952 (best val acc: 0.000)\n",
      "Train Epoch: 0 [38400/50000 (77%)] train loss: 0.086, val loss: 1.657, val acc: 0.494 (best val acc: 0.000)\n",
      "Train Epoch: 0 [38400/50000 (77%)] train loss: 0.086, val loss: 1.336, val acc: 0.518 (best val acc: 0.000)\n",
      "Train Epoch: 0 [38400/50000 (77%)] train loss: 0.086, val loss: 0.332, val acc: 0.891 (best val acc: 0.000)\n",
      "Train Epoch: 0 [38400/50000 (77%)] train loss: 0.086, val loss: 0.144, val acc: 0.956 (best val acc: 0.000)\n",
      "Train Epoch: 0 [44800/50000 (90%)] train loss: 0.174, val loss: 2.207, val acc: 0.391 (best val acc: 0.000)\n",
      "Train Epoch: 0 [44800/50000 (90%)] train loss: 0.174, val loss: 1.214, val acc: 0.572 (best val acc: 0.000)\n",
      "Train Epoch: 0 [44800/50000 (90%)] train loss: 0.174, val loss: 0.334, val acc: 0.893 (best val acc: 0.000)\n",
      "Train Epoch: 0 [44800/50000 (90%)] train loss: 0.174, val loss: 0.132, val acc: 0.959 (best val acc: 0.000)\n",
      "In epoch 0, train loss: 0.177, val loss: 0.145, val acc: 0.957 (best val acc: 0.957))\n",
      "Train Epoch: 1 [0/50000 (0%)] train loss: 0.046, val loss: 2.029, val acc: 0.400 (best val acc: 0.957)\n",
      "Train Epoch: 1 [0/50000 (0%)] train loss: 0.046, val loss: 1.325, val acc: 0.526 (best val acc: 0.957)\n",
      "Train Epoch: 1 [0/50000 (0%)] train loss: 0.046, val loss: 0.326, val acc: 0.894 (best val acc: 0.957)\n",
      "Train Epoch: 1 [0/50000 (0%)] train loss: 0.046, val loss: 0.145, val acc: 0.957 (best val acc: 0.957)\n",
      "Train Epoch: 1 [6400/50000 (13%)] train loss: 0.078, val loss: 2.288, val acc: 0.395 (best val acc: 0.957)\n",
      "Train Epoch: 1 [6400/50000 (13%)] train loss: 0.078, val loss: 1.383, val acc: 0.522 (best val acc: 0.957)\n",
      "Train Epoch: 1 [6400/50000 (13%)] train loss: 0.078, val loss: 0.359, val acc: 0.885 (best val acc: 0.957)\n",
      "Train Epoch: 1 [6400/50000 (13%)] train loss: 0.078, val loss: 0.133, val acc: 0.960 (best val acc: 0.957)\n",
      "Train Epoch: 1 [12800/50000 (26%)] train loss: 0.047, val loss: 2.352, val acc: 0.362 (best val acc: 0.957)\n",
      "Train Epoch: 1 [12800/50000 (26%)] train loss: 0.047, val loss: 1.322, val acc: 0.522 (best val acc: 0.957)\n",
      "Train Epoch: 1 [12800/50000 (26%)] train loss: 0.047, val loss: 0.324, val acc: 0.894 (best val acc: 0.957)\n",
      "Train Epoch: 1 [12800/50000 (26%)] train loss: 0.047, val loss: 0.137, val acc: 0.957 (best val acc: 0.957)\n",
      "Train Epoch: 1 [19200/50000 (38%)] train loss: 0.118, val loss: 2.317, val acc: 0.396 (best val acc: 0.957)\n",
      "Train Epoch: 1 [19200/50000 (38%)] train loss: 0.118, val loss: 1.303, val acc: 0.562 (best val acc: 0.957)\n",
      "Train Epoch: 1 [19200/50000 (38%)] train loss: 0.118, val loss: 0.381, val acc: 0.873 (best val acc: 0.957)\n",
      "Train Epoch: 1 [19200/50000 (38%)] train loss: 0.118, val loss: 0.128, val acc: 0.961 (best val acc: 0.957)\n",
      "Train Epoch: 1 [25600/50000 (51%)] train loss: 0.022, val loss: 2.449, val acc: 0.377 (best val acc: 0.957)\n",
      "Train Epoch: 1 [25600/50000 (51%)] train loss: 0.022, val loss: 1.341, val acc: 0.546 (best val acc: 0.957)\n",
      "Train Epoch: 1 [25600/50000 (51%)] train loss: 0.022, val loss: 0.356, val acc: 0.882 (best val acc: 0.957)\n",
      "Train Epoch: 1 [25600/50000 (51%)] train loss: 0.022, val loss: 0.123, val acc: 0.962 (best val acc: 0.957)\n",
      "Train Epoch: 1 [32000/50000 (64%)] train loss: 0.081, val loss: 2.503, val acc: 0.365 (best val acc: 0.957)\n",
      "Train Epoch: 1 [32000/50000 (64%)] train loss: 0.081, val loss: 1.243, val acc: 0.574 (best val acc: 0.957)\n",
      "Train Epoch: 1 [32000/50000 (64%)] train loss: 0.081, val loss: 0.331, val acc: 0.888 (best val acc: 0.957)\n",
      "Train Epoch: 1 [32000/50000 (64%)] train loss: 0.081, val loss: 0.113, val acc: 0.964 (best val acc: 0.957)\n",
      "Train Epoch: 1 [38400/50000 (77%)] train loss: 0.040, val loss: 2.526, val acc: 0.387 (best val acc: 0.957)\n",
      "Train Epoch: 1 [38400/50000 (77%)] train loss: 0.040, val loss: 1.446, val acc: 0.508 (best val acc: 0.957)\n",
      "Train Epoch: 1 [38400/50000 (77%)] train loss: 0.040, val loss: 0.382, val acc: 0.877 (best val acc: 0.957)\n",
      "Train Epoch: 1 [38400/50000 (77%)] train loss: 0.040, val loss: 0.120, val acc: 0.965 (best val acc: 0.957)\n",
      "Train Epoch: 1 [44800/50000 (90%)] train loss: 0.010, val loss: 2.102, val acc: 0.430 (best val acc: 0.957)\n",
      "Train Epoch: 1 [44800/50000 (90%)] train loss: 0.010, val loss: 1.407, val acc: 0.508 (best val acc: 0.957)\n",
      "Train Epoch: 1 [44800/50000 (90%)] train loss: 0.010, val loss: 0.360, val acc: 0.882 (best val acc: 0.957)\n",
      "Train Epoch: 1 [44800/50000 (90%)] train loss: 0.010, val loss: 0.120, val acc: 0.964 (best val acc: 0.957)\n",
      "In epoch 1, train loss: 0.072, val loss: 0.113, val acc: 0.966 (best val acc: 0.966))\n",
      "=====================\n",
      "train perm mnist  4\n",
      "cuda\n",
      "Train Epoch: 0 [0/50000 (0%)] train loss: 5.326, val loss: 2.566, val acc: 0.332 (best val acc: 0.000)\n",
      "Train Epoch: 0 [0/50000 (0%)] train loss: 5.326, val loss: 1.139, val acc: 0.586 (best val acc: 0.000)\n",
      "Train Epoch: 0 [0/50000 (0%)] train loss: 5.326, val loss: 0.314, val acc: 0.902 (best val acc: 0.000)\n",
      "Train Epoch: 0 [0/50000 (0%)] train loss: 5.326, val loss: 0.113, val acc: 0.965 (best val acc: 0.000)\n",
      "Train Epoch: 0 [0/50000 (0%)] train loss: 5.326, val loss: 2.930, val acc: 0.119 (best val acc: 0.000)\n",
      "Train Epoch: 0 [6400/50000 (13%)] train loss: 0.198, val loss: 2.107, val acc: 0.317 (best val acc: 0.000)\n",
      "Train Epoch: 0 [6400/50000 (13%)] train loss: 0.198, val loss: 1.694, val acc: 0.441 (best val acc: 0.000)\n",
      "Train Epoch: 0 [6400/50000 (13%)] train loss: 0.198, val loss: 0.721, val acc: 0.775 (best val acc: 0.000)\n",
      "Train Epoch: 0 [6400/50000 (13%)] train loss: 0.198, val loss: 0.239, val acc: 0.932 (best val acc: 0.000)\n",
      "Train Epoch: 0 [6400/50000 (13%)] train loss: 0.198, val loss: 0.265, val acc: 0.922 (best val acc: 0.000)\n",
      "Train Epoch: 0 [12800/50000 (26%)] train loss: 0.322, val loss: 2.661, val acc: 0.222 (best val acc: 0.000)\n",
      "Train Epoch: 0 [12800/50000 (26%)] train loss: 0.322, val loss: 1.911, val acc: 0.403 (best val acc: 0.000)\n",
      "Train Epoch: 0 [12800/50000 (26%)] train loss: 0.322, val loss: 0.919, val acc: 0.687 (best val acc: 0.000)\n",
      "Train Epoch: 0 [12800/50000 (26%)] train loss: 0.322, val loss: 0.274, val acc: 0.919 (best val acc: 0.000)\n",
      "Train Epoch: 0 [12800/50000 (26%)] train loss: 0.322, val loss: 0.216, val acc: 0.934 (best val acc: 0.000)\n",
      "Train Epoch: 0 [19200/50000 (38%)] train loss: 0.289, val loss: 2.597, val acc: 0.233 (best val acc: 0.000)\n",
      "Train Epoch: 0 [19200/50000 (38%)] train loss: 0.289, val loss: 1.617, val acc: 0.448 (best val acc: 0.000)\n",
      "Train Epoch: 0 [19200/50000 (38%)] train loss: 0.289, val loss: 0.809, val acc: 0.723 (best val acc: 0.000)\n",
      "Train Epoch: 0 [19200/50000 (38%)] train loss: 0.289, val loss: 0.253, val acc: 0.926 (best val acc: 0.000)\n",
      "Train Epoch: 0 [19200/50000 (38%)] train loss: 0.289, val loss: 0.168, val acc: 0.949 (best val acc: 0.000)\n",
      "Train Epoch: 0 [25600/50000 (51%)] train loss: 0.300, val loss: 2.405, val acc: 0.270 (best val acc: 0.000)\n",
      "Train Epoch: 0 [25600/50000 (51%)] train loss: 0.300, val loss: 1.952, val acc: 0.385 (best val acc: 0.000)\n",
      "Train Epoch: 0 [25600/50000 (51%)] train loss: 0.300, val loss: 0.830, val acc: 0.717 (best val acc: 0.000)\n",
      "Train Epoch: 0 [25600/50000 (51%)] train loss: 0.300, val loss: 0.281, val acc: 0.917 (best val acc: 0.000)\n",
      "Train Epoch: 0 [25600/50000 (51%)] train loss: 0.300, val loss: 0.176, val acc: 0.947 (best val acc: 0.000)\n",
      "Train Epoch: 0 [32000/50000 (64%)] train loss: 0.101, val loss: 2.641, val acc: 0.239 (best val acc: 0.000)\n",
      "Train Epoch: 0 [32000/50000 (64%)] train loss: 0.101, val loss: 2.040, val acc: 0.365 (best val acc: 0.000)\n",
      "Train Epoch: 0 [32000/50000 (64%)] train loss: 0.101, val loss: 1.011, val acc: 0.648 (best val acc: 0.000)\n",
      "Train Epoch: 0 [32000/50000 (64%)] train loss: 0.101, val loss: 0.303, val acc: 0.909 (best val acc: 0.000)\n",
      "Train Epoch: 0 [32000/50000 (64%)] train loss: 0.101, val loss: 0.156, val acc: 0.952 (best val acc: 0.000)\n",
      "Train Epoch: 0 [38400/50000 (77%)] train loss: 0.065, val loss: 2.608, val acc: 0.259 (best val acc: 0.000)\n",
      "Train Epoch: 0 [38400/50000 (77%)] train loss: 0.065, val loss: 1.970, val acc: 0.385 (best val acc: 0.000)\n",
      "Train Epoch: 0 [38400/50000 (77%)] train loss: 0.065, val loss: 0.923, val acc: 0.684 (best val acc: 0.000)\n",
      "Train Epoch: 0 [38400/50000 (77%)] train loss: 0.065, val loss: 0.279, val acc: 0.915 (best val acc: 0.000)\n",
      "Train Epoch: 0 [38400/50000 (77%)] train loss: 0.065, val loss: 0.139, val acc: 0.958 (best val acc: 0.000)\n",
      "Train Epoch: 0 [44800/50000 (90%)] train loss: 0.051, val loss: 2.711, val acc: 0.233 (best val acc: 0.000)\n",
      "Train Epoch: 0 [44800/50000 (90%)] train loss: 0.051, val loss: 2.014, val acc: 0.397 (best val acc: 0.000)\n",
      "Train Epoch: 0 [44800/50000 (90%)] train loss: 0.051, val loss: 1.029, val acc: 0.648 (best val acc: 0.000)\n",
      "Train Epoch: 0 [44800/50000 (90%)] train loss: 0.051, val loss: 0.335, val acc: 0.894 (best val acc: 0.000)\n",
      "Train Epoch: 0 [44800/50000 (90%)] train loss: 0.051, val loss: 0.135, val acc: 0.959 (best val acc: 0.000)\n",
      "In epoch 0, train loss: 0.292, val loss: 0.126, val acc: 0.961 (best val acc: 0.961))\n",
      "Train Epoch: 1 [0/50000 (0%)] train loss: 0.024, val loss: 3.212, val acc: 0.203 (best val acc: 0.961)\n",
      "Train Epoch: 1 [0/50000 (0%)] train loss: 0.024, val loss: 1.826, val acc: 0.408 (best val acc: 0.961)\n",
      "Train Epoch: 1 [0/50000 (0%)] train loss: 0.024, val loss: 0.917, val acc: 0.683 (best val acc: 0.961)\n",
      "Train Epoch: 1 [0/50000 (0%)] train loss: 0.024, val loss: 0.295, val acc: 0.917 (best val acc: 0.961)\n",
      "Train Epoch: 1 [0/50000 (0%)] train loss: 0.024, val loss: 0.128, val acc: 0.961 (best val acc: 0.961)\n",
      "Train Epoch: 1 [6400/50000 (13%)] train loss: 0.158, val loss: 3.157, val acc: 0.214 (best val acc: 0.961)\n",
      "Train Epoch: 1 [6400/50000 (13%)] train loss: 0.158, val loss: 2.031, val acc: 0.371 (best val acc: 0.961)\n",
      "Train Epoch: 1 [6400/50000 (13%)] train loss: 0.158, val loss: 0.894, val acc: 0.690 (best val acc: 0.961)\n",
      "Train Epoch: 1 [6400/50000 (13%)] train loss: 0.158, val loss: 0.282, val acc: 0.915 (best val acc: 0.961)\n",
      "Train Epoch: 1 [6400/50000 (13%)] train loss: 0.158, val loss: 0.124, val acc: 0.960 (best val acc: 0.961)\n",
      "Train Epoch: 1 [12800/50000 (26%)] train loss: 0.035, val loss: 2.700, val acc: 0.248 (best val acc: 0.961)\n",
      "Train Epoch: 1 [12800/50000 (26%)] train loss: 0.035, val loss: 2.083, val acc: 0.392 (best val acc: 0.961)\n",
      "Train Epoch: 1 [12800/50000 (26%)] train loss: 0.035, val loss: 1.021, val acc: 0.653 (best val acc: 0.961)\n",
      "Train Epoch: 1 [12800/50000 (26%)] train loss: 0.035, val loss: 0.336, val acc: 0.893 (best val acc: 0.961)\n",
      "Train Epoch: 1 [12800/50000 (26%)] train loss: 0.035, val loss: 0.124, val acc: 0.960 (best val acc: 0.961)\n",
      "Train Epoch: 1 [19200/50000 (38%)] train loss: 0.244, val loss: 2.778, val acc: 0.259 (best val acc: 0.961)\n",
      "Train Epoch: 1 [19200/50000 (38%)] train loss: 0.244, val loss: 2.103, val acc: 0.377 (best val acc: 0.961)\n",
      "Train Epoch: 1 [19200/50000 (38%)] train loss: 0.244, val loss: 1.007, val acc: 0.660 (best val acc: 0.961)\n",
      "Train Epoch: 1 [19200/50000 (38%)] train loss: 0.244, val loss: 0.309, val acc: 0.903 (best val acc: 0.961)\n",
      "Train Epoch: 1 [19200/50000 (38%)] train loss: 0.244, val loss: 0.113, val acc: 0.965 (best val acc: 0.961)\n",
      "Train Epoch: 1 [25600/50000 (51%)] train loss: 0.065, val loss: 3.862, val acc: 0.188 (best val acc: 0.961)\n",
      "Train Epoch: 1 [25600/50000 (51%)] train loss: 0.065, val loss: 1.990, val acc: 0.418 (best val acc: 0.961)\n",
      "Train Epoch: 1 [25600/50000 (51%)] train loss: 0.065, val loss: 0.970, val acc: 0.673 (best val acc: 0.961)\n",
      "Train Epoch: 1 [25600/50000 (51%)] train loss: 0.065, val loss: 0.307, val acc: 0.903 (best val acc: 0.961)\n",
      "Train Epoch: 1 [25600/50000 (51%)] train loss: 0.065, val loss: 0.126, val acc: 0.963 (best val acc: 0.961)\n",
      "Train Epoch: 1 [32000/50000 (64%)] train loss: 0.011, val loss: 3.927, val acc: 0.198 (best val acc: 0.961)\n",
      "Train Epoch: 1 [32000/50000 (64%)] train loss: 0.011, val loss: 2.411, val acc: 0.364 (best val acc: 0.961)\n",
      "Train Epoch: 1 [32000/50000 (64%)] train loss: 0.011, val loss: 1.180, val acc: 0.626 (best val acc: 0.961)\n",
      "Train Epoch: 1 [32000/50000 (64%)] train loss: 0.011, val loss: 0.350, val acc: 0.885 (best val acc: 0.961)\n",
      "Train Epoch: 1 [32000/50000 (64%)] train loss: 0.011, val loss: 0.119, val acc: 0.964 (best val acc: 0.961)\n",
      "Train Epoch: 1 [38400/50000 (77%)] train loss: 0.042, val loss: 3.781, val acc: 0.191 (best val acc: 0.961)\n",
      "Train Epoch: 1 [38400/50000 (77%)] train loss: 0.042, val loss: 1.990, val acc: 0.404 (best val acc: 0.961)\n",
      "Train Epoch: 1 [38400/50000 (77%)] train loss: 0.042, val loss: 1.077, val acc: 0.640 (best val acc: 0.961)\n",
      "Train Epoch: 1 [38400/50000 (77%)] train loss: 0.042, val loss: 0.321, val acc: 0.899 (best val acc: 0.961)\n",
      "Train Epoch: 1 [38400/50000 (77%)] train loss: 0.042, val loss: 0.126, val acc: 0.963 (best val acc: 0.961)\n",
      "Train Epoch: 1 [44800/50000 (90%)] train loss: 0.018, val loss: 3.771, val acc: 0.203 (best val acc: 0.961)\n",
      "Train Epoch: 1 [44800/50000 (90%)] train loss: 0.018, val loss: 2.314, val acc: 0.363 (best val acc: 0.961)\n",
      "Train Epoch: 1 [44800/50000 (90%)] train loss: 0.018, val loss: 1.095, val acc: 0.637 (best val acc: 0.961)\n",
      "Train Epoch: 1 [44800/50000 (90%)] train loss: 0.018, val loss: 0.302, val acc: 0.904 (best val acc: 0.961)\n",
      "Train Epoch: 1 [44800/50000 (90%)] train loss: 0.018, val loss: 0.111, val acc: 0.965 (best val acc: 0.961)\n",
      "In epoch 1, train loss: 0.034, val loss: 0.108, val acc: 0.967 (best val acc: 0.967))\n"
     ]
    }
   ],
   "source": [
    "# store all the results and models\n",
    "all_val_losses = []\n",
    "all_val_accs = []\n",
    "all_val_iters = []\n",
    "curr_model = None\n",
    "\n",
    "# go over all datasets\n",
    "for idx,dataset in enumerate(perm_mnist_5):\n",
    "    # train the normal mnist first using model from scratch\n",
    "    if idx == 0:\n",
    "        print(\"=====================\")\n",
    "        print(\"train normal mnist\")\n",
    "        val_loaders = [perm_mnist_5[0][1]]\n",
    "        curr_model,_,_,val_losses,val_accs,val_iters = train(args,train_loader=perm_mnist_5[0][0],val_loaders=val_loaders)\n",
    "    else:\n",
    "        print(\"=====================\")\n",
    "        print(\"train perm mnist \",idx)\n",
    "        # then train on permuted mnist models\n",
    "        args.log_name = \"mnist_perm\"+str(idx)\n",
    "        # we want to see the validation over all past data\n",
    "        val_loaders = [perm_mnist_5[i][1] for i in range(idx+1)]\n",
    "        curr_model,train_losses,train_iters,val_losses,val_accs,val_iters = train(args,curr_model,perm_mnist_5[idx][0],val_loaders)\n",
    "    all_val_losses.append(val_losses)\n",
    "    all_val_accs.append(val_accs)\n",
    "    all_val_iters.append(val_iters)"
   ]
  },
  {
   "cell_type": "code",
   "execution_count": 32,
   "metadata": {},
   "outputs": [
    {
     "name": "stdout",
     "output_type": "stream",
     "text": [
      "3128\n"
     ]
    },
    {
     "data": {
      "image/png": "[encoded data removed]",
      "text/plain": [
       "<Figure size 640x480 with 1 Axes>"
      ]
     },
     "metadata": {},
     "output_type": "display_data"
    }
   ],
   "source": [
    "accs = []\n",
    "iters = []\n",
    "for i,exp_list in enumerate(all_val_accs):\n",
    "    accs.append([])\n",
    "    iters.append([])\n",
    "    for j,exp in enumerate(exp_list):\n",
    "        accs[j].extend(exp)\n",
    "        if i == 0:\n",
    "            iters[j].extend(all_val_iters[i][j])\n",
    "        elif i != j:\n",
    "            if i == 2 and j == 0:\n",
    "                print(iters[i-1][-1])\n",
    "            start = iters[i-1][-1]\n",
    "            next_iter = [x+start for x in all_val_iters[i][j]]\n",
    "            iters[j].extend(next_iter)\n",
    "            if j == i-1:\n",
    "                iters[j+1].extend(next_iter)\n",
    "        else:\n",
    "            pass\n",
    "\n",
    "for idx,iter in enumerate(iters):\n",
    "    plt.plot(iter,accs[idx])"
   ]
  },
  {
   "cell_type": "code",
   "execution_count": 28,
   "metadata": {},
   "outputs": [
    {
     "name": "stdout",
     "output_type": "stream",
     "text": [
      "[[0, 100, 200, 300, 400, 500, 600, 700, 782, 782, 882, 982, 1082, 1182, 1282, 1382, 1482, 1564, 1564, 1664, 1764, 1864, 1964, 2064, 2164, 2264, 2346, 2346, 2446, 2546, 2646, 2746, 2846, 2946, 3046, 3128, 4692, 4792, 4892, 4992, 5092, 5192, 5292, 5392, 5474, 5474, 5574, 5674, 5774, 5874, 5974, 6074, 6174, 6256], [1564, 1664, 1764, 1864, 1964, 2064, 2164, 2264, 2346, 2346, 2446, 2546, 2646, 2746, 2846, 2946, 3046, 3128, 4692, 4792, 4892, 4992, 5092, 5192, 5292, 5392, 5474, 5474, 5574, 5674, 5774, 5874, 5974, 6074, 6174, 6256], [4692, 4792, 4892, 4992, 5092, 5192, 5292, 5392, 5474, 5474, 5574, 5674, 5774, 5874, 5974, 6074, 6174, 6256]]\n"
     ]
    }
   ],
   "source": [
    "print(iters)"
   ]
  },
  {
   "attachments": {},
   "cell_type": "markdown",
   "metadata": {},
   "source": [
    "Load normal mnist"
   ]
  },
  {
   "cell_type": "code",
   "execution_count": 3,
   "metadata": {},
   "outputs": [
    {
     "data": {
      "text/plain": [
       "DigitClassifier(\n",
       "  (conv1): Conv2d(1, 32, kernel_size=(3, 3), stride=(1, 1))\n",
       "  (conv2): Conv2d(32, 64, kernel_size=(3, 3), stride=(1, 1))\n",
       "  (dropout1): Dropout(p=0.25, inplace=False)\n",
       "  (dropout2): Dropout(p=0.5, inplace=False)\n",
       "  (fc1): Linear(in_features=9216, out_features=128, bias=True)\n",
       "  (fc2): Linear(in_features=128, out_features=10, bias=True)\n",
       ")"
      ]
     },
     "execution_count": 3,
     "metadata": {},
     "output_type": "execute_result"
    }
   ],
   "source": [
    "model = DigitClassifier()\n",
    "checkpoint = torch.load(\"mnist_normal.pth\")\n",
    "state_dict = checkpoint['model_state_dict']\n",
    "model.load_state_dict(state_dict)\n",
    "model.eval()"
   ]
  },
  {
   "attachments": {},
   "cell_type": "markdown",
   "metadata": {},
   "source": [
    "train on permuted after normal"
   ]
  },
  {
   "cell_type": "code",
   "execution_count": 4,
   "metadata": {},
   "outputs": [
    {
     "name": "stdout",
     "output_type": "stream",
     "text": [
      "cpu\n",
      "Train Epoch: 0 [0/50000 (0%)] train loss: 4.032, val loss: 2.240, val acc: 0.182 (best val acc: 0.000)\n",
      "Train Epoch: 0 [19200/50000 (38%)] train loss: 0.075, val loss: 0.202, val acc: 0.938 (best val acc: 0.000)\n",
      "Train Epoch: 0 [38400/50000 (77%)] train loss: 0.103, val loss: 0.159, val acc: 0.950 (best val acc: 0.000)\n",
      "In epoch 0, train loss: 0.198, val loss: 0.143, val acc: 0.957 (best val acc: 0.957))\n",
      "Train Epoch: 1 [0/50000 (0%)] train loss: 0.108, val loss: 0.132, val acc: 0.959 (best val acc: 0.957)\n",
      "Train Epoch: 1 [19200/50000 (38%)] train loss: 0.179, val loss: 0.114, val acc: 0.965 (best val acc: 0.957)\n",
      "Train Epoch: 1 [38400/50000 (77%)] train loss: 0.137, val loss: 0.099, val acc: 0.970 (best val acc: 0.957)\n",
      "In epoch 1, train loss: 0.112, val loss: 0.109, val acc: 0.966 (best val acc: 0.966))\n"
     ]
    }
   ],
   "source": [
    "train_simple(perm_train_loader,perm_val_loader,args,model)"
   ]
  },
  {
   "attachments": {},
   "cell_type": "markdown",
   "metadata": {},
   "source": [
    "check forgetting"
   ]
  },
  {
   "cell_type": "code",
   "execution_count": 6,
   "metadata": {},
   "outputs": [
    {
     "data": {
      "text/plain": [
       "(0.9661, 0.10899652911126613)"
      ]
     },
     "execution_count": 6,
     "metadata": {},
     "output_type": "execute_result"
    }
   ],
   "source": [
    "model = DigitClassifier()\n",
    "checkpoint = torch.load(\"mnist_normal_perm.pth\")\n",
    "state_dict = checkpoint['model_state_dict']\n",
    "model.load_state_dict(state_dict)\n",
    "model.eval()\n",
    "validate(model,perm_val_loader,args)"
   ]
  },
  {
   "cell_type": "code",
   "execution_count": null,
   "metadata": {},
   "outputs": [],
   "source": [
    "def perturb_params(model,amnt):\n",
    "    with torch.no_grad():\n",
    "        for idx,p in enumerate(model.parameters()):\n",
    "            pert = torch.rand(p.size())\n",
    "            p += (pert/torch.norm(pert)*amnt)\n"
   ]
  },
  {
   "cell_type": "code",
   "execution_count": null,
   "metadata": {},
   "outputs": [],
   "source": [
    "losses = []\n",
    "amnts = []\n",
    "amnt = 0\n",
    "for i in range(20):\n",
    "    m = copy.deepcopy(model)\n",
    "    perturb_params(m,amnt)\n",
    "\n",
    "    losses.append(validate(m,val_loader,args))\n",
    "    amnts.append(amnt)\n",
    "    amnt += 0.025"
   ]
  },
  {
   "cell_type": "code",
   "execution_count": null,
   "metadata": {},
   "outputs": [],
   "source": [
    "print(losses)"
   ]
  },
  {
   "cell_type": "code",
   "execution_count": null,
   "metadata": {},
   "outputs": [],
   "source": [
    "ls = [l[1] for l in losses]\n",
    "accs = [a[0] for a in losses]\n",
    "\n",
    "ax1 = plt.subplot()\n",
    "l1, = ax1.plot(amnts,ls)\n",
    "ax2 = ax1.twinx()\n",
    "l2, = ax2.plot(amnts,accs,color=\"orange\")\n",
    "# plt.scatter(amnts,ls)\n",
    "# plt.scatter(amnts,accs)"
   ]
  }
 ],
 "metadata": {
  "kernelspec": {
   "display_name": "Python 3.9.13 ('cl')",
   "language": "python",
   "name": "python3"
  },
  "language_info": {
   "codemirror_mode": {
    "name": "ipython",
    "version": 3
   },
   "file_extension": ".py",
   "mimetype": "text/x-python",
   "name": "python",
   "nbconvert_exporter": "python",
   "pygments_lexer": "ipython3",
   "version": "3.9.13"
  },
  "orig_nbformat": 4,
  "vscode": {
   "interpreter": {
    "hash": "71152ab9c07ce901c8cf95cbd74fadea2c31d5b816d92473f31e695d403a1560"
   }
  }
 },
 "nbformat": 4,
 "nbformat_minor": 2
}
